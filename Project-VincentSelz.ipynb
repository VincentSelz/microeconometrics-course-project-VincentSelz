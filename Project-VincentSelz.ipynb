{
 "cells": [
  {
   "cell_type": "markdown",
   "metadata": {},
   "source": [
    "--- \n",
    "Project Microeconometrics | Summer 2020, M.Sc. Economics, University of Bonn | [Vincent Selz](https://github.com/VincentSelz)\n",
    "\n",
    "# Replication of “A Structural Analysis of Disappointment Aversion in a Real Effort Competition” by David Gill and Victoria Prowse (2012) <a class=\"tocSkip\"> \n",
    "---"
   ]
  },
  {
   "cell_type": "markdown",
   "metadata": {},
   "source": [
    "### Miscellaneous <a class=\"tocSkip\">\n",
    "\n",
    "In this notebook, I replicate the findings of \n",
    "\n",
    "\n",
    "> Gill, David, and Victoria Prowse. 2012. A Structural Analysis of Disappointment Aversion in a Real Effort Competition. *American Economic Review*, 102 (1): 469-503.\n",
    "\n",
    "\n",
    "The original paper and the corresponding data and code can be found [here](https://www.aeaweb.org/articles?id=10.1257/aer.102.1.469). For their analysis, the authors use Stata and Matlab. \n",
    "\n",
    "There are three ways to view this notebook:\n",
    "\n",
    "* Recommended, is to clone the repository and to locally view it via jupyter notebook. The other options might have trouble to render the images correctly.\n",
    "\n",
    "* The notebook can be inspected with mybinder. By clicking [here](https://mybinder.org/v2/gh/HumanCapitalAnalysis/microeconometrics-course-project-VincentSelz/master?urlpath=https%3A%2F%2Fgithub.com%2FHumanCapitalAnalysis%2Fmicroeconometrics-course-project-VincentSelz%2Fblob%2Fmaster%2FProject-VincentSelz.ipynb) or via clicking on the respective badge in the repository.\n",
    "\n",
    "* Functionality with nbviewer is provided [here](https://nbviewer.jupyter.org/github/HumanCapitalAnalysis/microeconometrics-course-project-VincentSelz/blob/master/Project-VincentSelz.ipynb).\n",
    "\n",
    "\n",
    "\n",
    "Aside, from the accompanying text, the results are labelled into three categories:\n",
    "\n",
    "<div class=\"alert alert-block alert-success\">\n",
    "    <b>Successful replication:</b> All the results are replicated.\n",
    "</div>\n",
    "<div class=\"alert alert-block alert-info\">\n",
    "    <b>Extension:</b> The results of the paper are expanded.\n",
    "</div>\n",
    "<div class=\"alert alert-block alert-warning\">\n",
    "    <b>Notes:</b> Pointers to the workflow.\n",
    "</div>"
   ]
  },
  {
   "cell_type": "markdown",
   "metadata": {
    "toc": true
   },
   "source": [
    "<h1>Table of Contents<span class=\"tocSkip\"></span></h1>\n",
    "<div class=\"toc\"><ul class=\"toc-item\"><li><span><a href=\"#Introduction\" data-toc-modified-id=\"Introduction-1\"><span class=\"toc-item-num\">1&nbsp;&nbsp;</span>Introduction</a></span></li><li><span><a href=\"#Experimental-Design\" data-toc-modified-id=\"Experimental-Design-2\"><span class=\"toc-item-num\">2&nbsp;&nbsp;</span>Experimental Design</a></span><ul class=\"toc-item\"><li><span><a href=\"#Slider-Task\" data-toc-modified-id=\"Slider-Task-2.1\"><span class=\"toc-item-num\">2.1&nbsp;&nbsp;</span>Slider Task</a></span></li><li><span><a href=\"#Experimental-Procedure\" data-toc-modified-id=\"Experimental-Procedure-2.2\"><span class=\"toc-item-num\">2.2&nbsp;&nbsp;</span>Experimental Procedure</a></span></li></ul></li><li><span><a href=\"#Theoretical-Predictions\" data-toc-modified-id=\"Theoretical-Predictions-3\"><span class=\"toc-item-num\">3&nbsp;&nbsp;</span>Theoretical Predictions</a></span><ul class=\"toc-item\"><li><span><a href=\"#Canonical-Model\" data-toc-modified-id=\"Canonical-Model-3.1\"><span class=\"toc-item-num\">3.1&nbsp;&nbsp;</span>Canonical Model</a></span></li><li><span><a href=\"#Disappointment-Aversion\" data-toc-modified-id=\"Disappointment-Aversion-3.2\"><span class=\"toc-item-num\">3.2&nbsp;&nbsp;</span>Disappointment Aversion</a></span></li></ul></li><li><span><a href=\"#Identification-Strategy\" data-toc-modified-id=\"Identification-Strategy-4\"><span class=\"toc-item-num\">4&nbsp;&nbsp;</span>Identification Strategy</a></span></li><li><span><a href=\"#Empirical-Results\" data-toc-modified-id=\"Empirical-Results-5\"><span class=\"toc-item-num\">5&nbsp;&nbsp;</span>Empirical Results</a></span><ul class=\"toc-item\"><li><span><a href=\"#Data-Exploration\" data-toc-modified-id=\"Data-Exploration-5.1\"><span class=\"toc-item-num\">5.1&nbsp;&nbsp;</span>Data Exploration</a></span></li><li><span><a href=\"#Reduced-Form-Analysis\" data-toc-modified-id=\"Reduced-Form-Analysis-5.2\"><span class=\"toc-item-num\">5.2&nbsp;&nbsp;</span>Reduced Form Analysis</a></span><ul class=\"toc-item\"><li><span><a href=\"#Model\" data-toc-modified-id=\"Model-5.2.1\"><span class=\"toc-item-num\">5.2.1&nbsp;&nbsp;</span>Model</a></span></li><li><span><a href=\"#Results\" data-toc-modified-id=\"Results-5.2.2\"><span class=\"toc-item-num\">5.2.2&nbsp;&nbsp;</span>Results</a></span></li><li><span><a href=\"#Fixed-vs.-Random-Effects\" data-toc-modified-id=\"Fixed-vs.-Random-Effects-5.2.3\"><span class=\"toc-item-num\">5.2.3&nbsp;&nbsp;</span>Fixed vs. Random Effects</a></span></li><li><span><a href=\"#Further-Investigation\" data-toc-modified-id=\"Further-Investigation-5.2.4\"><span class=\"toc-item-num\">5.2.4&nbsp;&nbsp;</span>Further Investigation</a></span></li></ul></li><li><span><a href=\"#Structural-Model\" data-toc-modified-id=\"Structural-Model-5.3\"><span class=\"toc-item-num\">5.3&nbsp;&nbsp;</span>Structural Model</a></span><ul class=\"toc-item\"><li><span><a href=\"#Empirical-Specification\" data-toc-modified-id=\"Empirical-Specification-5.3.1\"><span class=\"toc-item-num\">5.3.1&nbsp;&nbsp;</span>Empirical Specification</a></span></li><li><span><a href=\"#Method-of-Simulated-Moments\" data-toc-modified-id=\"Method-of-Simulated-Moments-5.3.2\"><span class=\"toc-item-num\">5.3.2&nbsp;&nbsp;</span>Method of Simulated Moments</a></span></li><li><span><a href=\"#Empirical-Moments\" data-toc-modified-id=\"Empirical-Moments-5.3.3\"><span class=\"toc-item-num\">5.3.3&nbsp;&nbsp;</span>Empirical Moments</a></span></li><li><span><a href=\"#Weighting-Matrix\" data-toc-modified-id=\"Weighting-Matrix-5.3.4\"><span class=\"toc-item-num\">5.3.4&nbsp;&nbsp;</span>Weighting Matrix</a></span></li><li><span><a href=\"#Simulation\" data-toc-modified-id=\"Simulation-5.3.5\"><span class=\"toc-item-num\">5.3.5&nbsp;&nbsp;</span>Simulation</a></span></li></ul></li></ul></li><li><span><a href=\"#Critical-Assessment\" data-toc-modified-id=\"Critical-Assessment-6\"><span class=\"toc-item-num\">6&nbsp;&nbsp;</span>Critical Assessment</a></span></li><li><span><a href=\"#Appendix\" data-toc-modified-id=\"Appendix-7\"><span class=\"toc-item-num\">7&nbsp;&nbsp;</span>Appendix</a></span><ul class=\"toc-item\"><li><span><a href=\"#Effort-Distribution-Per-Round\" data-toc-modified-id=\"Effort-Distribution-Per-Round-7.1\"><span class=\"toc-item-num\">7.1&nbsp;&nbsp;</span>Effort Distribution Per Round</a></span></li><li><span><a href=\"#Prize-Distribution\" data-toc-modified-id=\"Prize-Distribution-7.2\"><span class=\"toc-item-num\">7.2&nbsp;&nbsp;</span>Prize Distribution</a></span></li><li><span><a href=\"#Moment-Computation-Specifications\" data-toc-modified-id=\"Moment-Computation-Specifications-7.3\"><span class=\"toc-item-num\">7.3&nbsp;&nbsp;</span>Moment Computation Specifications</a></span></li></ul></li><li><span><a href=\"#References\" data-toc-modified-id=\"References-8\"><span class=\"toc-item-num\">8&nbsp;&nbsp;</span>References</a></span></li></ul></div>"
   ]
  },
  {
   "cell_type": "code",
   "execution_count": 128,
   "metadata": {
    "scrolled": true
   },
   "outputs": [
    {
     "name": "stdout",
     "output_type": "stream",
     "text": [
      "The rpy2.ipython extension is already loaded. To reload it, use:\n",
      "  %reload_ext rpy2.ipython\n",
      "The autoreload extension is already loaded. To reload it, use:\n",
      "  %reload_ext autoreload\n"
     ]
    }
   ],
   "source": [
    "%load_ext rpy2.ipython\n",
    "%load_ext autoreload\n",
    "%autoreload 2\n",
    "%matplotlib inline\n",
    "\n",
    "\n",
    "from datetime import datetime\n",
    "from IPython.display import HTML\n",
    "from IPython.display import display\n",
    "from linearmodels.panel import PanelOLS\n",
    "from scipy.stats import chisquare\n",
    "import numpy as np\n",
    "import pandas as pd\n",
    "import pandas.io.formats.style\n",
    "import respy as rp\n",
    "import scipy.stats as stats\n",
    "import seaborn as sns\n",
    "import matplotlib as plt\n",
    "import matplotlib.pyplot as pyplt\n",
    "\n",
    "from auxiliary.helper import *\n",
    "from auxiliary.msm import *\n",
    "from auxiliary.overview import *\n",
    "from auxiliary.simulation import *\n",
    "\n",
    "# Displays floats only to the third decimal \n",
    "pd.set_option(\"display.precision\", 3)\n",
    "pd.set_option('display.max_colwidth', -1)"
   ]
  },
  {
   "cell_type": "code",
   "execution_count": 129,
   "metadata": {
    "scrolled": true
   },
   "outputs": [],
   "source": [
    "%%R\n",
    "\n",
    "library(plm)\n",
    "library(haven)\n",
    "library(msm)\n",
    "library(stargazer)\n",
    "library(car)"
   ]
  },
  {
   "cell_type": "markdown",
   "metadata": {},
   "source": [
    "---\n",
    "# Introduction \n",
    "---\n",
    "Gill & Prowse (2012) use a real effort tournament in a laboratory experiment to test experimentally whether agents are disappointment averse. Pairs of subjects need to complete a real effort task sequentially. The payoff is determined by a lottery, where the probababilities of winning are linear in the difference in the agent's efforts. Hence, in the standard framework, the effort of the *First Mover* should not impact the choice of effort for the *Second Mover*. Yet, as predicted by Gill & Prowse's model of disappointment aversion, subjects exhibit a discouragement effect, where high effort by the *First Mover*, impacts the effort by the *Second Mover* negatively. Their effort choices are strategic substitutes.\n",
    "\n",
    "Gill & Prowse (2012) use a reduced form **random effects panel regression** to estimate potential effects. Given the substantial variation induced by their experimental design, they subsequently use the **Method of Simulated Moments (MSM)** to estimate the parameters of a structural model of disappointment aversion. This structural models allows them to estimate the strength of disappointment aversion on average but also to estimate the extent of heterogeneity in disappointment aversion across the population. \n",
    "\n",
    "This notebook will attempt to replicate the results of Gill & Prowse (2012) and will further add extensions in data exploration and the reduced form analysis. If possible Python is used to replicate the findings, yet if not possible R is used. For instance, the random effects regression with the common Python packages did yield close results but did not reproduce the same numbers reported in the paper. Unfortunately, I was not capable to reproduce the results of the structural estimation. Nonetheless, the steps taken towards the estimation of structural model are outlined. For this implementation, the documentation by [respy](https://respy.readthedocs.io/en/latest/) is closely followed. \n",
    "\n",
    "In the following section, the experimental design is shown. Next, the identification strategy is discussed, followed by the theoretical predictions. Then, the empirical analysis and extension thereof are shown. Lastly, the paper will be critically assessed."
   ]
  },
  {
   "cell_type": "markdown",
   "metadata": {},
   "source": [
    "---\n",
    "#  Experimental Design\n",
    "---\n",
    "The six experimental session took place from late February to early March 2009 at the Nuffield Centre for Experimental Social Sciences (CESS) in Oxford. Per session twenty subjects participated in the study, leading to a subject pool of 120 participants in total. Each of them were paid a show-up fee of 4 pounds and went on to earn a further 10 pounds on average.  \n",
    "\n",
    "## Slider Task \n",
    "\n",
    "The slider task consists of a single screen displaying numerous sliders. The number and position of sliders is not varied across subjects or across repetition of the task. At first, the sliders who range from 0 to 100 are placed at 0. It is possible to place the slider at every integer position between 0 and 100. The integer position is displaced next to the slider. The sliders can be adjusted and readjusted an unlimited number of times. The task for the subjects is to position as many sliders as possible at 50 during the time allocated to the subject. The number of sliders positioned at 50 constitutes the **points score**. The points score and the time remaining is displayed to the subject. In this experiment, 48 sliders were displayed and the subjects had 120 seconds to position them. Below, the schematic representation illustrates the task at hand. \n",
    "\n",
    "<img width=75% alt=\"Something went wrong! Here should arepresantion of a slider be.\" src=\"files/ProwseGillSliderTask.png\">\n",
    "\n",
    "## Experimental Procedure\n",
    "\n",
    "Each session consists of 10 *First Movers* and 10 *Second Movers*, who stay in their role for the duration of their session. After two practice rounds, the subjects played 10 paying rounds. The prize for each pair was drawn randomly from {0.10,0.20,...3.90} and then revealed to the pair members. The task was completed sequentially, where the *Second Mover* observes the points score of the First Mover. This information is also displayed next to the alloted time and the own points score during the task. The probability to win the ensuing lottery is determined by\n",
    "\n",
    "\\begin{equation*}\n",
    "P_i(e_i,e_j) = \\frac{e_i - e_j + 50}{100}\n",
    "\\end{equation*}\n",
    "\n",
    "were $e_i$ in this setting corresponds to the points score of player $i$, and respectively $e_j$ for player $j$. Henceforth, effort is used synonymously to the points score. This use of the term is unlike the traditional literature, where effort is the associated cost of action. Here, it directly corresponds to the behavior\n",
    "\n",
    "After each round the subjects were paired with another subjects. To ensure that subjects never meet each other, the *'no contagion'* matching algorithm by Cooper et al. (1996) is used. This prevents strategic action by the subjects, where they collude by decreasing their efforts. In fact, zero effort by both subjects yields the social optimum. "
   ]
  },
  {
   "cell_type": "markdown",
   "metadata": {},
   "source": [
    "---\n",
    "# Theoretical Predictions\n",
    "---\n",
    "\n",
    "The paired subjects compete with each other to win a fixed prize $v$. First, the first movers works at the slider task and subsequently the second mover chooses his effort. Together the above stated probability to winning prize $v$ is determined. The probabilities are linear in the difference of points scores. For their analysis, the authors only focus on the Second Mover. This leaves them with a pure optimization problem.    \n",
    "\n",
    "## Canonical Model\n",
    "\n",
    "For the canonical model to work, the separability assumption common in tournament literature is used. The assumption states that the utility $U_{2}$ can be separated into the *material utility* $u_{2}(y_{2})$ and the cost of effort $C(e_{2})$. This implies cost of effort does not depend on whether the agent wins the prize and the valuation of the prize does not change with increasing effort. This leaves the agent with the expected utility:\n",
    "\n",
    "\\begin{equation*}\n",
    "EU_2(e_2,e_1) = P_2(e_2,e_1)u_2(v) + (1 - P_2(e_1,e_2)) u_2(0) - C_2(e_2)\n",
    "\\end{equation*}\n",
    "\n",
    "Because of the linearity of the winning probabilities in the difference of efforts, the effort $e_1$ of the First Mover has no impact on the Second Mover's effort $e_2$. This leads to the proposition:\n",
    "\n",
    "**PROPOSITION 1:** *In the canonical model without disappointment aversion the Second Mover’s optimal effort $e_2$ (or set of optimal efforts) does not depend on the First Mover’s effort $e_1$.*\n",
    "\n",
    "The relative lack of further structural assumptions makes this model malleable. For instance, the results still holds when risk aversion, inequity aversion (Fehr and Schmidt 1999) or a fixed reference point are webbed into the utility function. \n",
    "\n",
    "## Disappointment Aversion\n",
    "\n",
    "The basis of the model of disappointment aversion is that agents are sensitive to deviations from their expectations.  They suffer a psychological loss when they receive less than what they expect and experience elation when they receive more. For instance, an employee feels disappointed by a raise because she expected the raise to be bigger. These potential psychological losses and gains, in turn, inform the agent in her decision process.\n",
    "\n",
    "The agent compares the material utility $u_2(y_2)$ to a reference point $R_2$. She is experiencing a loss when the material utility is less than the reference point and joy when the material utility is above this reference level.  Without further assumptions on the form of this reference point $R_2$, this leaves the agent with the following utility\n",
    "\n",
    "\\begin{equation*}\n",
    "U_2(e_2,R_2,e_1) = u_2(y_2) + I_{u_2(y_2) \\geq R_2}G_2(u_2(y_2) - R_2) + I_{u_2(y_2) \\leq R_2}L_2(u_2(y_2) - R_2) - C_2(e_2)\n",
    "\\end{equation*}\n",
    "\n",
    "The loss function $L_2(x)$ is strictly negative for all $x < 0$ and the gain function is $G_2(x) \\geq 0$ for $x > 0$. Loss aversion dictates that $G_2(x) < |L_2(-x)|$ for all $x > 0$. The losses are more painful than equal-sized gains are pleasurable. Traditionally, this reference point is set exogenously. Yet, such a fixed reference point does not link the First Mover effort to the Second Mover effort. To model disappointment aversion the reference point must be formed endogenously. Köszegi and Rabin (2007) propose a *choice-acclimating* reference point, where the reference point is equal to the expected utility. In this implementation the reference point is dependent on the effort of both the Second Mover herself and the First Mover's effort. In contrast to the model by Köszegi and Rabin, the Second Mover is aware that her effort choice affects the reference point when optimizing her behavior. In this setting this leads to $R_2 = vP_2(e_2,e_1)$. This step is crucial to allow for a possible discouragement effect. \n",
    "\n",
    "As is custom in the literature piece-wise linearity is imposed on the gain-loss utility. $l_2$ is the slope of the loss function and $g_2$ is the slope of the gain function. Loss aversion imposes $l_2 > g_2$ and leads to the (strictly positive) definition of the strength of disappointment aversion\n",
    "\n",
    "\\begin{equation*}\n",
    "\\lambda_2 \\equiv l_2 - g_2.\n",
    "\\end{equation*}\n",
    "\n",
    "Thus, the disappointment averse expected utility can be formulated as \n",
    "\n",
    "\\begin{equation*}\n",
    "EU_2(e_2,e_1) = P_2 v + g_2(v - vP_2) + (1 - P_2)(0 + l_2(0 + vP_2) - C_2(e_2) \\\\\n",
    "= vP_2 - \\lambda_2vP_2(1 - P_2) - C_2(e_2) \n",
    "\\end{equation*}\n",
    "\n",
    "The extra term in the middle of the equation is coined the **disappointment deficit** by the authors. This disappointment deficit is proportional to the variance of the Second Mover's two-point distribution of monetary payoffs. Due to disappointment aversion, the Second Mover dislikes variance in her monetary payoff. This is a key distinction to risk aversion, where agents only care about their probability of winning and not about the variance in their potential payoffs. This variance is strictly concave and maximized at $P_2$. When the efforts yield a zero probability for the Second Mover to win, she has a reference point of zero and combined with the probability she can never be disappointed. Yet at this point, small increases in probability lead to large increases in the variance of monetary payoffs. These increases get smaller but continue until $P_2 = \\frac{1}{2}$. At this point the variance reaches its highest point. From this point on increases in $P_2$ reduce the variance of monetary payoffs. This relationship can expressed as: \n",
    "\n",
    "**PROPOSITION 2:** *When the Second Mover is disappointment averse, higher First Mover effort discourages the Second Mover: the Second Mover’s optimal effort $e_2$ is always (weakly) decreasing in the First Mover’s effort $e_1$.*\n",
    "\n",
    "In order to derive an analytical expression, the authors assume a quadratic cost of effort of the form \n",
    "\n",
    "\\begin{equation*}\n",
    "C_2(e_2) = be_2 + \\frac{ce_{2}^{2}}{2}.\n",
    "\\end{equation*}\n",
    "\n",
    "With this term the Second Mover's reaction function can be expressed. \n",
    "\n",
    "**PROPOSITION 3:** *Suppose a disappointment averse Second Mover has a quadratic cost function and a strictly concave objective function, i.e., $\\gamma_2c_2 − \\lambda_2v > 0$. When the action space is continuous, the slope of the Second Mover’s reaction function in the interior is given by*\n",
    "\n",
    "\\begin{equation*}\n",
    "\\frac{de_2}{de_1} = \\frac{-\\lambda_2v}{2\\gamma^2c - \\lambda_2v} < 0.\n",
    "\\end{equation*}\n",
    "\n",
    "*which becomes strictly more negative in the strength of disappointment aversion $\\lambda_2$ and the value of the prize $v$. When the action space is discrete, the discrete analog of the reaction function behaves similarly.*\n",
    "\n"
   ]
  },
  {
   "cell_type": "markdown",
   "metadata": {},
   "source": [
    "---\n",
    "# Identification Strategy\n",
    "---\n",
    "In their paper Gill and Prowse aim to evaluate whether subjects exhibit disappointment aversion. In order to do that, they set up the aforementioned laboratory experiment. The causal graph below illustrates their identification strategy. We can assume that the effort of the Second Mover's $e_2$ is affected by the value of the prize $v$, the effort of the First Mover $e_1$. In addition to that there can be learning throughout the ten played periods. Strictly speaking this term is inaccurate, since it actually captures to very different ideas of learning. First, the learning of the Slider Task, where the agent improves his/her performance by experience. But second, there can be meta-learning, where the agent gets more selective under which conditions she exerts effort. \n",
    "\n",
    "![ERROR:Something went wrong. Here should be a causal graph](files/AdvancedCausalGraph.png)\n",
    "Figure 2: Causal Graph (This graph is drawn with [draw.io](https://app.diagrams.net/).)\n",
    "\n",
    "The advantages of an laboratory experiment are evident in the identification strategy by the authors. As the experimenters have total control of the environmental variables, they can randomize all those links, making for a straightforward identification strategy. The prizes are drawn from a uniform distribution between 0.10 and 3.90 Pounds (with 0.10-steps) . This variation also has advantages in the construction of structural equations as will be seen later. The ten playing rounds make it possible to control for individual specific effects and the matching algorithm ensures that there is no feedback back from the Second Mover effort to the First Mover, thus eliminating possible strategic interaction. The learning effect can be, albeit imperfectly, controlled for with round dummies. Thus, all channels can effectively be controlled for.  "
   ]
  },
  {
   "cell_type": "markdown",
   "metadata": {},
   "source": [
    "---\n",
    "# Empirical Results\n",
    "---\n",
    "## Data Exploration\n",
    "\n",
    "Before we are turning to the empirical analysis to estimate the strength of disappointment aversion, we can visually inspect the data to see why the authors pursue their empirical strategy. The data consists of 120 subjects, 60 First and 60 Second Mover that are all observed over 10 rounds. Of the 120 subjects, one subject failed to correctly position any slider during the training or playing rounds. The dataset excluding this subject is called **df_2_pref** and is used mainly for the analysis. The points score is interpreted as the effort choice by the subject. Although still discrete, this gives them a finely gradated measure of effort.\n",
    "\n",
    "The variable of interest is the Second Mover's effort and, thus, the authors are performing a conditional analysis of the Second Mover's effort choice. Their reasoning is that this analysis is sufficient for the purpose of identifying and estimating the strength of disappointment aversion. Including the First Mover's effort would make further assumptions necessary and increase the computational complexity substantially. "
   ]
  },
  {
   "cell_type": "markdown",
   "metadata": {},
   "source": [
    "<div class=\"alert alert-block alert-success\">\n",
    "    <b>Replication</b> of Table 1 of the paper.\n",
    "</div>"
   ]
  },
  {
   "cell_type": "code",
   "execution_count": 130,
   "metadata": {
    "scrolled": false
   },
   "outputs": [
    {
     "name": "stdout",
     "output_type": "stream",
     "text": [
      "Table 1: Summary of the First and Second Mover efforts\n"
     ]
    },
    {
     "data": {
      "text/html": [
       "<div>\n",
       "<style scoped>\n",
       "    .dataframe tbody tr th:only-of-type {\n",
       "        vertical-align: middle;\n",
       "    }\n",
       "\n",
       "    .dataframe tbody tr th {\n",
       "        vertical-align: top;\n",
       "    }\n",
       "\n",
       "    .dataframe thead th {\n",
       "        text-align: right;\n",
       "    }\n",
       "</style>\n",
       "<table border=\"1\" class=\"dataframe\">\n",
       "  <thead>\n",
       "    <tr style=\"text-align: right;\">\n",
       "      <th></th>\n",
       "      <th>Mean E1</th>\n",
       "      <th>SD E1</th>\n",
       "      <th>Mean E2</th>\n",
       "      <th>SD E2</th>\n",
       "      <th>Min E1</th>\n",
       "      <th>Min E2</th>\n",
       "      <th>Max E1</th>\n",
       "      <th>Max E2</th>\n",
       "    </tr>\n",
       "    <tr>\n",
       "      <th>period</th>\n",
       "      <th></th>\n",
       "      <th></th>\n",
       "      <th></th>\n",
       "      <th></th>\n",
       "      <th></th>\n",
       "      <th></th>\n",
       "      <th></th>\n",
       "      <th></th>\n",
       "    </tr>\n",
       "  </thead>\n",
       "  <tbody>\n",
       "    <tr>\n",
       "      <th>1</th>\n",
       "      <td>22.034</td>\n",
       "      <td>5.991</td>\n",
       "      <td>21.763</td>\n",
       "      <td>6.101</td>\n",
       "      <td>1</td>\n",
       "      <td>0</td>\n",
       "      <td>33</td>\n",
       "      <td>34</td>\n",
       "    </tr>\n",
       "    <tr>\n",
       "      <th>2</th>\n",
       "      <td>22.627</td>\n",
       "      <td>6.708</td>\n",
       "      <td>23.458</td>\n",
       "      <td>4.836</td>\n",
       "      <td>0</td>\n",
       "      <td>11</td>\n",
       "      <td>33</td>\n",
       "      <td>33</td>\n",
       "    </tr>\n",
       "    <tr>\n",
       "      <th>3</th>\n",
       "      <td>24.763</td>\n",
       "      <td>6.075</td>\n",
       "      <td>24.831</td>\n",
       "      <td>4.875</td>\n",
       "      <td>0</td>\n",
       "      <td>12</td>\n",
       "      <td>37</td>\n",
       "      <td>38</td>\n",
       "    </tr>\n",
       "    <tr>\n",
       "      <th>4</th>\n",
       "      <td>24.627</td>\n",
       "      <td>5.956</td>\n",
       "      <td>25.203</td>\n",
       "      <td>4.502</td>\n",
       "      <td>0</td>\n",
       "      <td>16</td>\n",
       "      <td>35</td>\n",
       "      <td>36</td>\n",
       "    </tr>\n",
       "    <tr>\n",
       "      <th>5</th>\n",
       "      <td>24.966</td>\n",
       "      <td>6.800</td>\n",
       "      <td>25.119</td>\n",
       "      <td>5.660</td>\n",
       "      <td>0</td>\n",
       "      <td>0</td>\n",
       "      <td>36</td>\n",
       "      <td>35</td>\n",
       "    </tr>\n",
       "    <tr>\n",
       "      <th>6</th>\n",
       "      <td>24.729</td>\n",
       "      <td>7.508</td>\n",
       "      <td>24.898</td>\n",
       "      <td>7.039</td>\n",
       "      <td>1</td>\n",
       "      <td>0</td>\n",
       "      <td>37</td>\n",
       "      <td>39</td>\n",
       "    </tr>\n",
       "    <tr>\n",
       "      <th>7</th>\n",
       "      <td>25.881</td>\n",
       "      <td>5.855</td>\n",
       "      <td>25.763</td>\n",
       "      <td>6.109</td>\n",
       "      <td>9</td>\n",
       "      <td>0</td>\n",
       "      <td>37</td>\n",
       "      <td>37</td>\n",
       "    </tr>\n",
       "    <tr>\n",
       "      <th>8</th>\n",
       "      <td>26.831</td>\n",
       "      <td>5.858</td>\n",
       "      <td>26.169</td>\n",
       "      <td>5.133</td>\n",
       "      <td>9</td>\n",
       "      <td>14</td>\n",
       "      <td>41</td>\n",
       "      <td>35</td>\n",
       "    </tr>\n",
       "    <tr>\n",
       "      <th>9</th>\n",
       "      <td>25.593</td>\n",
       "      <td>8.550</td>\n",
       "      <td>26.254</td>\n",
       "      <td>6.702</td>\n",
       "      <td>0</td>\n",
       "      <td>0</td>\n",
       "      <td>38</td>\n",
       "      <td>40</td>\n",
       "    </tr>\n",
       "    <tr>\n",
       "      <th>10</th>\n",
       "      <td>26.322</td>\n",
       "      <td>6.781</td>\n",
       "      <td>26.729</td>\n",
       "      <td>5.988</td>\n",
       "      <td>1</td>\n",
       "      <td>0</td>\n",
       "      <td>40</td>\n",
       "      <td>39</td>\n",
       "    </tr>\n",
       "  </tbody>\n",
       "</table>\n",
       "</div>"
      ],
      "text/plain": [
       "        Mean E1  SD E1  Mean E2  SD E2  Min E1  Min E2  Max E1  Max E2\n",
       "period                                                                \n",
       "1       22.034   5.991  21.763   6.101  1       0       33      34    \n",
       "2       22.627   6.708  23.458   4.836  0       11      33      33    \n",
       "3       24.763   6.075  24.831   4.875  0       12      37      38    \n",
       "4       24.627   5.956  25.203   4.502  0       16      35      36    \n",
       "5       24.966   6.800  25.119   5.660  0       0       36      35    \n",
       "6       24.729   7.508  24.898   7.039  1       0       37      39    \n",
       "7       25.881   5.855  25.763   6.109  9       0       37      37    \n",
       "8       26.831   5.858  26.169   5.133  9       14      41      35    \n",
       "9       25.593   8.550  26.254   6.702  0       0       38      40    \n",
       "10      26.322   6.781  26.729   5.988  1       0       40      39    "
      ]
     },
     "execution_count": 130,
     "metadata": {},
     "output_type": "execute_result"
    }
   ],
   "source": [
    "df_1, df_2, df_2_pref = get_datasets()\n",
    "rslt = effort_overview(df_2_pref)\n",
    "print('Table 1: Summary of the First and Second Mover efforts')\n",
    "rslt"
   ]
  },
  {
   "cell_type": "markdown",
   "metadata": {},
   "source": [
    "One important inference that can be made is that the maximum of effort is 41 correctly positioned sliders. This is lower than the highest possible maximum of 48 sliders. If, subjects reached this limit, this would suggest that the task is not well suited to identify exerted effort. Another inference that can be made is that the effort choices increase over the rounds, suggesting that learning indeed takes place. "
   ]
  },
  {
   "cell_type": "markdown",
   "metadata": {},
   "source": [
    "<div class=\"alert alert-block alert-info\">\n",
    "<b>Note:</b> The following graphs and charts are extensions to the paper.\n",
    "</div>"
   ]
  },
  {
   "cell_type": "code",
   "execution_count": 131,
   "metadata": {
    "scrolled": false
   },
   "outputs": [
    {
     "data": {
      "text/plain": [
       "<matplotlib.axes._subplots.AxesSubplot at 0x7ffbcb720e10>"
      ]
     },
     "execution_count": 131,
     "metadata": {},
     "output_type": "execute_result"
    },
    {
     "data": {
      "image/png": "[encoded data removed]",
      "text/plain": [
       "<Figure size 720x360 with 1 Axes>"
      ]
     },
     "metadata": {
      "needs_background": "light"
     },
     "output_type": "display_data"
    }
   ],
   "source": [
    "effort_chart(rslt)"
   ]
  },
  {
   "cell_type": "markdown",
   "metadata": {},
   "source": [
    "This chart visualizes Table 1 of the paper. The black bar is indicating the standard deviation of the respective means. Clearly, there appears to be no clear distinction between $e_2$ and $e_1$, when simply inspecting these descriptives. Averages effort are increasing from about 22 correctly positioned sliders to more than 26 over the playing rounds. A closer look at the effort distribution per round shows (Appendix) that there is some variation and a non-neglible amount of subjects are choosing zero effort. Yet, the distribution do appear to behave approximately normal.\n",
    "\n",
    "However, we are also interested in how the effort of the Second Movers respond to the different prizes. This is shown below. Canonically, the increase in incentives increases the willingness to exert effort. This would mainfest itself in a strictly monotonous relationship for each individuals. Given prizes are randomly distributed, this should also hold globally. However, this cannot be observed here, suggesting that there are other effects than the monetary incentive at play.  "
   ]
  },
  {
   "cell_type": "code",
   "execution_count": 132,
   "metadata": {
    "scrolled": true
   },
   "outputs": [
    {
     "data": {
      "image/png": "[encoded data removed]",
      "text/plain": [
       "<Figure size 432x288 with 1 Axes>"
      ]
     },
     "metadata": {
      "needs_background": "light"
     },
     "output_type": "display_data"
    },
    {
     "name": "stdout",
     "output_type": "stream",
     "text": [
      "Figure 4: Average Second Mover Efforts Per Prize Level \n",
      "\n",
      "The correlation between Prize and Second Mover effort is 0.026\n"
     ]
    }
   ],
   "source": [
    "pyplt.plot(df_2_pref.groupby('prize')['e2'].mean())\n",
    "pyplt.xlabel('Prize')\n",
    "pyplt.ylabel('Average Second Mover Effort')\n",
    "pyplt.show()\n",
    "print('Figure 4: Average Second Mover Efforts Per Prize Level \\n')\n",
    "stat = df_2_pref['e2'].corr(df_2_pref['prize'])\n",
    "print(f'The correlation between Prize and Second Mover effort is {stat:0.3f}')"
   ]
  },
  {
   "cell_type": "code",
   "execution_count": 133,
   "metadata": {
    "scrolled": false
   },
   "outputs": [
    {
     "data": {
      "text/plain": [
       "<seaborn.axisgrid.JointGrid at 0x7ffbc0b7a610>"
      ]
     },
     "execution_count": 133,
     "metadata": {},
     "output_type": "execute_result"
    },
    {
     "data": {
      "image/png": "[encoded data removed]",
      "text/plain": [
       "<Figure size 432x432 with 3 Axes>"
      ]
     },
     "metadata": {
      "needs_background": "light"
     },
     "output_type": "display_data"
    }
   ],
   "source": [
    "joint_effort(df_2_pref)"
   ]
  },
  {
   "cell_type": "markdown",
   "metadata": {},
   "source": [
    "As mentioned above, the link the authors want to investigate is whether the effort $e_1$ of the First Mover negatively impacts the choice of effort $e_2$ made by the Second Mover. A naive strategy checks for the correlation between those two effort choices. Where disappointment aversion predicts a negative relationship, the canonical model suggest that there is no link between the effort choices. The correlation indicates that there is little to no correlation, and if at all, the effort choices are positively correlated. This positive relationship is suggested by peer effects (Falk and Ichino 2006), where subjects imitate the behavior of their peers and compete by matching or beating the observed effort levels. \n",
    "\n",
    "Naturally, this is an insufficient analysis without controlling for any of the other effects on Second Mover effort described in the identification strategy. Next, the authors use a reduced form analysis to examine the Second Mover's behavior.   "
   ]
  },
  {
   "cell_type": "markdown",
   "metadata": {},
   "source": [
    "## Reduced Form Analysis"
   ]
  },
  {
   "cell_type": "markdown",
   "metadata": {},
   "source": [
    "### Model\n",
    "\n",
    "Each subject plays ten round resulting in data with a panel structure. Here, proposition 1 predicts that when controlling for prize and round effects, the effort of the Second Mover will not depend on the First Mover's effort. In contrast, disappointment aversion predicts a negative relationship. The model to be estimated is:\n",
    "\\begin{equation}\n",
    "e_{2,n,r} = \\beta_1 + \\beta_2v_{n,r} + \\beta_3e_{1,n,r} + \\beta_4e_{1,n,r}  *  v_{n,r} + d_r + \\omega_n + \\epsilon_{n,r} \n",
    "\\end{equation}\n",
    "\n",
    "for   n = 1,...,N and r = 1,...10. Where n denotes the Second Mover and r indicates the paying round. The inclusion of the interaction term is informed by Proposition 3, where the negative effect of the First Mover's effort is larger at higher prizes. Round dummies $d_r$ are included with the first round being the omitted dummy. The round-invariant Second Mover effects is denoted by $\\omega_n$ and is assumed to be identically and independently distributed over Second Movers with a variance of $\\sigma_\\omega^2$. $\\epsilon_{n,r}$ is an observable that varies over Second Movers, it is also assumed to be identically and independently distributed over rounds and Second Movers with variance $\\sigma_\\epsilon^2$."
   ]
  },
  {
   "cell_type": "markdown",
   "metadata": {},
   "source": [
    "<div class=\"alert alert-block alert-warning\">\n",
    "<b>Note:</b> In the following cells the analysis with R is set up. R is used because using RandomEffects of the linearmodels package does not reproduce the results.  \n",
    "</div>"
   ]
  },
  {
   "cell_type": "code",
   "execution_count": 134,
   "metadata": {
    "scrolled": true
   },
   "outputs": [],
   "source": [
    "%%R\n",
    "\n",
    "# import data \n",
    "df <- read_dta(\"data/paper_data/master_data.dta\")\n",
    "\n",
    "# convert the data frame to a data format recognizable by 'plm' \n",
    "pdf <- subset(pdata.frame(df, index = c(\"Subject\", \"Period\")))\n",
    "pdf_pref <- subset(pdf, !Subject==302)"
   ]
  },
  {
   "cell_type": "code",
   "execution_count": 135,
   "metadata": {
    "scrolled": true
   },
   "outputs": [],
   "source": [
    "%%R\n",
    "\n",
    "# Random Effects Regressions\n",
    "re <- plm(Effort~e1+prize+E1timesPrize+TT2+TT3+TT4+TT5+TT6+TT7+TT8+TT9+TT10, data = pdf, model = \"random\")\n",
    "re_pref <- plm(Effort~e1+prize+E1timesPrize+TT2+TT3+TT4+TT5+TT6+TT7+TT8+TT9+TT10, data = pdf_pref, model = \"random\")\n",
    "# Fixed Effects Regressions\n",
    "fe <- plm(Effort~e1+prize+E1timesPrize+TT2+TT3+TT4+TT5+TT6+TT7+TT8+TT9+TT10, data = pdf, model = \"within\")\n",
    "fe_pref <- plm(Effort~e1+prize+E1timesPrize+TT2+TT3+TT4+TT5+TT6+TT7+TT8+TT9+TT10, data = pdf_pref, model = \"within\")\n",
    "\n",
    "# Standard Errors of Omega and Epsilon\n",
    "pref_1 <- round(sqrt(re_pref$ercomp$sigma2[2]),digits=3)\n",
    "pref_2 <- round(sqrt(re_pref$ercomp$sigma2[1]),digits=3)\n",
    "se_re_1 <- round(sqrt(re$ercomp$sigma2[2]),digits=3)\n",
    "se_re_2 <- round(sqrt(re$ercomp$sigma2[1]),digits=3)\n"
   ]
  },
  {
   "cell_type": "markdown",
   "metadata": {},
   "source": [
    "### Results"
   ]
  },
  {
   "cell_type": "markdown",
   "metadata": {},
   "source": [
    "<div class=\"alert alert-block alert-success\">\n",
    "    <b>Replication</b> of the parameters and standard errors in Table 2 of the paper.\n",
    "</div>"
   ]
  },
  {
   "cell_type": "markdown",
   "metadata": {},
   "source": [
    "For this model, the theory suggests three hypotheses:\n",
    "\n",
    "* Second Mover effort does **not** depend on the corresponding First Mover effort, controlling for prize and round effects **(Proposition 1)**.\n",
    "\n",
    "* Second Mover effort, in fact, depends on the respective First Mover effort, with controls for prize and round effects **(Proposition 2)**.\n",
    "\n",
    "* The negative effect of the First Mover's effort on the Second Mover's effort is larger at higher prices **(Proposition 3)**."
   ]
  },
  {
   "cell_type": "code",
   "execution_count": 136,
   "metadata": {
    "scrolled": false
   },
   "outputs": [
    {
     "name": "stdout",
     "output_type": "stream",
     "text": [
      "\n",
      "Table 2: Random Effects Regressions\n",
      "=======================================================\n",
      "                               Dependent variable:     \n",
      "                           ----------------------------\n",
      "                               Second Mover Effort     \n",
      "                           Preferred Sample Full Sample\n",
      "                                 (1)            (2)    \n",
      "-------------------------------------------------------\n",
      "First Mover Effort              0.044          0.047   \n",
      "                               (0.049)        (0.049)  \n",
      "Prize                          1.639***      1.655***  \n",
      "                               (0.602)        (0.592)  \n",
      "Prize x First Mover effort     -0.049**      -0.050**  \n",
      "                               (0.023)        (0.023)  \n",
      "TT2                            1.689**        1.655**  \n",
      "                               (0.709)        (0.699)  \n",
      "TT3                            3.084***      3.034***  \n",
      "                               (0.713)        (0.702)  \n",
      "TT4                            3.448***      3.369***  \n",
      "                               (0.713)        (0.702)  \n",
      "TT5                            3.322***      3.279***  \n",
      "                               (0.714)        (0.703)  \n",
      "TT6                            3.262***      3.193***  \n",
      "                               (0.713)        (0.701)  \n",
      "TT7                            4.123***      4.043***  \n",
      "                               (0.716)        (0.705)  \n",
      "TT8                            4.567***      4.487***  \n",
      "                               (0.720)        (0.709)  \n",
      "TT9                            4.709***      4.632***  \n",
      "                               (0.716)        (0.704)  \n",
      "TT10                           5.180***      5.066***  \n",
      "                               (0.725)        (0.712)  \n",
      "Constant                      19.777***      19.392*** \n",
      "                               (1.400)        (1.447)  \n",
      "-------------------------------------------------------\n",
      "Standard Error of Omega         4.288          5.342   \n",
      "Standard Error of Epsilon       3.852          3.826   \n",
      "Observations                     590            600    \n",
      "R2                              0.137          0.135   \n",
      "Adjusted R2                     0.119          0.117   \n",
      "F Statistic                   91.452***      91.268*** \n",
      "=======================================================\n",
      "Note:                       *p<0.1; **p<0.05; ***p<0.01\n"
     ]
    }
   ],
   "source": [
    "%%R\n",
    "\n",
    "stargazer(re_pref, re, type=\"text\", title=\"Table 2: Random Effects Regressions\",\n",
    "          dep.var.labels=\"Second Mover Effort\",\n",
    "          #omit=c(\"TT2\",\"TT3\",\"TT4\",\"TT5\",\"TT6\",\"TT7\",\"TT8\",\"TT9\",\"TT10\"), # unchecking this gives the coefficients reported in the paper.\n",
    "          covariate.labels=c(\"First Mover Effort\", \"Prize\", \"Prize x First Mover effort\"),\n",
    "          column.labels=c(\"Preferred Sample\", \"Full Sample\"),\n",
    "          add.lines = list(\n",
    "            c(\"Standard Error of Omega\", pref_1 , se_re_1),\n",
    "            c(\"Standard Error of Epsilon\",pref_2,se_re_2)),\n",
    "          no.space=TRUE)"
   ]
  },
  {
   "cell_type": "markdown",
   "metadata": {},
   "source": [
    "Proposition 3 can be accepted, the interaction between the First Mover's effort and the prize is significantly negative, suggesting that the effect of the First Mover's effort is larger at higher prices. Furthermore, the interaction term (at the average price) and the First Mover effort together are negative, albeit not significant. This supports Proposition 1 in favor of Proposition 2. Notable but only mentioned in a footnote are the large and highly significant round effects that tend to increase over the rounds. As indicated in Section 4, this can be due to learning. "
   ]
  },
  {
   "cell_type": "markdown",
   "metadata": {},
   "source": [
    "<div class=\"alert alert-block alert-info\">\n",
    "The following regression shows the fixed effects regression that is mentioned in the text but not explicitly shown. \n",
    "</div>"
   ]
  },
  {
   "cell_type": "code",
   "execution_count": 137,
   "metadata": {
    "scrolled": false
   },
   "outputs": [
    {
     "name": "stdout",
     "output_type": "stream",
     "text": [
      "\n",
      "Table 3: Fixed Effects Regressions\n",
      "==========================================================================\n",
      "                                         Dependent variable:              \n",
      "                           -----------------------------------------------\n",
      "                                         Second Mover Effort              \n",
      "                              Preferred Sample           Full Sample      \n",
      "                                     (1)                     (2)          \n",
      "--------------------------------------------------------------------------\n",
      "First Mover Effort                  0.047                   0.050         \n",
      "                                   (0.050)                 (0.049)        \n",
      "Prize                             1.716***                1.701***        \n",
      "                                   (0.605)                 (0.594)        \n",
      "Prize x First Mover effort        -0.051**                -0.051**        \n",
      "                                   (0.024)                 (0.023)        \n",
      "--------------------------------------------------------------------------\n",
      "Observations                         590                     600          \n",
      "R2                                  0.151                   0.148         \n",
      "Adjusted R2                         0.037                   0.034         \n",
      "F Statistic                7.709*** (df = 12; 519) 7.655*** (df = 12; 528)\n",
      "==========================================================================\n",
      "Note:                                          *p<0.1; **p<0.05; ***p<0.01\n"
     ]
    }
   ],
   "source": [
    "%%R\n",
    "\n",
    "stargazer(fe_pref,fe, type=\"text\", title=\" Table 3: Fixed Effects Regressions\",\n",
    "          dep.var.labels=\"Second Mover Effort\",\n",
    "          omit=c(\"TT2\",\"TT3\",\"TT4\",\"TT5\",\"TT6\",\"TT7\",\"TT8\",\"TT9\",\"TT10\"),\n",
    "          covariate.labels=c(\"First Mover Effort\", \"Prize\", \"Prize x First Mover effort\",\"Intercept\"),\n",
    "          column.labels=c(\"Preferred Sample\", \"Full Sample\"),\n",
    "          no.space=TRUE)"
   ]
  },
  {
   "cell_type": "markdown",
   "metadata": {},
   "source": [
    "### Fixed vs. Random Effects\n",
    "\n",
    "The authors opt to use a random effects linear regression. Random effect models are closely related to the fixed effects models. Here, the different assumptions made by the two approaches are discussed. This is followed by the replication of the Hausman test that can be found in Table 2 of the paper. \n",
    "\n",
    "Both approaches are workhorses when working with panel/cross sectional time series data. The key distinction between the two models are the different assumptions made about the omitted variables. Implicitly, the random effects model assumes that there are no omitted variables correlated with the explanatory variables. The entities are drawn randomly from a population. If this is accurate, the model yields unbiased results and produces the smallest standard errors. In comparison, the fixed effects model makes no such strong assumptions about the correlation of omitted variables with the explanatory variables. In fact, the approach can control for omitted variables bias. The subjects serve as their own controls. For this to hold true, the fixed effects has to be time-invariant. However, being able to control for omitted variable bias comes at the cost of producing higher standard errors. \n",
    "\n",
    "The **Hausman test** provides a means for comparing these two models. It tests for the independence of $\\omega_n$ and the explanatory variables $x_{it}$. It looks as follows:\n",
    "\\begin{equation}\n",
    "W = \\frac{(\\tilde\\beta_{RE} - \\tilde\\beta_{FE})^2}{Var(\\tilde\\beta_{RE}) - Var(\\tilde\\beta_{FE})} \\sim \\chi_1^2\n",
    "\\end{equation}\n",
    "\n",
    "The null hypothesis $H_0$ is that there is no covariance between the explanatory variables and the specific effects. If this hypothesis is rejected, the $H_1$ leaves us with the fixed effects model coefficients as the only consistent coefficients.    "
   ]
  },
  {
   "cell_type": "markdown",
   "metadata": {},
   "source": [
    "<div class=\"alert alert-block alert-success\">\n",
    "    <b>Replication</b> of the Hausman test in  Table 2 of the paper.\n",
    "</div>"
   ]
  },
  {
   "cell_type": "code",
   "execution_count": 138,
   "metadata": {},
   "outputs": [
    {
     "name": "stdout",
     "output_type": "stream",
     "text": [
      "\n",
      "\tHausman Test\n",
      "\n",
      "data:  Effort ~ e1 + prize + E1timesPrize + TT2 + TT3 + TT4 + TT5 +  ...\n",
      "chisq = 2.6008, df = 12, p-value = 0.9978\n",
      "alternative hypothesis: one model is inconsistent\n",
      "\n"
     ]
    }
   ],
   "source": [
    "%%R\n",
    "\n",
    "# Hausman Test testing the Random Effects assumption\n",
    "hausman <- phtest(fe,re)\n",
    "hausman_pref <- phtest(fe_pref,re_pref)\n",
    "\n",
    "hausman_pref"
   ]
  },
  {
   "cell_type": "markdown",
   "metadata": {},
   "source": [
    "The Hausman Test cannot reject $H_0$ and, thus, the use of random effects is supported. This holds true for the preferred sample as well as the full sample."
   ]
  },
  {
   "cell_type": "markdown",
   "metadata": {},
   "source": [
    "### Further Investigation\n",
    "\n",
    "One advantage of laboratory experiments is that environmental variables can be easily altered in a controlled fashion. However, this often does leave only few covariates to further investigate the results. Especially with the data provided by the authors, there are only limited options on how to expand their reduced form findings. "
   ]
  },
  {
   "cell_type": "markdown",
   "metadata": {},
   "source": [
    "<div class=\"alert alert-block alert-info\">\n",
    "<b>Extension:</b> The following regressions toggle around with different interaction terms. \n",
    "</div>"
   ]
  },
  {
   "cell_type": "code",
   "execution_count": 139,
   "metadata": {
    "scrolled": false
   },
   "outputs": [
    {
     "name": "stdout",
     "output_type": "stream",
     "text": [
      "\n",
      "Table 4: Interaction Term Round Splits\n",
      "====================================================\n",
      "                          Dependent variable:       \n",
      "                   ---------------------------------\n",
      "                          Second Mover Effort       \n",
      "                   Split at round 5 Split at round 4\n",
      "                         (1)              (2)       \n",
      "----------------------------------------------------\n",
      "First Mover Effort      0.044            0.043      \n",
      "                       (0.049)          (0.050)     \n",
      "Prize                  1.640***         1.619***    \n",
      "                       (0.604)          (0.605)     \n",
      "Last                   -0.047**         -0.050**    \n",
      "                       (0.024)          (0.024)     \n",
      "First                  -0.050**         -0.046*     \n",
      "                       (0.024)          (0.025)     \n",
      "Intercept             19.843***        19.687***    \n",
      "                       (1.415)          (1.416)     \n",
      "----------------------------------------------------\n",
      "Observations             590              590       \n",
      "R2                      0.136            0.136      \n",
      "Adjusted R2             0.117            0.117      \n",
      "F Statistic           90.911***        90.977***    \n",
      "====================================================\n",
      "Note:                    *p<0.1; **p<0.05; ***p<0.01\n"
     ]
    }
   ],
   "source": [
    "%%R\n",
    "\n",
    "# Split interaction term on the first and the last rounds\n",
    "new_split <- pdf_pref\n",
    "new_split$Period <- as.numeric(new_split$Period)\n",
    "split <- pdf_pref\n",
    "split$Period <- as.numeric(split$Period)\n",
    "\n",
    "# Reported split\n",
    "split$last <- ifelse(split$Period <= 5, 0, split$E1timesPrize)\n",
    "split$first <- ifelse(split$Period > 5, 0, split$E1timesPrize)\n",
    "\n",
    "# New Split\n",
    "new_split$last <- ifelse(new_split$Period <= 4, 0, new_split$E1timesPrize)\n",
    "new_split$first <- ifelse(new_split$Period > 4, 0, new_split$E1timesPrize)\n",
    "\n",
    "# Random Effects regression\n",
    "split_interaction <- plm(Effort~e1+prize+last+first+TT2+TT3+TT4+TT5+TT6+TT7+TT8+TT9+TT10, data = split, model = \"random\")\n",
    "new_interaction_split <- plm(Effort~e1+prize+last+first+TT2+TT3+TT4+TT5+TT6+TT7+TT8+TT9+TT10, data = new_split, model = \"random\")\n",
    "\n",
    "stargazer(split_interaction,new_interaction_split, type=\"text\", title=\"Table 4: Interaction Term Round Splits\",\n",
    "          dep.var.labels=\"Second Mover Effort\",\n",
    "          omit=c(\"TT2\",\"TT3\",\"TT4\",\"TT5\",\"TT6\",\"TT7\",\"TT8\",\"TT9\",\"TT10\"),\n",
    "          covariate.labels=c(\"First Mover Effort\", \"Prize\", \"Last\",\"First\",\"Intercept\"),\n",
    "          column.labels=c(\"Split at round 5\", \"Split at round 4\"),\n",
    "          no.space=TRUE)"
   ]
  },
  {
   "cell_type": "markdown",
   "metadata": {},
   "source": [
    "The specification where the interaction term is split at round 5 is mentioned in the paper. Using a different break point, where the interaction term the first four rounds is denoted by first and the last six rounds are denoted by last. This follows from the visual inspection of the effort distribution per round that can be found in the Appendix. \n",
    "\n",
    "The new split is very similar to the older specification. Nonetheless, the interaction for the first rounds in the new specification is not significant at the 5% level anymore. Yet, further inspecting the coefficients does not lead to any new conclusions. Now, the last rounds have a larger negative effect than the first round but the differences are minor and the test below affirms that the difference is not significant.   "
   ]
  },
  {
   "cell_type": "code",
   "execution_count": 140,
   "metadata": {
    "scrolled": false
   },
   "outputs": [
    {
     "name": "stdout",
     "output_type": "stream",
     "text": [
      "Linear hypothesis test\n",
      "\n",
      "Hypothesis:\n",
      "- last  + first = 0\n",
      "\n",
      "Model 1: restricted model\n",
      "Model 2: Effort ~ e1 + prize + last + first + TT2 + TT3 + TT4 + TT5 + \n",
      "    TT6 + TT7 + TT8 + TT9 + TT10\n",
      "\n",
      "  Res.Df Df  Chisq Pr(>Chisq)\n",
      "1    577                     \n",
      "2    576  1 0.1868     0.6656\n"
     ]
    }
   ],
   "source": [
    "%%R\n",
    "\n",
    "# Test equality of the interaction term for the first and the last five rounds.\n",
    "linearHypothesis(split_interaction, c(\"first=last\"))\n",
    "\n",
    "# Test for equality of the split interaction term with a break at round 4\n",
    "linearHypothesis(new_interaction_split, c(\"first=last\"))"
   ]
  },
  {
   "cell_type": "code",
   "execution_count": 141,
   "metadata": {
    "scrolled": false
   },
   "outputs": [
    {
     "name": "stdout",
     "output_type": "stream",
     "text": [
      "\n",
      "Table 5: New Interaction Term Specifications\n",
      "================================================================\n",
      "                                Dependent variable:             \n",
      "                   ---------------------------------------------\n",
      "                                Second Mover Effort             \n",
      "                   No Prize Controls Interaction per Prize Level\n",
      "                          (1)                    (2)            \n",
      "----------------------------------------------------------------\n",
      "First Mover Effort      -0.036                  0.024           \n",
      "                        (0.026)                (0.052)          \n",
      "Prize                                         1.608***          \n",
      "                                               (0.601)          \n",
      "Small                                          -0.032           \n",
      "                                               (0.029)          \n",
      "Medium                                         -0.031           \n",
      "                                               (0.025)          \n",
      "High                                           -0.045*          \n",
      "                                               (0.024)          \n",
      "Constant               22.556***              19.801***         \n",
      "                        (0.946)                (1.399)          \n",
      "----------------------------------------------------------------\n",
      "Observations              590                    590            \n",
      "R2                       0.118                  0.142           \n",
      "Adjusted R2              0.103                  0.122           \n",
      "F Statistic            77.783***              95.534***         \n",
      "================================================================\n",
      "Note:                                *p<0.1; **p<0.05; ***p<0.01\n"
     ]
    }
   ],
   "source": [
    "%%R\n",
    "\n",
    "# New dataset.\n",
    "new_interact <- pdf_pref\n",
    "\n",
    "# Interaction term partioned for prize level\n",
    "new_interact$small <- ifelse(new_interact$prize < 2, new_interact$E1timesPrize, 0)\n",
    "new_interact$medium <- ifelse(new_interact$prize >= 2 & new_interact$prize <= 2.60, new_interact$E1timesPrize, 0)\n",
    "new_interact$high <- ifelse(new_interact$prize >= 2.70, new_interact$E1timesPrize, 0)\n",
    "\n",
    "# interaction term for different prize level\n",
    "new_spec <- plm(Effort~e1+prize+small+medium+high+TT2+TT3+TT4+TT5+TT6+TT7+TT8+TT9+TT10, data = new_interact, model = \"random\")\n",
    "\n",
    "# No prize controls\n",
    "no_prizes <- plm(Effort~e1+TT2+TT3+TT4+TT5+TT6+TT7+TT8+TT9+TT10, data = pdf_pref, model = \"random\")\n",
    "\n",
    "# Render the table\n",
    "stargazer(no_prizes,new_spec, type=\"text\", title=\"Table 5: New Interaction Term Specifications\",\n",
    "          dep.var.labels=\"Second Mover Effort\",\n",
    "          omit=c(\"TT2\",\"TT3\",\"TT4\",\"TT5\",\"TT6\",\"TT7\",\"TT8\",\"TT9\",\"TT10\"), # unchecking this gives the coefficients reported in the paper.\n",
    "          covariate.labels=c(\"First Mover Effort\", \"Prize\", \"Small\",\"Medium\",\"High\"),\n",
    "          column.labels=c(\"No Prize Controls\", \"Interaction per Prize Level\"),\n",
    "          no.space=TRUE)"
   ]
  },
  {
   "cell_type": "markdown",
   "metadata": {},
   "source": [
    "In this regression table, two specifications can be seen. The first specification, also reported in the paper, eliminates all prize control and can report a negative but insignificant effect of $e_1$ on $e_2$. The other specification looks as follows:\n",
    "\n",
    "\\begin{equation}\n",
    "e_{2,n,r} = \\beta_1 + \\beta_2v_{n,r} + \\beta_3e_{1,n,r} + \\beta_4Small_{n,r} +\\beta_5Medium_{n,r} + \\beta_6High_{n,r} + d_r + \\omega_n + \\epsilon_{n,r} \n",
    "\\end{equation}\n",
    "where\n",
    "* $Small_{n,r} : e_{1,n,r}*v_{n,r}$ for $v_{n,r} < 2$\n",
    "* $Medium_{n,r} : e_{1,n,r}*v_{n,r}$ for $2 \\leq v_{n,r} \\leq 2.60$\n",
    "* $Large_{n,r} : e_{1,n,r}*v_{n,r}$ for $v_{n,r} > 2.60$\n",
    "\n",
    "denote the interaction term for different prize ranges. This can inform whether this relationship is stable throughout the whole prize range. \n",
    "\n",
    "As can be seen, the effect decreases with the prize value. Whereas the interaction on Small and Medium prize levels is not significant at any level, the interaction with the high prizes is borderline significant (10%). "
   ]
  },
  {
   "cell_type": "markdown",
   "metadata": {},
   "source": [
    "\n",
    "## Structural Model\n"
   ]
  },
  {
   "cell_type": "markdown",
   "metadata": {},
   "source": [
    "### Empirical Specification\n",
    "After not accumulating convincing evidence of disappointment aversion in the reduced form analysis the authors turn to structural estimation strategies. Thanks to the variations induced by the experimental design, the data is well-suited for such an analysis. Beyond, the estimation of disappointment aversion, this approach also allows for the estimation of the population-level heterogeneity.\n",
    "\n",
    "This leads them to the following specifications:\n",
    "\n",
    "\\begin{equation}\n",
    "\\lambda_{2,n} \\sim N(\\tilde\\lambda_2,\\sigma_\\lambda^2)\n",
    "\\end{equation}\n",
    "for n = 1,...,N.\n",
    "\n",
    "Here, $\\lambda$ is held fixed on the subject-level. It can vary throughout Second Movers but does not vary over rounds. In addition to $\\lambda$ the convexity parameter $c_{n,r}$ is estimated. It is estimated at round and subject-level, making this task a dynamic one. \n",
    "\n",
    "\\begin{equation}\n",
    "c_{n,r} = \\kappa + \\delta_r + \\mu_n + \\pi_{n,r}\n",
    "\\end{equation}\n",
    "for n = 1,...,N; r = 1,...10.\n",
    "\n",
    "$\\kappa$ represents a component common across all Second Movers. $\\delta_r$ denotes the round effects that allow the marginal costs of effort to vary over rounds. For instance, if due to learning the tasks gets easier in the later periods $\\delta_r$ is negative and decreasing over rounds. $\\mu_n$ indicates the unobserved differences in the cost of effort on the subject-level that are constant over rounds. $\\pi_{n,r}$ denotes the unobserved differences that vary over rounds and Second Movers. For $\\pi$ and $\\mu$ both scale and shape parameters of a Weibull distribution are estimated. The reasoning for opting for a Weibull distribution is that it has positive support allowing to impose convex cost of effort function on all subjects. From their Matlab codes the upper and lower bounds of the values can be extracted. The starting trial values is the mean between the bounds with the round effects being the exception. The round effects are set at zero. The cost parameter $b$ sticks out but since it is part of the cost of effort function: \n",
    "\n",
    "\\begin{equation}\n",
    "C_2(e_{2,n,r}) = be_{2,n,r} + \\frac{c_{n,r}e_{2,n,r}^{2}}{2}\n",
    "\\end{equation}\n",
    "\n",
    "where the mean effort choices are between 20 and 30 correctly positioned sliders, this seems reasonable. In total, this leaves them with the following 17 unknown parameter:"
   ]
  },
  {
   "cell_type": "markdown",
   "metadata": {},
   "source": [
    "<div class=\"alert alert-block alert-info\">\n",
    "    <b>Extension:</b> Description and trial values for the unknown parameters. \n",
    "</div>"
   ]
  },
  {
   "cell_type": "code",
   "execution_count": 142,
   "metadata": {
    "scrolled": false
   },
   "outputs": [
    {
     "name": "stdout",
     "output_type": "stream",
     "text": [
      "Table 6: Parameter description\n"
     ]
    },
    {
     "data": {
      "text/html": [
       "<div>\n",
       "<style scoped>\n",
       "    .dataframe tbody tr th:only-of-type {\n",
       "        vertical-align: middle;\n",
       "    }\n",
       "\n",
       "    .dataframe tbody tr th {\n",
       "        vertical-align: top;\n",
       "    }\n",
       "\n",
       "    .dataframe thead th {\n",
       "        text-align: right;\n",
       "    }\n",
       "</style>\n",
       "<table border=\"1\" class=\"dataframe\">\n",
       "  <thead>\n",
       "    <tr style=\"text-align: right;\">\n",
       "      <th></th>\n",
       "      <th></th>\n",
       "      <th>value</th>\n",
       "      <th>comment</th>\n",
       "      <th>lower</th>\n",
       "      <th>upper</th>\n",
       "    </tr>\n",
       "    <tr>\n",
       "      <th>category</th>\n",
       "      <th>name</th>\n",
       "      <th></th>\n",
       "      <th></th>\n",
       "      <th></th>\n",
       "      <th></th>\n",
       "    </tr>\n",
       "  </thead>\n",
       "  <tbody>\n",
       "    <tr>\n",
       "      <th rowspan=\"2\" valign=\"top\">lambda</th>\n",
       "      <th>lambda</th>\n",
       "      <td>2.00</td>\n",
       "      <td>strength of disappointment aversion on average</td>\n",
       "      <td>1.0</td>\n",
       "      <td>3.0</td>\n",
       "    </tr>\n",
       "    <tr>\n",
       "      <th>std_lambda</th>\n",
       "      <td>1.50</td>\n",
       "      <td>standard deviation of strength of disappointment aversion</td>\n",
       "      <td>0.5</td>\n",
       "      <td>2.5</td>\n",
       "    </tr>\n",
       "    <tr>\n",
       "      <th rowspan=\"15\" valign=\"top\">cost_of_effort</th>\n",
       "      <th>phi_pi</th>\n",
       "      <td>0.35</td>\n",
       "      <td>unobserved differences in cost of effort functions that vary over rounds and individuals</td>\n",
       "      <td>0.0</td>\n",
       "      <td>0.7</td>\n",
       "    </tr>\n",
       "    <tr>\n",
       "      <th>varphi_pi</th>\n",
       "      <td>0.85</td>\n",
       "      <td>unobserved differences in cost of effort functions that vary over rounds and individuals</td>\n",
       "      <td>0.2</td>\n",
       "      <td>1.5</td>\n",
       "    </tr>\n",
       "    <tr>\n",
       "      <th>phi_mu</th>\n",
       "      <td>0.35</td>\n",
       "      <td>unobserved differences in cost of effort functions between individuals, constant over rounds</td>\n",
       "      <td>0.0</td>\n",
       "      <td>0.7</td>\n",
       "    </tr>\n",
       "    <tr>\n",
       "      <th>varphi_mu</th>\n",
       "      <td>0.85</td>\n",
       "      <td>unobserved differences in cost of effort functions between individuals, constant over rounds</td>\n",
       "      <td>0.2</td>\n",
       "      <td>1.5</td>\n",
       "    </tr>\n",
       "    <tr>\n",
       "      <th>kappa</th>\n",
       "      <td>1.75</td>\n",
       "      <td>common cost parameter</td>\n",
       "      <td>1.0</td>\n",
       "      <td>2.5</td>\n",
       "    </tr>\n",
       "    <tr>\n",
       "      <th>b</th>\n",
       "      <td>-27.50</td>\n",
       "      <td>common cost parameter</td>\n",
       "      <td>-35.0</td>\n",
       "      <td>-20.0</td>\n",
       "    </tr>\n",
       "    <tr>\n",
       "      <th>delta_2</th>\n",
       "      <td>0.00</td>\n",
       "      <td>round effects for round 2</td>\n",
       "      <td>-1.0</td>\n",
       "      <td>0.0</td>\n",
       "    </tr>\n",
       "    <tr>\n",
       "      <th>delta_3</th>\n",
       "      <td>0.00</td>\n",
       "      <td>round effects for round 3</td>\n",
       "      <td>-1.0</td>\n",
       "      <td>0.0</td>\n",
       "    </tr>\n",
       "    <tr>\n",
       "      <th>delta_4</th>\n",
       "      <td>0.00</td>\n",
       "      <td>round effects for round 4</td>\n",
       "      <td>-1.0</td>\n",
       "      <td>0.0</td>\n",
       "    </tr>\n",
       "    <tr>\n",
       "      <th>delta_5</th>\n",
       "      <td>0.00</td>\n",
       "      <td>round effects for round 5</td>\n",
       "      <td>-1.0</td>\n",
       "      <td>0.0</td>\n",
       "    </tr>\n",
       "    <tr>\n",
       "      <th>delta_6</th>\n",
       "      <td>0.00</td>\n",
       "      <td>round effects for round 6</td>\n",
       "      <td>-1.0</td>\n",
       "      <td>0.0</td>\n",
       "    </tr>\n",
       "    <tr>\n",
       "      <th>delta_7</th>\n",
       "      <td>0.00</td>\n",
       "      <td>round effects for round 7</td>\n",
       "      <td>-1.0</td>\n",
       "      <td>0.0</td>\n",
       "    </tr>\n",
       "    <tr>\n",
       "      <th>delta_8</th>\n",
       "      <td>0.00</td>\n",
       "      <td>round effects for round 8</td>\n",
       "      <td>-1.0</td>\n",
       "      <td>0.0</td>\n",
       "    </tr>\n",
       "    <tr>\n",
       "      <th>delta_9</th>\n",
       "      <td>0.00</td>\n",
       "      <td>round effects for round 9</td>\n",
       "      <td>-1.0</td>\n",
       "      <td>0.0</td>\n",
       "    </tr>\n",
       "    <tr>\n",
       "      <th>delta_10</th>\n",
       "      <td>0.00</td>\n",
       "      <td>round effects for round 10</td>\n",
       "      <td>-1.0</td>\n",
       "      <td>0.0</td>\n",
       "    </tr>\n",
       "  </tbody>\n",
       "</table>\n",
       "</div>"
      ],
      "text/plain": [
       "                           value  \\\n",
       "category       name                \n",
       "lambda         lambda      2.00    \n",
       "               std_lambda  1.50    \n",
       "cost_of_effort phi_pi      0.35    \n",
       "               varphi_pi   0.85    \n",
       "               phi_mu      0.35    \n",
       "               varphi_mu   0.85    \n",
       "               kappa       1.75    \n",
       "               b          -27.50   \n",
       "               delta_2     0.00    \n",
       "               delta_3     0.00    \n",
       "               delta_4     0.00    \n",
       "               delta_5     0.00    \n",
       "               delta_6     0.00    \n",
       "               delta_7     0.00    \n",
       "               delta_8     0.00    \n",
       "               delta_9     0.00    \n",
       "               delta_10    0.00    \n",
       "\n",
       "                                                                                                                comment  \\\n",
       "category       name                                                                                                       \n",
       "lambda         lambda      strength of disappointment aversion on average                                                 \n",
       "               std_lambda  standard deviation of strength of disappointment aversion                                      \n",
       "cost_of_effort phi_pi      unobserved differences in cost of effort functions that vary over rounds and individuals       \n",
       "               varphi_pi   unobserved differences in cost of effort functions that vary over rounds and individuals       \n",
       "               phi_mu      unobserved differences in cost of effort functions between individuals, constant over rounds   \n",
       "               varphi_mu   unobserved differences in cost of effort functions between individuals, constant over rounds   \n",
       "               kappa       common cost parameter                                                                          \n",
       "               b           common cost parameter                                                                          \n",
       "               delta_2     round effects for round 2                                                                      \n",
       "               delta_3     round effects for round 3                                                                      \n",
       "               delta_4     round effects for round 4                                                                      \n",
       "               delta_5     round effects for round 5                                                                      \n",
       "               delta_6     round effects for round 6                                                                      \n",
       "               delta_7     round effects for round 7                                                                      \n",
       "               delta_8     round effects for round 8                                                                      \n",
       "               delta_9     round effects for round 9                                                                      \n",
       "               delta_10    round effects for round 10                                                                     \n",
       "\n",
       "                           lower  upper  \n",
       "category       name                      \n",
       "lambda         lambda      1.0    3.0    \n",
       "               std_lambda  0.5    2.5    \n",
       "cost_of_effort phi_pi      0.0    0.7    \n",
       "               varphi_pi   0.2    1.5    \n",
       "               phi_mu      0.0    0.7    \n",
       "               varphi_mu   0.2    1.5    \n",
       "               kappa       1.0    2.5    \n",
       "               b          -35.0  -20.0   \n",
       "               delta_2    -1.0    0.0    \n",
       "               delta_3    -1.0    0.0    \n",
       "               delta_4    -1.0    0.0    \n",
       "               delta_5    -1.0    0.0    \n",
       "               delta_6    -1.0    0.0    \n",
       "               delta_7    -1.0    0.0    \n",
       "               delta_8    -1.0    0.0    \n",
       "               delta_9    -1.0    0.0    \n",
       "               delta_10   -1.0    0.0    "
      ]
     },
     "execution_count": 142,
     "metadata": {},
     "output_type": "execute_result"
    }
   ],
   "source": [
    "print('Table 6: Parameter description')\n",
    "params_description(return_descriptives=True)"
   ]
  },
  {
   "cell_type": "markdown",
   "metadata": {},
   "source": [
    "With the exception of the round effects that are set to zero, the values are the mean between the specified bounds. Regarding the selection of the bounds, the authors do not provide any decision rule, however they do run the estimation with different specifications. The bounds are configured for estimation with *estimagic*. Setting bounds is a decisive factor in the success of optimization. Structural models usually provide sufficient information in order to select sensible bounds. "
   ]
  },
  {
   "cell_type": "markdown",
   "metadata": {},
   "source": [
    "### Method of Simulated Moments"
   ]
  },
  {
   "cell_type": "markdown",
   "metadata": {},
   "source": [
    "The parameter of interest are estimated by the **Method of Simulated Moments (MSM)** that was pioneered by McFadden (1989) and by Pakes and Pollard (1989). The idea is, similar to the Generalized Method of Moments (GMM), to use a vector of moments M with $k \\geq 17$, where every included moments is dependent on the endogenous variables. The step that differentiates MSM from GMM is the use of simulated samples. In each of the S simulated sample the Second Mover face the same prizes and First Mover effort as observed in the actual sample. The behavior of the Second Movers in the simulated sample is guided by the trial  $\\theta_t$ values of the unknown parameters $\\theta$. The unobservables $\\mu$ and $\\pi$ are assigned to the Second Movers with the specified distributions. \n",
    "\n",
    "For all Second Movers and each round the utility for all 49 possible effort choices is computed and the simulated action corresponds to the effort choice with the highest achieved utility. In order to compare the simulated samples to the experimental sample the vector of moments $M_s(\\theta_t)$ are computed. These moments are used in the following metric:\n",
    "\n",
    "\\begin{equation*}\n",
    "J(\\theta_t) =  \\left(M - \\frac{1}{S} \\sum\\limits_{S=1}^S M_S(\\theta_t)\\right)'W_N\\left(M - \\frac{1}{S} \\sum\\limits_{S=1}^S M_S(\\theta_t)\\right) \n",
    "\\end{equation*}\n",
    "\n",
    "This is the core function of the MSM approach. The objective of this metric is $J(\\theta_t): \\hat\\theta = arg min_{\\theta_t} J(\\theta_t)$. It minimizes the distance between the average of the simulated samples and the experimental sample. Thus, the moments induced by the structural parameters have to be as close to the actual moments as possible. $W_N$ is the weighting matrix of $k x k$ dimension. For this simulation, the authors specify the diagonal elements of the weigthing matrix as the inverse of N times the bootstrapped variance of the moments and zeroes on the non-diagonal elements. In total, 38 moments are used to estimate the 17 unknown parameters.   "
   ]
  },
  {
   "cell_type": "markdown",
   "metadata": {},
   "source": [
    "<div class=\"alert alert-block alert-warning\">\n",
    "    <b>Note:</b> The following attempt of implementation follows the steps outlined by the respy documentation closely.  \n",
    "</div>"
   ]
  },
  {
   "cell_type": "markdown",
   "metadata": {},
   "source": [
    "### Empirical Moments\n",
    "\n",
    "In order to estimate the parameters that are of interest, moments need to be simulated. A dataframe fashioned after Table 4 is provided below. It gives an overview over the moments the authors choose to be estimated. "
   ]
  },
  {
   "cell_type": "markdown",
   "metadata": {},
   "source": [
    "<div class=\"alert alert-block alert-success\">\n",
    "    <b>Replication</b> of the descriptions in Table 4.\n",
    "</div>"
   ]
  },
  {
   "cell_type": "code",
   "execution_count": 143,
   "metadata": {
    "scrolled": false
   },
   "outputs": [
    {
     "name": "stdout",
     "output_type": "stream",
     "text": [
      "Table 7: Description of the moments\n"
     ]
    },
    {
     "data": {
      "text/html": [
       "<div>\n",
       "<style scoped>\n",
       "    .dataframe tbody tr th:only-of-type {\n",
       "        vertical-align: middle;\n",
       "    }\n",
       "\n",
       "    .dataframe tbody tr th {\n",
       "        vertical-align: top;\n",
       "    }\n",
       "\n",
       "    .dataframe thead th {\n",
       "        text-align: right;\n",
       "    }\n",
       "</style>\n",
       "<table border=\"1\" class=\"dataframe\">\n",
       "  <thead>\n",
       "    <tr style=\"text-align: right;\">\n",
       "      <th></th>\n",
       "      <th>comment</th>\n",
       "    </tr>\n",
       "    <tr>\n",
       "      <th>name</th>\n",
       "      <th></th>\n",
       "    </tr>\n",
       "  </thead>\n",
       "  <tbody>\n",
       "    <tr>\n",
       "      <th>cond_corr_e2_prize</th>\n",
       "      <td>correlation of e2 and prize, conditional on control effects</td>\n",
       "    </tr>\n",
       "    <tr>\n",
       "      <th>cond_corr_e2_e1</th>\n",
       "      <td>correlation of e2 and e1, conditional on control effects</td>\n",
       "    </tr>\n",
       "    <tr>\n",
       "      <th>cond_corr_e2_e1timesprize</th>\n",
       "      <td>correlation of e2 and e1 * prize, conditional on control effects</td>\n",
       "    </tr>\n",
       "    <tr>\n",
       "      <th>low_effort_low_prize</th>\n",
       "      <td>effort conditional on low e1 and low prizes</td>\n",
       "    </tr>\n",
       "    <tr>\n",
       "      <th>low_effort_high_prize</th>\n",
       "      <td>effort conditional on low e1 and high prizes</td>\n",
       "    </tr>\n",
       "    <tr>\n",
       "      <th>high_effort_high_prize</th>\n",
       "      <td>effort conditional on high e1 and high prizes</td>\n",
       "    </tr>\n",
       "    <tr>\n",
       "      <th>effort_std</th>\n",
       "      <td>standard deviation of effort</td>\n",
       "    </tr>\n",
       "    <tr>\n",
       "      <th>low_effort_prop</th>\n",
       "      <td>probability of low effort</td>\n",
       "    </tr>\n",
       "    <tr>\n",
       "      <th>high_effort_prop</th>\n",
       "      <td>probability of high effort</td>\n",
       "    </tr>\n",
       "    <tr>\n",
       "      <th>autocorrelation_l1</th>\n",
       "      <td>autocorrelation with lag 1</td>\n",
       "    </tr>\n",
       "    <tr>\n",
       "      <th>autocorrelation_l2</th>\n",
       "      <td>autocorrelation with lag 2</td>\n",
       "    </tr>\n",
       "    <tr>\n",
       "      <th>j_perc_cond_corr_e2_e1</th>\n",
       "      <td>jth percentile of cond. correlation e1 and e2 of specific effects</td>\n",
       "    </tr>\n",
       "    <tr>\n",
       "      <th>j_perc_cond_corr_e2_e1timesprize</th>\n",
       "      <td>jth percentile of cond. correlation e2 and e1 * prize of specific effects</td>\n",
       "    </tr>\n",
       "    <tr>\n",
       "      <th>round_change_std</th>\n",
       "      <td>standard deviation of round-round change of effort</td>\n",
       "    </tr>\n",
       "    <tr>\n",
       "      <th>j_perc_cond_corr_e2_prize</th>\n",
       "      <td>jth percentile of cond. correlation e1 and prize of specific effects</td>\n",
       "    </tr>\n",
       "    <tr>\n",
       "      <th>low_effort_low_prize</th>\n",
       "      <td>effort conditional on low e2 and low prizes</td>\n",
       "    </tr>\n",
       "    <tr>\n",
       "      <th>low_effort_high_prize</th>\n",
       "      <td>effort conditional on low e2 and high prizes</td>\n",
       "    </tr>\n",
       "    <tr>\n",
       "      <th>high_effort_high_prize</th>\n",
       "      <td>effort conditional on high e2 and high prizes</td>\n",
       "    </tr>\n",
       "    <tr>\n",
       "      <th>period_average</th>\n",
       "      <td>average effort in period i</td>\n",
       "    </tr>\n",
       "  </tbody>\n",
       "</table>\n",
       "</div>"
      ],
      "text/plain": [
       "                                                                                                    comment\n",
       "name                                                                                                       \n",
       "cond_corr_e2_prize                correlation of e2 and prize, conditional on control effects              \n",
       "cond_corr_e2_e1                   correlation of e2 and e1, conditional on control effects                 \n",
       "cond_corr_e2_e1timesprize         correlation of e2 and e1 * prize, conditional on control effects         \n",
       "low_effort_low_prize              effort conditional on low e1 and low prizes                              \n",
       "low_effort_high_prize             effort conditional on low e1 and high prizes                             \n",
       "high_effort_high_prize            effort conditional on high e1 and high prizes                            \n",
       "effort_std                        standard deviation of effort                                             \n",
       "low_effort_prop                   probability of low effort                                                \n",
       "high_effort_prop                  probability of high effort                                               \n",
       "autocorrelation_l1                autocorrelation with lag 1                                               \n",
       "autocorrelation_l2                autocorrelation with lag 2                                               \n",
       "j_perc_cond_corr_e2_e1            jth percentile of cond. correlation e1 and e2 of specific effects        \n",
       "j_perc_cond_corr_e2_e1timesprize  jth percentile of cond. correlation e2 and e1 * prize of specific effects\n",
       "round_change_std                  standard deviation of round-round change of effort                       \n",
       "j_perc_cond_corr_e2_prize         jth percentile of cond. correlation e1 and prize of specific effects     \n",
       "low_effort_low_prize              effort conditional on low e2 and low prizes                              \n",
       "low_effort_high_prize             effort conditional on low e2 and high prizes                             \n",
       "high_effort_high_prize            effort conditional on high e2 and high prizes                            \n",
       "period_average                    average effort in period i                                               "
      ]
     },
     "execution_count": 143,
     "metadata": {},
     "output_type": "execute_result"
    }
   ],
   "source": [
    "print('Table 7: Description of the moments')\n",
    "moments_description()"
   ]
  },
  {
   "cell_type": "markdown",
   "metadata": {},
   "source": [
    "Naturally, the functions needed to compute the above moments need to be stored. They are stored in the dictionary. For all those moments separate functions are used, eventhough a lot have similarities with each other. This was done to follow the guides outlined on the *respy* website as closely as possible. Yet, one difference is that here the moments are computed for the whole sample, whereas the *respy* outline computes them at a period level. "
   ]
  },
  {
   "cell_type": "code",
   "execution_count": 144,
   "metadata": {
    "scrolled": true
   },
   "outputs": [],
   "source": [
    "calc_moments = {\n",
    "    'effort_std': effort_std,\n",
    "    'corr_round_lag1': pooled_autocorr_lag1,\n",
    "    'corr_round_lag2': pooled_autocorr_lag2,\n",
    "    'round_change_std': round_change_std,\n",
    "    'mean_period_1': period1_average,\n",
    "    'mean_period_2': period2_average,\n",
    "    'mean_period_3': period3_average,\n",
    "    'mean_period_4': period4_average,\n",
    "    'mean_period_5': period5_average,\n",
    "    'mean_period_6': period6_average,\n",
    "    'mean_period_7': period7_average,\n",
    "    'mean_period_8': period8_average,\n",
    "    'mean_period_9': period9_average,\n",
    "    'mean_period_10': period10_average,\n",
    "    'cond_corr_e2_prize': cond_corr_e2_prize,\n",
    "    'cond_corr_e2_e1': cond_corr_e2_e1,\n",
    "    'cond_corr_e2_e1timesprize': cond_corr_e2_e1timesprize,\n",
    "    'perc17_cond_corr_e2_prize': perc17_cond_corr_e2_prize,\n",
    "    'perc33_cond_corr_e2_prize': perc33_cond_corr_e2_prize,\n",
    "    'perc50_cond_corr_e2_prize': perc50_cond_corr_e2_prize,\n",
    "    'perc66_cond_corr_e2_prize': perc66_cond_corr_e2_prize,\n",
    "    'perc83_cond_corr_e2_prize': perc83_cond_corr_e2_prize,\n",
    "    'perc17_cond_corr_e2_e1': perc17_cond_corr_e2_e1,\n",
    "    'perc33_cond_corr_e2_e1': perc33_cond_corr_e2_e1,\n",
    "    'perc50_cond_corr_e2_e1': perc50_cond_corr_e2_e1,\n",
    "    'perc66_cond_corr_e2_e1': perc66_cond_corr_e2_e1,\n",
    "    'perc83_cond_corr_e2_e1': perc83_cond_corr_e2_e1,\n",
    "    'perc17_cond_corr_e2_e1timesprize': perc17_cond_corr_e2_e1timesprize,\n",
    "    'perc33_cond_corr_e2_e1timesprize': perc33_cond_corr_e2_e1timesprize,\n",
    "    'perc50_cond_corr_e2_e1timesprize': perc50_cond_corr_e2_e1timesprize,\n",
    "    'perc66_cond_corr_e2_e1timesprize': perc66_cond_corr_e2_e1timesprize,\n",
    "    'perc83_cond_corr_e2_e1timesprize': perc83_cond_corr_e2_e1timesprize,\n",
    "    'low_effort_low_prize': low_effort_low_prize,\n",
    "    'low_effort_high_prize': low_effort_high_prize,\n",
    "    'high_effort_low_prize': high_effort_low_prize,\n",
    "    'high_effort_high_prize': high_effort_high_prize,\n",
    "    'low_effort_prop': low_effort_prop,\n",
    "    'high_effort_prop': high_effort_prop\n",
    "}"
   ]
  },
  {
   "cell_type": "markdown",
   "metadata": {},
   "source": [
    "These function, in turn, are used to calculate the empirical moments. These are the moments that are computed with the experimental sample without any simulation.  "
   ]
  },
  {
   "cell_type": "markdown",
   "metadata": {},
   "source": [
    "<div class=\"alert alert-block alert-success\">\n",
    "    <b>Replication</b> of the observed moments in Table 5.\n",
    "</div>"
   ]
  },
  {
   "cell_type": "code",
   "execution_count": 145,
   "metadata": {
    "scrolled": false
   },
   "outputs": [
    {
     "data": {
      "text/plain": [
       "{'effort_std': 5.8745832443237305,\n",
       " 'corr_round_lag1': 0.6523300435833547,\n",
       " 'corr_round_lag2': 0.5955089258400272,\n",
       " 'round_change_std': 4.82824351834171,\n",
       " 'mean_period_1': 21.762712478637695,\n",
       " 'mean_period_2': 23.457626342773438,\n",
       " 'mean_period_3': 24.830509185791016,\n",
       " 'mean_period_4': 25.20339012145996,\n",
       " 'mean_period_5': 25.11864471435547,\n",
       " 'mean_period_6': 24.898305892944336,\n",
       " 'mean_period_7': 25.762712478637695,\n",
       " 'mean_period_8': 26.169490814208984,\n",
       " 'mean_period_9': 26.25423812866211,\n",
       " 'mean_period_10': 26.72881317138672,\n",
       " 'cond_corr_e2_prize': 0.12361415759953642,\n",
       " 'cond_corr_e2_e1': 0.04149206717166187,\n",
       " 'cond_corr_e2_e1timesprize': -0.09501348232241316,\n",
       " 'perc17_cond_corr_e2_prize': -0.2749740360569023,\n",
       " 'perc33_cond_corr_e2_prize': 0.03305363732319229,\n",
       " 'perc50_cond_corr_e2_prize': 0.22225342393899755,\n",
       " 'perc66_cond_corr_e2_prize': 0.3876273607645051,\n",
       " 'perc83_cond_corr_e2_prize': 0.46911122033916214,\n",
       " 'perc17_cond_corr_e2_e1': -0.32799713935543484,\n",
       " 'perc33_cond_corr_e2_e1': -0.2179878357116517,\n",
       " 'perc50_cond_corr_e2_e1': 0.019100550720606655,\n",
       " 'perc66_cond_corr_e2_e1': 0.17869322920672392,\n",
       " 'perc83_cond_corr_e2_e1': 0.3609552623371953,\n",
       " 'perc17_cond_corr_e2_e1timesprize': -0.1943010508973714,\n",
       " 'perc33_cond_corr_e2_e1timesprize': 0.01887267598522453,\n",
       " 'perc50_cond_corr_e2_e1timesprize': 0.14626187907883428,\n",
       " 'perc66_cond_corr_e2_e1timesprize': 0.2982281135137103,\n",
       " 'perc83_cond_corr_e2_e1timesprize': 0.47429080067835255,\n",
       " 'low_effort_low_prize': 23.821428298950195,\n",
       " 'low_effort_high_prize': 25.485294342041016,\n",
       " 'high_effort_low_prize': 25.8360652923584,\n",
       " 'high_effort_high_prize': 25.049999237060547,\n",
       " 'low_effort_prop': 0.0288135593220339,\n",
       " 'high_effort_prop': 0.015254237288135594}"
      ]
     },
     "execution_count": 145,
     "metadata": {},
     "output_type": "execute_result"
    }
   ],
   "source": [
    "observed_moments = observed_moments(df_2_pref)\n",
    "observed_moments"
   ]
  },
  {
   "cell_type": "markdown",
   "metadata": {},
   "source": [
    "<div class=\"alert alert-block alert-warning\">\n",
    "    <b>Note:</b> Some moments were not precisely specified in Table 4. The different computation specifications for these moments can be found in the Appendix.\n",
    "</div>"
   ]
  },
  {
   "cell_type": "markdown",
   "metadata": {},
   "source": [
    "### Weighting Matrix\n",
    "\n",
    "In the paper it is specified that the diagonal elements of the weighting matrix are the inverse of N times the variances of the sample moments and zeros elsewhere. 2000 Bootstrap samples with replacement are used to compute $W_n$. For my weighting matrix, I am orienting myself at the example in [here](https://respy.readthedocs.io/en/latest/how_to_guides/msm_estimation_exercise.html), where the diagonal elements are the inverse variance of the moment. The function needed to be adapted to suit the objects in this notebook. For example, bootstrap sampling is used with replacement because the observed sample is small, this seems appropriate. Given time constraints with Travis CI, only 100 bootstrap samples are used to compute the weighting matrix. On my computer, this process already took longer than five minutes. "
   ]
  },
  {
   "cell_type": "code",
   "execution_count": 1,
   "metadata": {
    "scrolled": false
   },
   "outputs": [
    {
     "ename": "NameError",
     "evalue": "name 'datetime' is not defined",
     "output_type": "error",
     "traceback": [
      "\u001b[0;31m---------------------------------------------------------------------------\u001b[0m",
      "\u001b[0;31mNameError\u001b[0m                                 Traceback (most recent call last)",
      "\u001b[0;32m<ipython-input-1-e1724757a592>\u001b[0m in \u001b[0;36m<module>\u001b[0;34m\u001b[0m\n\u001b[0;32m----> 1\u001b[0;31m \u001b[0mstart\u001b[0m \u001b[0;34m=\u001b[0m \u001b[0mdatetime\u001b[0m\u001b[0;34m.\u001b[0m\u001b[0mnow\u001b[0m\u001b[0;34m(\u001b[0m\u001b[0;34m)\u001b[0m\u001b[0;34m\u001b[0m\u001b[0;34m\u001b[0m\u001b[0m\n\u001b[0m\u001b[1;32m      2\u001b[0m weighting_matrix = get_weighting_matrix(\n\u001b[1;32m      3\u001b[0m    \u001b[0mdata\u001b[0m\u001b[0;34m=\u001b[0m\u001b[0mdf_2_pref\u001b[0m\u001b[0;34m,\u001b[0m\u001b[0;34m\u001b[0m\u001b[0;34m\u001b[0m\u001b[0m\n\u001b[1;32m      4\u001b[0m    \u001b[0mempirical_moments\u001b[0m\u001b[0;34m=\u001b[0m\u001b[0mobserved_moments\u001b[0m\u001b[0;34m,\u001b[0m\u001b[0;34m\u001b[0m\u001b[0;34m\u001b[0m\u001b[0m\n\u001b[1;32m      5\u001b[0m    \u001b[0mcalc_moments\u001b[0m\u001b[0;34m=\u001b[0m\u001b[0mcalc_moments\u001b[0m\u001b[0;34m,\u001b[0m\u001b[0;34m\u001b[0m\u001b[0;34m\u001b[0m\u001b[0m\n",
      "\u001b[0;31mNameError\u001b[0m: name 'datetime' is not defined"
     ]
    }
   ],
   "source": [
    "start = datetime.now()\n",
    "weighting_matrix = get_weighting_matrix(\n",
    "   data=df_2_pref,\n",
    "   empirical_moments=observed_moments,\n",
    "   calc_moments=calc_moments,\n",
    "   n_bootstrap_samples=20,\n",
    "   n_observations_per_sample=59,\n",
    "   replace_missing_variances=None)\n",
    "end = datetime.now()\n",
    "time_taken = end - start\n",
    "print(time_taken)"
   ]
  },
  {
   "cell_type": "code",
   "execution_count": 147,
   "metadata": {},
   "outputs": [
    {
     "data": {
      "text/plain": [
       "array([[6.91219064e+00, 0.00000000e+00, 0.00000000e+00, ...,\n",
       "        0.00000000e+00, 0.00000000e+00, 0.00000000e+00],\n",
       "       [0.00000000e+00, 3.42555806e+02, 0.00000000e+00, ...,\n",
       "        0.00000000e+00, 0.00000000e+00, 0.00000000e+00],\n",
       "       [0.00000000e+00, 0.00000000e+00, 1.74799442e+02, ...,\n",
       "        0.00000000e+00, 0.00000000e+00, 0.00000000e+00],\n",
       "       ...,\n",
       "       [0.00000000e+00, 0.00000000e+00, 0.00000000e+00, ...,\n",
       "        9.39121068e-01, 0.00000000e+00, 0.00000000e+00],\n",
       "       [0.00000000e+00, 0.00000000e+00, 0.00000000e+00, ...,\n",
       "        0.00000000e+00, 1.77483299e+04, 0.00000000e+00],\n",
       "       [0.00000000e+00, 0.00000000e+00, 0.00000000e+00, ...,\n",
       "        0.00000000e+00, 0.00000000e+00, 2.48779763e+04]])"
      ]
     },
     "execution_count": 147,
     "metadata": {},
     "output_type": "execute_result"
    }
   ],
   "source": [
    "weighting_matrix"
   ]
  },
  {
   "cell_type": "markdown",
   "metadata": {},
   "source": [
    "### Simulation\n",
    "\n",
    "As I mentioned above, I was not able to replicate the Method of Simulated Moments. Below, there is one simulated round with the specified parameter values. The simulated moments for this round are also provided."
   ]
  },
  {
   "cell_type": "code",
   "execution_count": 148,
   "metadata": {},
   "outputs": [],
   "source": [
    "params = params_description()\n",
    "df_sim = simulation(df_2_pref, params, seed=123)"
   ]
  },
  {
   "cell_type": "code",
   "execution_count": 149,
   "metadata": {
    "scrolled": false
   },
   "outputs": [
    {
     "data": {
      "text/plain": [
       "{'effort_std': 2.2098322905293304,\n",
       " 'corr_round_lag1': 0.46453148846842246,\n",
       " 'corr_round_lag2': 0.4624655355879808,\n",
       " 'round_change_std': 2.2851575583028585,\n",
       " 'mean_period_1': 11.203389830508474,\n",
       " 'mean_period_2': 11.271186440677965,\n",
       " 'mean_period_3': 11.677966101694915,\n",
       " 'mean_period_4': 11.084745762711865,\n",
       " 'mean_period_5': 11.389830508474576,\n",
       " 'mean_period_6': 11.203389830508474,\n",
       " 'mean_period_7': 11.457627118644067,\n",
       " 'mean_period_8': 11.084745762711865,\n",
       " 'mean_period_9': 11.203389830508474,\n",
       " 'mean_period_10': 11.440677966101696,\n",
       " 'cond_corr_e2_prize': 0.043514711862462495,\n",
       " 'cond_corr_e2_e1': 0.05628932390564912,\n",
       " 'cond_corr_e2_e1timesprize': -0.05193393805383915,\n",
       " 'perc17_cond_corr_e2_prize': -0.3803369638934228,\n",
       " 'perc33_cond_corr_e2_prize': -0.2145671191709491,\n",
       " 'perc50_cond_corr_e2_prize': 0.05590650574018078,\n",
       " 'perc66_cond_corr_e2_prize': 0.18637798368375513,\n",
       " 'perc83_cond_corr_e2_prize': 0.3455962599039322,\n",
       " 'perc17_cond_corr_e2_e1': -0.39937768385508987,\n",
       " 'perc33_cond_corr_e2_e1': -0.1026526989053457,\n",
       " 'perc50_cond_corr_e2_e1': 0.08380256371541565,\n",
       " 'perc66_cond_corr_e2_e1': 0.19192663432062104,\n",
       " 'perc83_cond_corr_e2_e1': 0.3570620090280447,\n",
       " 'perc17_cond_corr_e2_e1timesprize': -0.3939835582073033,\n",
       " 'perc33_cond_corr_e2_e1timesprize': -0.15748892845954457,\n",
       " 'perc50_cond_corr_e2_e1timesprize': 0.056329478230835776,\n",
       " 'perc66_cond_corr_e2_e1timesprize': 0.16264908336028666,\n",
       " 'perc83_cond_corr_e2_e1timesprize': 0.33897367723431815,\n",
       " 'low_effort_low_prize': 11.321428571428571,\n",
       " 'low_effort_high_prize': 11.470588235294118,\n",
       " 'high_effort_low_prize': 11.39344262295082,\n",
       " 'high_effort_high_prize': 11.55,\n",
       " 'low_effort_prop': 0.9169491525423729,\n",
       " 'high_effort_prop': 0.0}"
      ]
     },
     "execution_count": 149,
     "metadata": {},
     "output_type": "execute_result"
    }
   ],
   "source": [
    "simulated_moments = dict()\n",
    "for key, func in calc_moments.items():\n",
    "    simulated_moments[key] = func(df_sim)\n",
    "simulated_moments"
   ]
  },
  {
   "cell_type": "markdown",
   "metadata": {},
   "source": [
    "Thankfully, the moments provide a good overview of what went wrong in the simulation. It appears in general the level of effort are too low in the simulated sample. In addition to that the variance is lower than in the original sample. As can be seen in the last row not even one simulated effort over the sample was above 35 correctly placed sliders. To optimize those values is precisely the task by the MSM. It chooses such parameter values that the simulated moments fit the empirical moments as closely as possible. The actual simulation runs 30 times, thus simulating 17,700 pairings. "
   ]
  },
  {
   "cell_type": "markdown",
   "metadata": {},
   "source": [
    "---\n",
    "# Critical Assessment\n",
    "---\n",
    "The saying is that when having a well designed experiment, the following empirical analysis is straight forward. This study turns this saying around and shows that structural models can help overcome difficulties in identifying causal effects. In this experiment, results of the reduced form evidence provided little to no evidence for disappointment aversion. The interaction term between First Mover effort and prize was significant but the main variable of interest, the sole First Mover effort, was not. Here, the use of structural estimation salvaged the situation.   \n",
    "\n",
    "In general, I argue that the experiment was not well suited for the identification. The highly significant dummy variables for round effects in the reduced form analysis, suggest that the design did pick up various confounds that were not intended. The significant negative $\\delta_r$ in the structural estimation corroborates that learning, in fact, did take place through the paying rounds. The experimenters did set up two training rounds, yet it appears this was not enough. Expanding the training rounds might help filter these confounds out of the experimental sample. \n",
    "\n",
    "The empirical analysis by the authors is sound and well justified. Yet, I do not agree with their assessment that the reduced form analysis offers evidence consistent with disappointment aversion. For this to be the case the impact of $e_1$ on $e_2$ has to be significantly lower than zero which is not the true. In their structural model, they test various specifications that would favor explanations other than disappointment aversion for the observed behavior. Unfortunately, I was not able to reproduce the MSM, else I could have commented more extensively on the intrinsics of those specifications.\n",
    "\n",
    "From a experimenter's perspective the study supplies a novel approach to real effort tasks. The slider task provides a convincing method to elicit finely grained discrete effort choices. Yet, for a sample of N subjects 2N need to be paid, since the First Movers also need to be compensated - this appears to be cost-inefficient. Potentially, similar to the training round, the Fist Mover effort can be simulated making the double payments redundant. Of course, it remains to be seen whether the knowledge of having a tournament with a real person has an effect on the Second Mover. \n",
    "\n",
    "The primary contribution by this paper is twofold. First, it anwers the question what an agent's reference point constitutes. In line with Abeler (2011), their evidence suggests that the reference points is given by the expected reference point as the model of reference-dependent preferences predicts. Yet, the structural analysis allows them to estimate the strength of loss-aversion around the reference point and provides estimates about the heterogeneity of disappointment aversion in the underlying population. Since, their prediction does not fix the reference point at the point of optimization, as the parsimonious model of reference-dependent preferences does, this makes the observed behavior applicable to the situation where the agents can affect their probability of success e.g. competing about promotions. Second, the paper contributes to the discussion about how fast reference points form. Given that the Second Mover almost immediately observes the First Mover's effort choice and optimizes her behavior, it indicates that reference points form instantly.  "
   ]
  },
  {
   "cell_type": "markdown",
   "metadata": {},
   "source": [
    "---\n",
    "# Appendix\n",
    "---"
   ]
  },
  {
   "cell_type": "markdown",
   "metadata": {},
   "source": [
    "## Effort Distribution Per Round"
   ]
  },
  {
   "cell_type": "code",
   "execution_count": 150,
   "metadata": {
    "scrolled": true
   },
   "outputs": [
    {
     "data": {
      "image/png": "[encoded data removed]",
      "text/plain": [
       "<Figure size 432x288 with 1 Axes>"
      ]
     },
     "metadata": {
      "needs_background": "light"
     },
     "output_type": "display_data"
    },
    {
     "data": {
      "image/png": "[encoded data removed]",
      "text/plain": [
       "<Figure size 432x288 with 1 Axes>"
      ]
     },
     "metadata": {
      "needs_background": "light"
     },
     "output_type": "display_data"
    },
    {
     "data": {
      "image/png": "[encoded data removed]",
      "text/plain": [
       "<Figure size 432x288 with 1 Axes>"
      ]
     },
     "metadata": {
      "needs_background": "light"
     },
     "output_type": "display_data"
    },
    {
     "data": {
      "image/png": "[encoded data removed]",
      "text/plain": [
       "<Figure size 432x288 with 1 Axes>"
      ]
     },
     "metadata": {
      "needs_background": "light"
     },
     "output_type": "display_data"
    },
    {
     "data": {
      "image/png": "[encoded data removed]",
      "text/plain": [
       "<Figure size 432x288 with 1 Axes>"
      ]
     },
     "metadata": {
      "needs_background": "light"
     },
     "output_type": "display_data"
    },
    {
     "data": {
      "image/png": "[encoded data removed]",
      "text/plain": [
       "<Figure size 432x288 with 1 Axes>"
      ]
     },
     "metadata": {
      "needs_background": "light"
     },
     "output_type": "display_data"
    },
    {
     "data": {
      "image/png": "[encoded data removed]",
      "text/plain": [
       "<Figure size 432x288 with 1 Axes>"
      ]
     },
     "metadata": {
      "needs_background": "light"
     },
     "output_type": "display_data"
    },
    {
     "data": {
      "image/png": "[encoded data removed]",
      "text/plain": [
       "<Figure size 432x288 with 1 Axes>"
      ]
     },
     "metadata": {
      "needs_background": "light"
     },
     "output_type": "display_data"
    },
    {
     "data": {
      "image/png": "[encoded data removed]",
      "text/plain": [
       "<Figure size 432x288 with 1 Axes>"
      ]
     },
     "metadata": {
      "needs_background": "light"
     },
     "output_type": "display_data"
    },
    {
     "data": {
      "image/png": "[encoded data removed]",
      "text/plain": [
       "<Figure size 432x288 with 1 Axes>"
      ]
     },
     "metadata": {
      "needs_background": "light"
     },
     "output_type": "display_data"
    }
   ],
   "source": [
    "effort_distr_per_round(df_2_pref)"
   ]
  },
  {
   "cell_type": "markdown",
   "metadata": {},
   "source": [
    "## Prize Distribution\n",
    "\n",
    "The authors state that the prizes for the tournament are drawn from a uniform distribution. An inspection shows the randomization is successful. The visualization but more importantly the $\\chi^2$-Test confirms that it is not significantly different from a uniform distribution."
   ]
  },
  {
   "cell_type": "code",
   "execution_count": 151,
   "metadata": {
    "scrolled": true
   },
   "outputs": [
    {
     "data": {
      "text/plain": [
       "Power_divergenceResult(statistic=361.38135, pvalue=0.9999999999999948)"
      ]
     },
     "execution_count": 151,
     "metadata": {},
     "output_type": "execute_result"
    },
    {
     "data": {
      "image/png": "[encoded data removed]",
      "text/plain": [
       "<Figure size 432x288 with 1 Axes>"
      ]
     },
     "metadata": {
      "needs_background": "light"
     },
     "output_type": "display_data"
    }
   ],
   "source": [
    "prize_distribution(df_2_pref)\n",
    "chisquare(df_2_pref['prize'])"
   ]
  },
  {
   "cell_type": "markdown",
   "metadata": {},
   "source": [
    "## Moment Computation Specifications\n",
    "\n",
    "As mentioned above, the description in Table 4 sometimes do not match the used computation methods or the description is not specific enough to replicate the solution. Here, I set out how the original results can still be obtained.  \n",
    "\n",
    "First, the conditional means in the table are misspecified. Whereas Table 4 states that the specified effort and prizes needs to be strictly higher or lower, their Matlab function uses non-strict inequality. The respective functions can be found in subdirectory MatLabCode under moments.m line 168 and following. They use the *sign* function to indicate when prices are higher or efforts are higher thant the respective threshold. These are subsequently deleted. Yet, this still leaves the Second Mover efforts that are equal to the threshold in the sample.\n",
    "\n",
    "Second, for the autocorrelation the authors use the pooled autocorrelation. First, all differences from round r-1 to round r are computed and then the correlation is calculated. The implicit assumption here is that that the variances on the subject-level are equal. In turn, the pooled sample variance decreases the denominator, leading to higher autocorrelation estimates. The alternative is to compute the autocorrelations separately for each subject and to use the mean of these correlations:  "
   ]
  },
  {
   "cell_type": "code",
   "execution_count": 152,
   "metadata": {},
   "outputs": [
    {
     "name": "stdout",
     "output_type": "stream",
     "text": [
      "The different autocorrelation specifications: \n",
      "\n",
      "Reported Autocorrelation: 0.652 Mean Autocorrelation: 0.123\n"
     ]
    }
   ],
   "source": [
    "stat1 = pooled_autocorr_lag1(df_2_pref)\n",
    "stat2 = calc_autocorrelation_lag1(df_2_pref)\n",
    "\n",
    "print('The different autocorrelation specifications: \\n')\n",
    "print(f'Reported Autocorrelation: {stat1:0.3f} Mean Autocorrelation: {stat2:0.3f}')"
   ]
  },
  {
   "cell_type": "markdown",
   "metadata": {},
   "source": [
    "Third, the reported percentile results are not compatible with the standard behavior by *np.percentile* or *pandas.quantile*. Instead, it needs to be specified that the interpolation method selects the lower of the two value, when the true percentile lies between two values. "
   ]
  },
  {
   "cell_type": "markdown",
   "metadata": {},
   "source": [
    "# References "
   ]
  },
  {
   "cell_type": "markdown",
   "metadata": {},
   "source": [
    "* **Abeler, Johannes, Armin Falk, Lorenz Goette, and David Huffman. 2011.** Reference Points and Effort Provision. American Economic Review, 101(2): 470–92.\n",
    "* **Cooper, Russell, Douglas V. DeJong, Robert Forsythe, and Thomas W. Ross. 1996.** Cooperation without Reputation: Experimental Evidence from Prisoner’s Dilemma Games. \n",
    "Games and Economic Behavior, 12(2): 187–218.\n",
    "* **Falk, Armin, and Andrea Ichino. 2006.** Clean Evidence on Peer Effects.” Journal of Labor Economics, 24(1): 39–57.\n",
    "* **Fehr, Ernst and Klaus M. Schmidt. 1999.** A Theory of Fairness, Competition, and Cooperation. The Quarterly Journal of Economics. Volume 114, Issue 3. Pages 817–868\n",
    "* **Gabler, Janos and Tobias Raabe. 2020.** respy - A Framework for the Simulation and Estimation of Eckstein-Keane-Wolpin Models. \n",
    "[https://github.com/OpenSourceEconomics/respy](https://github.com/OpenSourceEconomics/respy)\n",
    "* **Gill, David, and Victoria Prowse. 2012.** A Structural Analysis of Disappointment Aversion in a Real Effort Competition. \n",
    "American Economic Review, 102 (1): 469-503.\n",
    "* **Koszegi, Botond and Matthew Rabin. 2006.** A Model of Reference-Dependent Preferences, \n",
    "The Quarterly Journal of Economics, 121, issue 4, p. 1133-1165. \n",
    "* **McFadden, Daniel. 1989.** A Method of Simulated Moments for Estimation of Discrete Response Models Without Numerical Integration. \n",
    "Econometrica, 57(5), 995-1026.\n",
    "* **Pakes, Ariel and David Pollard. 1989.** Simulation and the Asymptotics of Optimization Estimators. \n",
    "Econometrica, 57(5), 1027-1057."
   ]
  }
 ],
 "metadata": {
  "kernelspec": {
   "display_name": "Python 3",
   "language": "python",
   "name": "python3"
  },
  "language_info": {
   "codemirror_mode": {
    "name": "ipython",
    "version": 3
   },
   "file_extension": ".py",
   "mimetype": "text/x-python",
   "name": "python",
   "nbconvert_exporter": "python",
   "pygments_lexer": "ipython3",
   "version": "3.7.4"
  },
  "toc": {
   "base_numbering": 1,
   "nav_menu": {},
   "number_sections": true,
   "sideBar": true,
   "skip_h1_title": false,
   "title_cell": "Table of Contents",
   "title_sidebar": "Contents",
   "toc_cell": true,
   "toc_position": {},
   "toc_section_display": true,
   "toc_window_display": false
  }
 },
 "nbformat": 4,
 "nbformat_minor": 4
}
