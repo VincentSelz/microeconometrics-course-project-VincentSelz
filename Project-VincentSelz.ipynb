{
 "cells": [
  {
   "cell_type": "markdown",
   "metadata": {},
   "source": [
    "--- \n",
    "Project Microeconometrics | Summer 2020, M.Sc. Economics, University of Bonn | [Vincent Selz](https://github.com/VincentSelz)\n",
    "\n",
    "# Replication of “A Structural Analysis of Disappointment Aversion in a Real Effort Competition” by David Gill and Victoria Prowse (2012) <a class=\"tocSkip\"> \n",
    "---"
   ]
  },
  {
   "cell_type": "markdown",
   "metadata": {},
   "source": [
    "There are four ways to view this notebook:\n",
    "\n",
    "Aside, from the accompanying text, the results are labelled into three categories:"
   ]
  },
  {
   "cell_type": "markdown",
   "metadata": {},
   "source": [
    "<div class=\"alert alert-block alert-success\">\n",
    "    <b>Successful replication:</b> All the results are replicated.\n",
    "</div>\n",
    "<div class=\"alert alert-block alert-warning\">\n",
    "    <b>Imperfect replication:</b> Only parts of the results are replicated.\n",
    "</div>\n",
    "<div class=\"alert alert-block alert-info\">\n",
    "    <b>Extension:</b> The results of the paper are expanded.\n",
    "</div>"
   ]
  },
  {
   "cell_type": "code",
   "execution_count": 1,
   "metadata": {
    "scrolled": true
   },
   "outputs": [
    {
     "name": "stderr",
     "output_type": "stream",
     "text": [
      "/Users/vincentselz/opt/anaconda3/lib/python3.7/site-packages/respy/_numba.py:2: NumbaDeprecationWarning: \u001b[1mAn import was requested from a module that has moved location.\n",
      "Import requested from: 'numba.cgutils', please update to use 'numba.core.cgutils' or pin to Numba version 0.48.0. This alias will not be present in Numba version 0.50.0.\u001b[0m\n",
      "  from numba import cgutils\n"
     ]
    }
   ],
   "source": [
    "%load_ext rpy2.ipython\n",
    "%load_ext autoreload\n",
    "%autoreload 2\n",
    "%matplotlib inline\n",
    "\n",
    "from linearmodels.panel import RandomEffects\n",
    "from linearmodels.panel import PanelOLS\n",
    "from linearmodels.panel import FirstDifferenceOLS\n",
    "import numpy as np\n",
    "import pandas as pd\n",
    "import pandas.io.formats.style\n",
    "import respy as rp\n",
    "import scipy.stats as stats\n",
    "import seaborn as sns\n",
    "import statsmodels as sm\n",
    "import statsmodels.formula.api as smf\n",
    "import statsmodels.api as sm_api\n",
    "import matplotlib as plt\n",
    "import matplotlib.pyplot as pyplt\n",
    "from IPython.display import HTML\n",
    "from IPython.display import display\n",
    "\n",
    "from auxiliary.overview import *\n",
    "from auxiliary.msm import *\n",
    "from auxiliary.helper import *\n",
    "\n",
    "pd.set_option(\"display.precision\", 3)\n",
    "pd.set_option('display.max_colwidth', -1)"
   ]
  },
  {
   "cell_type": "code",
   "execution_count": 27,
   "metadata": {
    "scrolled": true
   },
   "outputs": [],
   "source": [
    "%%R\n",
    "\n",
    "library(plm)\n",
    "library(haven)\n",
    "library(msm)\n",
    "library(stargazer)\n",
    "library(car)"
   ]
  },
  {
   "cell_type": "markdown",
   "metadata": {},
   "source": [
    "---\n",
    "# 1. Introduction \n",
    "---\n",
    "Gill & Prowse (2012) use a real effort tournament in an laboratory experiment to test experimentally whether agents are disappointment averse. Pairs of subjects need to complete the real effort task sequentially. The payoff is determined in a lottery, where the probababilities of winning are linear in the difference in the agent's efforts. Hence, in the standard framework, the effort of the *First Mover* should not impact the choice of effort for the *Second Mover*. Yet, as predict by Gill & Prowse's model of disappointment aversion, subjects exhibit a discouragement effect, where high effort by the *First Mover*, impacts the effort by the *Second Mover* negatively. Their effort choices are strategic substitutes.\n",
    "\n",
    "To estimate possible effects. First Gill & Prowse (2012) use a reduced form **random effects panel regression**. Given the substantial variation induced by their experimental design, they use the **Method of Simulated Moments (MSM)** to estimate the parameters of a structural model of disappointment aversion. This structural models allows them to estimate the strength of disappointment aversion on average but also to estimate the extent of heterogeneity in disappointment aversion across the population. \n",
    "\n",
    "This notebook will attempt to replicate the results of Gill & Prowse (2012) and will further add robustness to the findings by Gill & Prowse (2012). If possible Python is used to replicate the findings, yet if not possible R is used. For instance, the **random effects regression** with the common Python packages did yield close results but did not reproduce the same numbers, the authors use in their paper. \n",
    "\n",
    "In the following section, the experimental design is shown. Next, the identification strategy is discussed, followed by the theoretical predictions. Then, the empirical analysis and extension thereof are shown. Extensions are marked by blue boxes. Lastly, the paper will be critically assessed."
   ]
  },
  {
   "cell_type": "markdown",
   "metadata": {},
   "source": [
    "---\n",
    "# 2. Experimental Design\n",
    "---\n",
    "The six experimental session took place from late February to early March 2009 at the Nuffield Centre for Experimental Social Sciences (CESS) in Oxford. Per session twenty subjects participated at the study, leading to a subject pool of 120 participants in total. Each of the were paid a show-up fee of 4 pounds and went on to earn a further 10 pounds on average.  \n",
    "\n",
    "## Slider Task \n",
    "\n",
    "The slider task consists of a single screen displaying numerous sliders. The number and position of sliders is not varied across subjects or across repetition of the task. At first, the sliders who range from 0 to 100 are placed at 0. It is possible to place the slider at every integer position between 0 and 100. The integer position is displaced next to the slider. The sliders can be adjusted and readjusted an unlimited number of times. The task for the subjects is to position as many sliders as possible at 50 during the time allocated to the subject. The number of sliders positioned at 50 constitutes the **points score**. The number of correctly placed sliders and the time remaining is displayed to the subject. In this experiment, 48 sliders were displayed and the subjects had 120 seconds to position them. \n",
    "\n",
    "<img src=\"files/ProwseGillSliderTask.png\">\n",
    "\n",
    "## Experimental Procedure\n",
    "\n",
    "Each session consists of 10 *First Mover* and 10 *Second Mover*, who stay in their role for the duration of their session. After two practice rounds, the subjects played 10 paying rounds. The prize for each pair was drawn randomly from {0.10,0.20,...3.90} and then revealed to the pair members. The task was completed sequentially, where the *Second Mover* observes the **points score** of the *First Mover*. This information is also displayed next to the alloted time and the own points score during the task. The probability to win the ensuing lottery is determined by\n",
    "\n",
    "\\begin{equation*}\n",
    "P_i(e_i,e_j) = \\frac{e_i + e_j + 50}{100}\n",
    "\\end{equation*}\n",
    "\n",
    "were the $e_i$ in this setting corresponds to the **points score** of player $i$, and respectively $e_j$ for player $j$.[^1]\n",
    "\n",
    "After each round the subjects were paired with another subjects. To ensure that subjects never meet each other, the *'no contagion'* matching algorithm of Cooper et al. (1996) is used. This prevents strategic action by the subjects.\n",
    "\n",
    "[^1]: The use of the term effort in the paper is unlike the traditional understanding, where effort is the associated cost of an action. Here, it directly corresponds to the behavior. "
   ]
  },
  {
   "cell_type": "markdown",
   "metadata": {},
   "source": [
    "---\n",
    "# 3. Theoretical Predictions\n",
    "---\n",
    "\n",
    "The paired subjects compete with each other to win a fixed prize $v$. The first subject chooses his effort and then the second mover chooses his effort. Together the above stated probability to winning prize $v$ is determined. The probabilities are linear in the difference of points scores. For their analysis, the authors only focus on the Second Mover. This leaves them with a pure optimization problem.    \n",
    "\n",
    "## Canonical Model\n",
    "\n",
    "For the canonical model to work, the separability assumption common in tournament literature is used. The assumption states that the utility $U_{2}$ can be separated into the *material utility* $u_{2}(y_{2})$ and the cost of effort $C(e_{2})$. This implies cost of effort does not depend on whether the agent wins the prize and the valuation of the prize does not change with increasing effort. Thus , this leaves the agent with the expected utility:\n",
    "\n",
    "\\begin{equation*}\n",
    "EU_2(e_2,e_1) = P_2(e_2,e_1)u_2(v) + (1 - P_2(e_1,e_2)) u_2(0) - C_2(e_2)\n",
    "\\end{equation*}\n",
    "\n",
    "Because of the linearity of the winning probabilities in the difference of efforts, the effort $e_1$ of the First Mover's has no impact on the Second Mover's effort $e_2$. This leads to the proposition:\n",
    "\n",
    "**PROPOSITION 1:** *In the canonical model without disappointment aversion the Second Mover’s optimal effort $e_2$ (or set of optimal efforts) does not depend on the First Mover’s effort $e_1$.*\n",
    "\n",
    "Given this relative lack of further structural assumption makes this model flexible. For instance, the results still holds when risk aversion, inequity aversion (Fehr and Schmidt 1999) or a fixed reference point are webbed into the utility function. \n",
    "\n",
    "## Disappointment Aversion\n",
    "\n",
    "The basis of this model of disappointment aversion is that agents are sensitive to deviations from their expectations.  They suffer a psychological loss when they receive less than what they expect and elation when they receive more. These potential losses and gains, in turn, inform the agent in his/her decision process. **Here could an example do wonders.** \n",
    "\n",
    "The agent compares the material utility $u_2(y_2)$ to a reference point $R_2$. Experiencing a loss when the material utility is less than the reference point and elation when the material utility is above this reference level.  Without further assumption on the form of this Reference Point $R_2$, this leaves the agent with the following utility\n",
    "\n",
    "\\begin{equation*}\n",
    "U_2(e_2,R_2,e_1) = u_2(y_2) + I_{u_2(y_2) \\geq R_2}G_2(u_2(y_2) - R_2) + I_{u_2(y_2) \\leq R_2}L_2(u_2(y_2) - R_2) - C_2(e_2)\n",
    "\\end{equation*}\n",
    "\n",
    "The loss function $L_2(x)$ is strictly negative for all $x < 0$ and the gain function is $G_2(x) \\geq 0$ for $x > 0$. Loss aversion dictates that $G_2(x) < |L_2(-x)|$ for all $x > 0$. The losses are more painful than equal-sized gains are pleasurable. Traditionally, this reference point is given exogenously. Yet, such a fixed reference point does not link the First Mover effort to the Second Mover effort. To model disappointment aversion the reference point must be formed endogenously. Köszegi and Rabin (2007) propose a *choice-acclimating* reference point, where the reference point is equal to the expected utility. The reference point is dependent on the effort of both the Second Mover him/herself and the First Mover's effort. Unlike the model by Köszegi and Rabin, hen optimizing his/her behavior the Second Mover is aware that his/her effort choice affects the reference point. In this setting this leads to $R_2 = vP_2(e_2,e_1)$.\n",
    "\n",
    "As is custom in the literature piece-wise linearity is imposed on the gain-loss utility. $l_2$ is the slope of the loss function and $g_2$ is the slope of the gain function. Loss aversion imposes $l_2 > g_2$ and leads to the (strictly positive) definition of the strength of disappointment aversion\n",
    "\n",
    "\\begin{equation*}\n",
    "\\lambda_2 \\equiv l_2 - G_2$.\n",
    "\\end{equation*}\n",
    "\n",
    "Thus, the disappointment averse expected utility can be formulated as \n",
    "\n",
    "\\begin{equation*}\n",
    "EU_2(e_2,e_1) = P_2 v + g_2(v - vP_2) + (1 - P_2)(0 + l_2(0 + vP_2) - C_2(e_2) \\\\\n",
    "= vP_2 + \\lambda_2vP_2(1 - P_2) - C_2(e_2) \n",
    "\\end{equation*}\n",
    "\n",
    "The extra term in the middle of the equation is coined the **disappointment deficit** by the authors. This disappointment deficit is proportional to the variance of the Second Mover's two-point distribution of monetary payoffs. Due to disappointment aversion, the Second Mover dislikes variance in his/her monetary payoff. This is a key distinction to risk aversion, where agents only care about their probability of winning and not about the variance in their potential payoffs. This variance is strictly concave and maximized at $P_2$. When the efforts yield a zero probability for the Second Mover to win, he/she has a reference point of zero and combined with the probability he/she can never be disappointed. Yet at this point, small increases in probability lead to large increases in the variance of monetary payoffs. These increases get smaller but continue until $P_2 = \\frac{1}{2}$. At this point the variance reaches its highest point. From this point on increases in $P_2$ reduce the variance of monetary payoffs. This relationship can expressed as: \n",
    "\n",
    "**PROPOSITION 2:** *When the Second Mover is disappointment averse, higher First Mover effort discourages the Second Mover: the Second Mover’s optimal effort $e_2$ is always (weakly) decreasing in the First Mover’s effort $e_1$.*\n",
    "\n",
    "In order to derive an analytical expression, the authors assume a quadratic cost of effort of the form \n",
    "\n",
    "\\begin{equation*}\n",
    "C_2(e_2) = be_2 + \\frac{ce_{2}^{2}}{2}.\n",
    "\\end{equation*}\n",
    "\n",
    "With this term the Second Mover's reaction function this leads to \n",
    "\n",
    "**PROPOSITION 3:** *Suppose a disappointment averse Second Mover has a quadratic cost function and a strictly concave objective function, i.e., $\\gamma_2c_2 − \\lambda_2v > 0$. When the action space is continuous, the slope of the Second Mover’s reaction function in the interior is given by*\n",
    "\n",
    "\\begin{equation*}\n",
    "\\frac{de_2}{de_1} = \\frac{-\\lambda_2v}{2\\gamma^2c - \\lambda_2v} < 0.\n",
    "\\end{equation*}\n",
    "\n",
    "*which becomes strictly more negative in the strength of disappointment aversion $\\lambda_2$ and the value of the prize $v$. When the action space is discrete, the discrete analog of the reaction function behaves similarly.*\n",
    "\n"
   ]
  },
  {
   "cell_type": "markdown",
   "metadata": {},
   "source": [
    "---\n",
    "# 4. Identification Strategy\n",
    "---\n",
    "\n",
    "The advantages of an experiment are evident in the identification strategy of the authors. We can assume that the effort of the Second Mover's $e_2$ is affected by the value of the prize $v$, the effort of the First Mover $e_1$. In addition to that there can be learning throughout the ten played periods. Strictly speaking this term is inaccurate, since it actually captures to very different ideas of learning. First, the learning of the Slider Task, where the agent improves his/her performance by experience. But second, there can be meta-learning, where the agent gets more selective under which conditions he/she exerts effort. \n",
    "\n",
    "![ERROR:Something went wrong. Here should be a causal graph](files/AdvancedCausalGraph.png)\n",
    "\n",
    "As the experimenters have total control of the environmental variables, they can randomize all those links, making for a straightforward identification strategy. The prizes are drawn from a uniform distribution between 0.10 and 3.90 Pounds. This variation also has advantages in the construction of structural equations as will be seen later. The ten rounds make it possible to control for individual specific effects and the matching algorithm ensures that there is no feedback back from the Second Mover effort to the First Mover, eliminating possible strategic interaction. The learning effect can be - imperfectly - controlled for with round dummies.    "
   ]
  },
  {
   "cell_type": "markdown",
   "metadata": {},
   "source": [
    "---\n",
    "# 5. Empirical Results\n",
    "---\n",
    "## Data Exploration\n",
    "\n",
    "Before we are turning to the empirical strategies to estimate the strength of disappointment aversion, we can visually inspect the data to see why the authors pursue their identification strategy. The data consists of 120 subjects, 60 First and 60 Second Mover that are all observed over 10 rounds. Of the 120 subjects, one subject failed to correctly position any slider during the training or playing rounds. The dataset excluding this subject is called **df_2_pref** and is used mainly for the analysis. The points score is interpreted as the effort choice by the subject. Although still discrete, this gives them a finely gradated measure of effort.\n",
    "\n",
    "The variable of interest is the Second Mover's effort and, thus, the authors are performing a conditional analysis of the Second Mover's effort choice. Their reasoning is that this analysis is sufficient for the puropose of identfying and estimating the strength of siappointment aversion. Including the First Mover's effort would make further assumptions necessary and increase the computational complexity substantially. "
   ]
  },
  {
   "cell_type": "markdown",
   "metadata": {},
   "source": [
    "<div class=\"alert alert-block alert-success\">\n",
    "    <b>Replication</b> of Table 1 of the paper.\n",
    "</div>"
   ]
  },
  {
   "cell_type": "code",
   "execution_count": 3,
   "metadata": {
    "scrolled": false
   },
   "outputs": [
    {
     "data": {
      "text/html": [
       "<div>\n",
       "<style scoped>\n",
       "    .dataframe tbody tr th:only-of-type {\n",
       "        vertical-align: middle;\n",
       "    }\n",
       "\n",
       "    .dataframe tbody tr th {\n",
       "        vertical-align: top;\n",
       "    }\n",
       "\n",
       "    .dataframe thead th {\n",
       "        text-align: right;\n",
       "    }\n",
       "</style>\n",
       "<table border=\"1\" class=\"dataframe\">\n",
       "  <thead>\n",
       "    <tr style=\"text-align: right;\">\n",
       "      <th></th>\n",
       "      <th>Mean E1</th>\n",
       "      <th>SD E1</th>\n",
       "      <th>Mean E2</th>\n",
       "      <th>SD E2</th>\n",
       "      <th>Min E1</th>\n",
       "      <th>Min E2</th>\n",
       "      <th>Max E1</th>\n",
       "      <th>Max E2</th>\n",
       "    </tr>\n",
       "    <tr>\n",
       "      <th>period</th>\n",
       "      <th></th>\n",
       "      <th></th>\n",
       "      <th></th>\n",
       "      <th></th>\n",
       "      <th></th>\n",
       "      <th></th>\n",
       "      <th></th>\n",
       "      <th></th>\n",
       "    </tr>\n",
       "  </thead>\n",
       "  <tbody>\n",
       "    <tr>\n",
       "      <th>1</th>\n",
       "      <td>22.034</td>\n",
       "      <td>5.991</td>\n",
       "      <td>21.763</td>\n",
       "      <td>6.101</td>\n",
       "      <td>1</td>\n",
       "      <td>0</td>\n",
       "      <td>33</td>\n",
       "      <td>34</td>\n",
       "    </tr>\n",
       "    <tr>\n",
       "      <th>2</th>\n",
       "      <td>22.627</td>\n",
       "      <td>6.708</td>\n",
       "      <td>23.458</td>\n",
       "      <td>4.836</td>\n",
       "      <td>0</td>\n",
       "      <td>11</td>\n",
       "      <td>33</td>\n",
       "      <td>33</td>\n",
       "    </tr>\n",
       "    <tr>\n",
       "      <th>3</th>\n",
       "      <td>24.763</td>\n",
       "      <td>6.075</td>\n",
       "      <td>24.831</td>\n",
       "      <td>4.875</td>\n",
       "      <td>0</td>\n",
       "      <td>12</td>\n",
       "      <td>37</td>\n",
       "      <td>38</td>\n",
       "    </tr>\n",
       "    <tr>\n",
       "      <th>4</th>\n",
       "      <td>24.627</td>\n",
       "      <td>5.956</td>\n",
       "      <td>25.203</td>\n",
       "      <td>4.502</td>\n",
       "      <td>0</td>\n",
       "      <td>16</td>\n",
       "      <td>35</td>\n",
       "      <td>36</td>\n",
       "    </tr>\n",
       "    <tr>\n",
       "      <th>5</th>\n",
       "      <td>24.966</td>\n",
       "      <td>6.800</td>\n",
       "      <td>25.119</td>\n",
       "      <td>5.660</td>\n",
       "      <td>0</td>\n",
       "      <td>0</td>\n",
       "      <td>36</td>\n",
       "      <td>35</td>\n",
       "    </tr>\n",
       "    <tr>\n",
       "      <th>6</th>\n",
       "      <td>24.729</td>\n",
       "      <td>7.508</td>\n",
       "      <td>24.898</td>\n",
       "      <td>7.039</td>\n",
       "      <td>1</td>\n",
       "      <td>0</td>\n",
       "      <td>37</td>\n",
       "      <td>39</td>\n",
       "    </tr>\n",
       "    <tr>\n",
       "      <th>7</th>\n",
       "      <td>25.881</td>\n",
       "      <td>5.855</td>\n",
       "      <td>25.763</td>\n",
       "      <td>6.109</td>\n",
       "      <td>9</td>\n",
       "      <td>0</td>\n",
       "      <td>37</td>\n",
       "      <td>37</td>\n",
       "    </tr>\n",
       "    <tr>\n",
       "      <th>8</th>\n",
       "      <td>26.831</td>\n",
       "      <td>5.858</td>\n",
       "      <td>26.169</td>\n",
       "      <td>5.133</td>\n",
       "      <td>9</td>\n",
       "      <td>14</td>\n",
       "      <td>41</td>\n",
       "      <td>35</td>\n",
       "    </tr>\n",
       "    <tr>\n",
       "      <th>9</th>\n",
       "      <td>25.593</td>\n",
       "      <td>8.550</td>\n",
       "      <td>26.254</td>\n",
       "      <td>6.702</td>\n",
       "      <td>0</td>\n",
       "      <td>0</td>\n",
       "      <td>38</td>\n",
       "      <td>40</td>\n",
       "    </tr>\n",
       "    <tr>\n",
       "      <th>10</th>\n",
       "      <td>26.322</td>\n",
       "      <td>6.781</td>\n",
       "      <td>26.729</td>\n",
       "      <td>5.988</td>\n",
       "      <td>1</td>\n",
       "      <td>0</td>\n",
       "      <td>40</td>\n",
       "      <td>39</td>\n",
       "    </tr>\n",
       "  </tbody>\n",
       "</table>\n",
       "</div>"
      ],
      "text/plain": [
       "        Mean E1  SD E1  Mean E2  SD E2  Min E1  Min E2  Max E1  Max E2\n",
       "period                                                                \n",
       "1       22.034   5.991  21.763   6.101  1       0       33      34    \n",
       "2       22.627   6.708  23.458   4.836  0       11      33      33    \n",
       "3       24.763   6.075  24.831   4.875  0       12      37      38    \n",
       "4       24.627   5.956  25.203   4.502  0       16      35      36    \n",
       "5       24.966   6.800  25.119   5.660  0       0       36      35    \n",
       "6       24.729   7.508  24.898   7.039  1       0       37      39    \n",
       "7       25.881   5.855  25.763   6.109  9       0       37      37    \n",
       "8       26.831   5.858  26.169   5.133  9       14      41      35    \n",
       "9       25.593   8.550  26.254   6.702  0       0       38      40    \n",
       "10      26.322   6.781  26.729   5.988  1       0       40      39    "
      ]
     },
     "execution_count": 3,
     "metadata": {},
     "output_type": "execute_result"
    }
   ],
   "source": [
    "df_1, df_2, df_2_pref = get_datasets()\n",
    "rslt = effort_overview(df_2_pref)\n",
    "rslt"
   ]
  },
  {
   "cell_type": "markdown",
   "metadata": {},
   "source": [
    "One important inferences that can be made is that the maximum of effort is 41 correctly positioned sliders. This is lower than the highest possible maximum of 48 sliders. If, subjects reached these limits, this would suggest that the task is not suited to identify exerted effort. Another inferences is that the effort choices increase over the rounds, suggesting that learning indeed takes place. "
   ]
  },
  {
   "cell_type": "markdown",
   "metadata": {},
   "source": [
    "<div class=\"alert alert-block alert-info\">\n",
    "<b>Note:</b> The following graphs and charts are extensions of the paper.\n",
    "</div>"
   ]
  },
  {
   "cell_type": "code",
   "execution_count": 4,
   "metadata": {
    "scrolled": true
   },
   "outputs": [
    {
     "data": {
      "text/plain": [
       "<matplotlib.axes._subplots.AxesSubplot at 0x138e401d0>"
      ]
     },
     "execution_count": 4,
     "metadata": {},
     "output_type": "execute_result"
    },
    {
     "data": {
      "image/png": "[encoded data removed]",
      "text/plain": [
       "<Figure size 720x360 with 1 Axes>"
      ]
     },
     "metadata": {
      "needs_background": "light"
     },
     "output_type": "display_data"
    }
   ],
   "source": [
    "effort_chart(rslt)"
   ]
  },
  {
   "cell_type": "markdown",
   "metadata": {},
   "source": [
    "This chart visualizes Table 1 of the paper. The black bar is indicating the standard deviation of the respective means. Clearly, there appears to be no clear distinction between $e_2$ and $e_1$, when simply inspecting these descriptives. "
   ]
  },
  {
   "cell_type": "code",
   "execution_count": 5,
   "metadata": {
    "scrolled": false
   },
   "outputs": [
    {
     "data": {
      "image/png": "[encoded data removed]",
      "text/plain": [
       "<Figure size 432x288 with 1 Axes>"
      ]
     },
     "metadata": {
      "needs_background": "light"
     },
     "output_type": "display_data"
    },
    {
     "data": {
      "image/png": "[encoded data removed]",
      "text/plain": [
       "<Figure size 432x288 with 1 Axes>"
      ]
     },
     "metadata": {
      "needs_background": "light"
     },
     "output_type": "display_data"
    },
    {
     "data": {
      "image/png": "[encoded data removed]",
      "text/plain": [
       "<Figure size 432x288 with 1 Axes>"
      ]
     },
     "metadata": {
      "needs_background": "light"
     },
     "output_type": "display_data"
    },
    {
     "data": {
      "image/png": "[encoded data removed]",
      "text/plain": [
       "<Figure size 432x288 with 1 Axes>"
      ]
     },
     "metadata": {
      "needs_background": "light"
     },
     "output_type": "display_data"
    },
    {
     "data": {
      "image/png": "[encoded data removed]",
      "text/plain": [
       "<Figure size 432x288 with 1 Axes>"
      ]
     },
     "metadata": {
      "needs_background": "light"
     },
     "output_type": "display_data"
    },
    {
     "data": {
      "image/png": "[encoded data removed]",
      "text/plain": [
       "<Figure size 432x288 with 1 Axes>"
      ]
     },
     "metadata": {
      "needs_background": "light"
     },
     "output_type": "display_data"
    },
    {
     "data": {
      "image/png": "[encoded data removed]",
      "text/plain": [
       "<Figure size 432x288 with 1 Axes>"
      ]
     },
     "metadata": {
      "needs_background": "light"
     },
     "output_type": "display_data"
    },
    {
     "data": {
      "image/png": "[encoded data removed]",
      "text/plain": [
       "<Figure size 432x288 with 1 Axes>"
      ]
     },
     "metadata": {
      "needs_background": "light"
     },
     "output_type": "display_data"
    },
    {
     "data": {
      "image/png": "[encoded data removed]",
      "text/plain": [
       "<Figure size 432x288 with 1 Axes>"
      ]
     },
     "metadata": {
      "needs_background": "light"
     },
     "output_type": "display_data"
    },
    {
     "data": {
      "image/png": "[encoded data removed]",
      "text/plain": [
       "<Figure size 432x288 with 1 Axes>"
      ]
     },
     "metadata": {
      "needs_background": "light"
     },
     "output_type": "display_data"
    }
   ],
   "source": [
    "effort_distr_per_round(df_2_pref)"
   ]
  },
  {
   "cell_type": "markdown",
   "metadata": {},
   "source": [
    "A closer look at the effort distribution per round that there is some variation and a non-neglible amount of subjects choosing zero effort. Yet, the distribution do appear to behave approximately normal.  "
   ]
  },
  {
   "cell_type": "code",
   "execution_count": 6,
   "metadata": {
    "scrolled": false
   },
   "outputs": [
    {
     "name": "stderr",
     "output_type": "stream",
     "text": [
      "/Users/vincentselz/opt/anaconda3/lib/python3.7/site-packages/seaborn/axisgrid.py:1840: UserWarning: JointGrid annotation is deprecated and will be removed in a future release.\n",
      "  warnings.warn(UserWarning(msg))\n"
     ]
    },
    {
     "data": {
      "text/plain": [
       "<seaborn.axisgrid.JointGrid at 0x13a0922d0>"
      ]
     },
     "execution_count": 6,
     "metadata": {},
     "output_type": "execute_result"
    },
    {
     "data": {
      "image/png": "[encoded data removed]",
      "text/plain": [
       "<Figure size 432x432 with 3 Axes>"
      ]
     },
     "metadata": {
      "needs_background": "light"
     },
     "output_type": "display_data"
    }
   ],
   "source": [
    "joint_effort(df_2_pref)"
   ]
  },
  {
   "cell_type": "markdown",
   "metadata": {},
   "source": [
    "As mentioned above, the link that the authors want to investigate is whether the effort $e_1$ of the First Mover negatively impacts the choice of effort $e_2$ made by the Second Mover. A naive strategy is to check for the correlation between those to effort choices. Where disappointment aversion predicts a negative relationship, the canoncal model suggest that there is no link between the effort choices. The correlation suggests that there is little to no correlation, and if at all, they are positively correlated. This positive relationship is suggested by peer effects (Falk and Ichino 2006), where subjects imitate the behavior of their peers and compete by matching or beating the observed effort levels. \n",
    "\n",
    "However, this naturally is an insufficient analysis without controlling for any of the other effects on Second Mover effort described in the identification strategy. Thus, next the authors use a reduced form analysis to examine Second Mover's behavior.   "
   ]
  },
  {
   "cell_type": "markdown",
   "metadata": {},
   "source": [
    "---\n",
    "## Reduced Form Analysis\n",
    "---\n",
    "\n",
    "Given the ten rounds each subject plays that leaves the authors with a panel structure. Here, proposition 1 predicts that when controlling for prize and round effects, the effort of the Second Mover will not depend on the First Mover's effort. In contrast, disappointment aversion predicts a negative relationship. The model to be estimated is:\n",
    "\\begin{equation}\n",
    "e_{2,n,r} = \\beta_1 + \\beta_2v_{n,r} + \\beta_3e_{1,n,r} + \\beta_4e_{1,n,r}  *  v_{n,r} + d_r + \\omega_n + \\epsilon_{n,r} \n",
    "\\end{equation}\n",
    "\n",
    "for   n = 1,...,N and r = 1,...10. Where n denotes the Second Mover and r indicates the paying round. The inclusion of the interaction term is informed by Proposition 3, where the negative effect of the First Mover's effort is larger at higher prizes. Round dummies are included, as well as round-invariant Second Mover effects denoted by $\\omega_n$. $\\omega_n$ is assumed to be identically and independently distributed over Second Movers with a variance of $\\sigma_\\omega^2$. $\\epsilon_{n,r}$ is an observable that varies over Second Movers, it is also assumed to be identically and independently distributed over rounds and Second Movers with variance $\\sigma_\\epsilon^2$."
   ]
  },
  {
   "cell_type": "markdown",
   "metadata": {},
   "source": [
    "<div class=\"alert alert-block alert-info\">\n",
    "<b>Note:</b> In the following cells the analysis with R is set up. R is used because using RandomEffects of the linearmodels package does not replicate the results exactly.  \n",
    "</div>"
   ]
  },
  {
   "cell_type": "code",
   "execution_count": 7,
   "metadata": {
    "scrolled": true
   },
   "outputs": [],
   "source": [
    "%%R\n",
    "\n",
    "# import data \n",
    "df <- read_dta(\"data/paper_data/master_data.dta\")\n",
    "\n",
    "# convert the data frame to a data format recognizable by 'plm' \n",
    "pdf <- subset(pdata.frame(df, index = c(\"Subject\", \"Period\")))\n",
    "pdf_pref <- subset(pdf, !Subject==302)\n",
    "\n",
    "# Split interaction term on the first and the last rounds\n",
    "split <- pdf_pref\n",
    "split$Period <- as.numeric(split$Period)\n",
    "\n",
    "#This ensures that we have two different interaction terms\n",
    "split$last <- ifelse(split$Period <= 5, 0, split$E1timesPrize)\n",
    "split$first <- ifelse(split$Period > 5, 0, split$E1timesPrize)"
   ]
  },
  {
   "cell_type": "code",
   "execution_count": 8,
   "metadata": {
    "scrolled": true
   },
   "outputs": [],
   "source": [
    "%%R\n",
    "\n",
    "# Random Effects Regressions\n",
    "re <- plm(Effort~e1+prize+E1timesPrize+TT2+TT3+TT4+TT5+TT6+TT7+TT8+TT9+TT10, data = pdf, model = \"random\")\n",
    "re_pref <- plm(Effort~e1+prize+E1timesPrize+TT2+TT3+TT4+TT5+TT6+TT7+TT8+TT9+TT10, data = pdf_pref, model = \"random\")\n",
    "# Fixed Effects Regressions\n",
    "fe <- plm(Effort~e1+prize+E1timesPrize+TT2+TT3+TT4+TT5+TT6+TT7+TT8+TT9+TT10, data = pdf, model = \"within\")\n",
    "fe_pref <- plm(Effort~e1+prize+E1timesPrize+TT2+TT3+TT4+TT5+TT6+TT7+TT8+TT9+TT10, data = pdf_pref, model = \"within\")\n",
    "# Robustness\n",
    "re_pref_wo_prices <- plm(Effort~e1+TT2+TT3+TT4+TT5+TT6+TT7+TT8+TT9+TT10, data = pdf_pref, model = \"random\")\n",
    "split_interaction <- plm(Effort~e1+prize+last+first+TT2+TT3+TT4+TT5+TT6+TT7+TT8+TT9+TT10, data = split, model = \"random\")"
   ]
  },
  {
   "cell_type": "markdown",
   "metadata": {},
   "source": [
    "<div class=\"alert alert-block alert-success\">\n",
    "    <b>Replication</b> of the parameters and standard errors in Table 2 of the paper.\n",
    "</div>"
   ]
  },
  {
   "cell_type": "code",
   "execution_count": 25,
   "metadata": {
    "scrolled": true
   },
   "outputs": [
    {
     "name": "stdout",
     "output_type": "stream",
     "text": [
      "\n",
      "Random Effects Regressions\n",
      "=======================================================\n",
      "                               Dependent variable:     \n",
      "                           ----------------------------\n",
      "                               Second Mover Effort     \n",
      "                           Preferred Sample Full Sample\n",
      "                                 (1)            (2)    \n",
      "-------------------------------------------------------\n",
      "First Mover Effort              0.044          0.047   \n",
      "                               (0.049)        (0.049)  \n",
      "Prize                          1.639***      1.655***  \n",
      "                               (0.602)        (0.592)  \n",
      "Prize x First Mover effort     -0.049**      -0.050**  \n",
      "                               (0.023)        (0.023)  \n",
      "Intercept                     19.777***      19.392*** \n",
      "                               (1.400)        (1.447)  \n",
      "-------------------------------------------------------\n",
      "Observations                     590            600    \n",
      "R2                              0.137          0.135   \n",
      "Adjusted R2                     0.119          0.117   \n",
      "F Statistic                   91.452***      91.268*** \n",
      "=======================================================\n",
      "Note:                       *p<0.1; **p<0.05; ***p<0.01\n"
     ]
    }
   ],
   "source": [
    "%%R\n",
    "\n",
    "stargazer(re_pref, re, type=\"text\", title=\"Random Effects Regressions\",\n",
    "          dep.var.labels=\"Second Mover Effort\",\n",
    "          omit=c(\"TT2\",\"TT3\",\"TT4\",\"TT5\",\"TT6\",\"TT7\",\"TT8\",\"TT9\",\"TT10\"),\n",
    "          covariate.labels=c(\"First Mover Effort\", \"Prize\", \"Prize x First Mover effort\",\"Intercept\"),\n",
    "          column.labels=c(\"Preferred Sample\", \"Full Sample\"),\n",
    "          no.space=TRUE)"
   ]
  },
  {
   "cell_type": "markdown",
   "metadata": {},
   "source": [
    "Here should the interpretation be"
   ]
  },
  {
   "cell_type": "code",
   "execution_count": 10,
   "metadata": {},
   "outputs": [
    {
     "name": "stdout",
     "output_type": "stream",
     "text": [
      "                 var std.dev share\n",
      "idiosyncratic 14.838   3.852 0.447\n",
      "individual    18.387   4.288 0.553\n",
      "theta: 0.7267\n"
     ]
    }
   ],
   "source": [
    "%%R\n",
    "\n",
    "# Compute the Random Effect Standard Errors of the preferred sample\n",
    "se_re_pref <- ercomp(re_pref)\n",
    "se_re_pref"
   ]
  },
  {
   "cell_type": "code",
   "execution_count": 11,
   "metadata": {},
   "outputs": [
    {
     "name": "stdout",
     "output_type": "stream",
     "text": [
      "                 var std.dev share\n",
      "idiosyncratic 14.638   3.826 0.339\n",
      "individual    28.537   5.342 0.661\n",
      "theta: 0.7791\n"
     ]
    }
   ],
   "source": [
    "%%R\n",
    "\n",
    "# Compute the Random Effect Standard Errors of the full sample\n",
    "se_re <- ercomp(re)\n",
    "se_re"
   ]
  },
  {
   "cell_type": "markdown",
   "metadata": {},
   "source": [
    "some interpretation of the regression parameters "
   ]
  },
  {
   "cell_type": "markdown",
   "metadata": {},
   "source": [
    "<div class=\"alert alert-block alert-info\">\n",
    "<b>Note:</b> The following regression shows the fixed effects regression that is mentioned in the text but not epxlicitly shown. \n",
    "</div>"
   ]
  },
  {
   "cell_type": "code",
   "execution_count": 12,
   "metadata": {
    "scrolled": false
   },
   "outputs": [
    {
     "name": "stdout",
     "output_type": "stream",
     "text": [
      "\n",
      "Fixed Effects Regressions\n",
      "==========================================================================\n",
      "                                         Dependent variable:              \n",
      "                           -----------------------------------------------\n",
      "                                         Second Mover Effort              \n",
      "                              Preferred Sample           Full Sample      \n",
      "                                     (1)                     (2)          \n",
      "--------------------------------------------------------------------------\n",
      "First Mover Effort                  0.047                   0.050         \n",
      "                                   (0.050)                 (0.049)        \n",
      "Prize                             1.716***                1.701***        \n",
      "                                   (0.605)                 (0.594)        \n",
      "Prize x First Mover effort        -0.051**                -0.051**        \n",
      "                                   (0.024)                 (0.023)        \n",
      "--------------------------------------------------------------------------\n",
      "Observations                         590                     600          \n",
      "R2                                  0.151                   0.148         \n",
      "Adjusted R2                         0.037                   0.034         \n",
      "F Statistic                7.709*** (df = 12; 519) 7.655*** (df = 12; 528)\n",
      "==========================================================================\n",
      "Note:                                          *p<0.1; **p<0.05; ***p<0.01\n"
     ]
    }
   ],
   "source": [
    "%%R\n",
    "\n",
    "stargazer(fe_pref,fe, type=\"text\", title=\"Fixed Effects Regressions\",\n",
    "          dep.var.labels=\"Second Mover Effort\",\n",
    "          omit=c(\"TT2\",\"TT3\",\"TT4\",\"TT5\",\"TT6\",\"TT7\",\"TT8\",\"TT9\",\"TT10\"),\n",
    "          covariate.labels=c(\"First Mover Effort\", \"Prize\", \"Prize x First Mover effort\",\"Intercept\"),\n",
    "          column.labels=c(\"Preferred Sample\", \"Full Sample\"),\n",
    "          no.space=TRUE)"
   ]
  },
  {
   "cell_type": "markdown",
   "metadata": {},
   "source": [
    "### Fixed vs. Random Effects Models\n",
    "\n",
    "The authors opt to use a random effects linear regression. It is closely related to the fixed effects. Here, the different assumptions made by the two approaches are discussed. This is followed by the replication of the standard error and the Hausman test that can be found in Table 2. \n",
    "\n",
    "Both approaches are workhorses when working with panel/cross sectional time series data. The key question distinction between the two models is the assumption about the omitted variables. Implicitly, the random effects model assumes that there are no omitted variables correlated with the explanatory variables. The entities are drawn randomly from a population. If this is accurate, the model yields unbiased results and produces the smallest standard errors. In comparison, the fixed effects model makes no such strong asusmptions about the correlation of ommited variables with the explanatory variables. In fact, the approach can control for omitted variables bias. The subjects serve as their own controls. For this to hold true, the fixed effects has to be time-invariant. However, being able to control for omitted variable bias comes at the cost of producing higher standard errors. \n",
    "\n",
    "The **Hausman test** provides a means for comparing those two models. It tests for the independence of $\\omega_n$ and the explanatory variables $x_{it}$. It looks as follows:\n",
    "\\begin{equation}\n",
    "W = \\frac{(\\tilde\\beta_{RE} - \\tilde\\beta_{FE})^2}{Var(\\tilde\\beta_{RE}) - Var(\\tilde\\beta_{FE})} \\sim \\chi_1^2\n",
    "\\end{equation}\n",
    "\n",
    "The null hypothesis $H_0$ is that there is no covariance between the explanatory variables and the specific effects is zero. If this hypothesis is rejected, the $H_1$ leaves us with the fixed effects model coefficients as the only consistent coefficients.    \n"
   ]
  },
  {
   "cell_type": "markdown",
   "metadata": {},
   "source": [
    "<div class=\"alert alert-block alert-success\">\n",
    "    <b>Replication</b> of the Hausman test in  Table 2 of the paper.\n",
    "</div>"
   ]
  },
  {
   "cell_type": "code",
   "execution_count": 35,
   "metadata": {
    "scrolled": false
   },
   "outputs": [
    {
     "name": "stdout",
     "output_type": "stream",
     "text": [
      "\n",
      "\tHausman Test\n",
      "\n",
      "data:  Effort ~ e1 + prize + E1timesPrize + TT2 + TT3 + TT4 + TT5 +  ...\n",
      "chisq = 2.6008, df = 12, p-value = 0.9978\n",
      "alternative hypothesis: one model is inconsistent\n",
      "\n"
     ]
    }
   ],
   "source": [
    "%%R\n",
    "\n",
    "# Hausman Test testing the Random Effects assumption\n",
    "hausman <- phtest(fe,re)\n",
    "hausman_pref <- phtest(fe_pref,re_pref)\n",
    "\n",
    "hausman_pref"
   ]
  },
  {
   "cell_type": "markdown",
   "metadata": {},
   "source": [
    "<div class=\"alert alert-block alert-info\">\n",
    "<b>Note:</b> The following regression also uses two different interaction terms but sets the cut at the 4th round instead of the 5th round. This follows from the visual analysis of the effort distribution per round displayed above. \n",
    "</div>"
   ]
  },
  {
   "cell_type": "code",
   "execution_count": 31,
   "metadata": {
    "scrolled": true
   },
   "outputs": [
    {
     "name": "stdout",
     "output_type": "stream",
     "text": [
      "\n",
      "Interaction Term Splits\n",
      "====================================================\n",
      "                          Dependent variable:       \n",
      "                   ---------------------------------\n",
      "                          Second Mover Effort       \n",
      "                   Split at round 5 Split at round 4\n",
      "                         (1)              (2)       \n",
      "----------------------------------------------------\n",
      "First Mover Effort      0.044            0.043      \n",
      "                       (0.049)          (0.050)     \n",
      "Prize                  1.640***         1.619***    \n",
      "                       (0.604)          (0.605)     \n",
      "Last                   -0.047**         -0.050**    \n",
      "                       (0.024)          (0.024)     \n",
      "First                  -0.050**         -0.046*     \n",
      "                       (0.024)          (0.025)     \n",
      "Intercept             19.843***        19.687***    \n",
      "                       (1.415)          (1.416)     \n",
      "----------------------------------------------------\n",
      "Observations             590              590       \n",
      "R2                      0.136            0.136      \n",
      "Adjusted R2             0.117            0.117      \n",
      "F Statistic           90.911***        90.977***    \n",
      "====================================================\n",
      "Note:                    *p<0.1; **p<0.05; ***p<0.01\n"
     ]
    }
   ],
   "source": [
    "%%R\n",
    "\n",
    "# Split interaction term on the first and the last rounds\n",
    "new_split <- pdf_pref\n",
    "new_split$Period <- as.numeric(new_split$Period)\n",
    "\n",
    "#This ensures that we have two different interaction terms\n",
    "new_split$last <- ifelse(new_split$Period <= 4, 0, new_split$E1timesPrize)\n",
    "new_split$first <- ifelse(new_split$Period > 4, 0, new_split$E1timesPrize)\n",
    "\n",
    "new_interaction_split <- plm(Effort~e1+prize+last+first+TT2+TT3+TT4+TT5+TT6+TT7+TT8+TT9+TT10, data = new_split, model = \"random\")\n",
    "\n",
    "stargazer(split_interaction,new_interaction_split, type=\"text\", title=\"Interaction Term Splits\",\n",
    "          dep.var.labels=\"Second Mover Effort\",\n",
    "          omit=c(\"TT2\",\"TT3\",\"TT4\",\"TT5\",\"TT6\",\"TT7\",\"TT8\",\"TT9\",\"TT10\"),\n",
    "          covariate.labels=c(\"First Mover Effort\", \"Prize\", \"Last\",\"First\",\"Intercept\"),\n",
    "          column.labels=c(\"Split at round 5\", \"Split at round 4\"),\n",
    "          no.space=TRUE)"
   ]
  },
  {
   "cell_type": "markdown",
   "metadata": {},
   "source": [
    "Using a different break point, where the interaction term the first four rounds is denoted by First and the last six rounds are denoted by Last. Does not affect the model much. Although, in the new specification the interaction for the first round is not significant at a 5% level anymore, inspecting the coefficients does not lead to any new conclusions. Now, the last rounds have a larger negative effect than the first round, yet the differences are minor and the test below affirms that the difference is not significant. "
   ]
  },
  {
   "cell_type": "code",
   "execution_count": 34,
   "metadata": {},
   "outputs": [
    {
     "name": "stdout",
     "output_type": "stream",
     "text": [
      "Linear hypothesis test\n",
      "\n",
      "Hypothesis:\n",
      "- last  + first = 0\n",
      "\n",
      "Model 1: restricted model\n",
      "Model 2: Effort ~ e1 + prize + last + first + TT2 + TT3 + TT4 + TT5 + \n",
      "    TT6 + TT7 + TT8 + TT9 + TT10\n",
      "\n",
      "  Res.Df Df  Chisq Pr(>Chisq)\n",
      "1    577                     \n",
      "2    576  1 0.1868     0.6656\n"
     ]
    }
   ],
   "source": [
    "%%R\n",
    "\n",
    "# Test equality of the interaction term for the first and the last five rounds.\n",
    "linearHypothesis(split_interaction, c(\"first=last\"))\n",
    "\n",
    "# Test for equality of the split interaction term with a break at round 4\n",
    "linearHypothesis(new_interaction_split, c(\"first=last\"))"
   ]
  },
  {
   "cell_type": "markdown",
   "metadata": {},
   "source": [
    "## Structural Model"
   ]
  },
  {
   "cell_type": "markdown",
   "metadata": {},
   "source": [
    "### Empirical Specification\n",
    "After not accumulating convincing evidence of disappointment aversion in the reduced form analysis the authors turn to structural estimation strategies. Thanks to the variations induced by the experimental design, the data is well-suited for such an analysis. Beyond, the estimation of disappointment aversion, this approach also allows for the estimation of the population-level heterogeneity.\n",
    "\n",
    "This leads them to the following specifications:\n",
    "\n",
    "\\begin{equation}\n",
    "\\lambda_{2,n} \\sim N(\\tilde\\lambda_2,sigma_\\lambda^2)\n",
    "\\end{equation}\n",
    "for n = 1,...,N.\n",
    "\n",
    "Here, $\\lambda$ is held fixed on the subject-level. It can vary throughout Second Movers but does not vary over rounds. In addition to $\\lambda$ the convexity parameter $c_{n,r}$ is estimated. It is estimated at round and subject-level, making this task a dynamic one. \n",
    "\n",
    "\\begin{equation}\n",
    "c_{n,r} = \\kappa + \\delta_r + \\mu_n + \\pi_{n,r}\n",
    "\\end{equation}\n",
    "for n = 1,...,N; r = 1,...10.\n",
    "\n",
    "$\\kappa$ is represents a component common across all Second Movers. $\\delta_n$ denotes the round effects that allow the marginal costs of effort to vary rounds. For instance, if due to learning the tasks gets easier in the later periods $\\delta_r$ is negative and decreasing over rounds. $\\mu_n$ indicates the unobserved differences in the cost of effort on the subject-level that are constant over rounds. $\\pi_{n,r}$ denotes the unobserved differences that vary over rounds and Second Movers. For $\\pi$ and $\\mu$ both scale and shape paramters of a Weibull distribution are estimated. The reasoning for opting for a Weibull distribution is that it has positive support allowing to impose convex cost of effort function on all subjects. In total, this leaves them with the following 17 unknown parameter:  "
   ]
  },
  {
   "cell_type": "code",
   "execution_count": 15,
   "metadata": {
    "scrolled": false
   },
   "outputs": [
    {
     "data": {
      "text/html": [
       "<div>\n",
       "<style scoped>\n",
       "    .dataframe tbody tr th:only-of-type {\n",
       "        vertical-align: middle;\n",
       "    }\n",
       "\n",
       "    .dataframe tbody tr th {\n",
       "        vertical-align: top;\n",
       "    }\n",
       "\n",
       "    .dataframe thead th {\n",
       "        text-align: right;\n",
       "    }\n",
       "</style>\n",
       "<table border=\"1\" class=\"dataframe\">\n",
       "  <thead>\n",
       "    <tr style=\"text-align: right;\">\n",
       "      <th></th>\n",
       "      <th></th>\n",
       "      <th>values</th>\n",
       "      <th>comment</th>\n",
       "    </tr>\n",
       "    <tr>\n",
       "      <th>category</th>\n",
       "      <th>name</th>\n",
       "      <th></th>\n",
       "      <th></th>\n",
       "    </tr>\n",
       "  </thead>\n",
       "  <tbody>\n",
       "    <tr>\n",
       "      <th rowspan=\"2\" valign=\"top\">lambda</th>\n",
       "      <th>lambda</th>\n",
       "      <td>NaN</td>\n",
       "      <td>strength of disappointment aversion on average</td>\n",
       "    </tr>\n",
       "    <tr>\n",
       "      <th>std_lambda</th>\n",
       "      <td>NaN</td>\n",
       "      <td>standard deviation of strength of disappointment aversion</td>\n",
       "    </tr>\n",
       "    <tr>\n",
       "      <th rowspan=\"7\" valign=\"top\">cost_of_effort</th>\n",
       "      <th>phi_pi</th>\n",
       "      <td>NaN</td>\n",
       "      <td>unobserved differences in cost of effort functions that vary over rounds and individuals</td>\n",
       "    </tr>\n",
       "    <tr>\n",
       "      <th>varphi_pi</th>\n",
       "      <td>NaN</td>\n",
       "      <td>unobserved differences in cost of effort functions that vary over rounds and individuals</td>\n",
       "    </tr>\n",
       "    <tr>\n",
       "      <th>phi_mu</th>\n",
       "      <td>NaN</td>\n",
       "      <td>unobserved differences in cost of effort functions between individuals, constant over rounds</td>\n",
       "    </tr>\n",
       "    <tr>\n",
       "      <th>varphi_mu</th>\n",
       "      <td>NaN</td>\n",
       "      <td>unobserved differences in cost of effort functions between individuals, constant over rounds</td>\n",
       "    </tr>\n",
       "    <tr>\n",
       "      <th>kappa</th>\n",
       "      <td>NaN</td>\n",
       "      <td>common cost parameter</td>\n",
       "    </tr>\n",
       "    <tr>\n",
       "      <th>b</th>\n",
       "      <td>NaN</td>\n",
       "      <td>common cost parameter</td>\n",
       "    </tr>\n",
       "    <tr>\n",
       "      <th>delta</th>\n",
       "      <td>NaN</td>\n",
       "      <td>round effects for round 2,...N</td>\n",
       "    </tr>\n",
       "  </tbody>\n",
       "</table>\n",
       "</div>"
      ],
      "text/plain": [
       "                           values  \\\n",
       "category       name                 \n",
       "lambda         lambda     NaN       \n",
       "               std_lambda NaN       \n",
       "cost_of_effort phi_pi     NaN       \n",
       "               varphi_pi  NaN       \n",
       "               phi_mu     NaN       \n",
       "               varphi_mu  NaN       \n",
       "               kappa      NaN       \n",
       "               b          NaN       \n",
       "               delta      NaN       \n",
       "\n",
       "                                                                                                                comment  \n",
       "category       name                                                                                                      \n",
       "lambda         lambda      strength of disappointment aversion on average                                                \n",
       "               std_lambda  standard deviation of strength of disappointment aversion                                     \n",
       "cost_of_effort phi_pi      unobserved differences in cost of effort functions that vary over rounds and individuals      \n",
       "               varphi_pi   unobserved differences in cost of effort functions that vary over rounds and individuals      \n",
       "               phi_mu      unobserved differences in cost of effort functions between individuals, constant over rounds  \n",
       "               varphi_mu   unobserved differences in cost of effort functions between individuals, constant over rounds  \n",
       "               kappa       common cost parameter                                                                         \n",
       "               b           common cost parameter                                                                         \n",
       "               delta       round effects for round 2,...N                                                                "
      ]
     },
     "execution_count": 15,
     "metadata": {},
     "output_type": "execute_result"
    }
   ],
   "source": [
    "params_description()"
   ]
  },
  {
   "cell_type": "markdown",
   "metadata": {},
   "source": [
    "### Method of Simulated Moments"
   ]
  },
  {
   "cell_type": "markdown",
   "metadata": {},
   "source": [
    "The parameter of interest are estimated by the **Method of Simulated Moments (MSM)** that was pioneered by McFadden (1989) and by Pakes and Pollard (1989). The idea is, similar to the Generalized Method of Moments (GMM), to use a vector of moments M with $k \\geq 17$, where every included moments is dependent on the endogenous variables. \n",
    "\n",
    "The step that differentiates MSM from GMM is the use of simulated samples. In each of the S simulated sample the Second Mover face the same przes and First Mover effort as observed in the actual sample. The behavior of the Second Movers in the simulated sample is guided by the trial  $\\theta_t$ values of the unknown parameters $\\theta$. The unobservables $\\mu$ and $\\pi$ are assigned to the Second Movers with the specified distributions. \n",
    "\n",
    "For all Second Movers and each round the utility for all 48 possible effort choices is computed and the simulated action corresponds to the effort choice with the highest achieved utility. In order to compare the simulated samples to the experimental sample the vector of moments $M_s(\\theta_t)$ are computed. These moments are used in the following metric:\n",
    "\n",
    "\\begin{equation*}\n",
    "J(\\theta_t) =  \\left(M - \\frac{1}{S} \\sum\\limits_{S=1}^S M_S(\\theta_t)\\right)'W_N\\left(M - \\frac{1}{S} \\sum\\limits_{S=1}^S M_S(\\theta_t)\\right) \n",
    "\\end{equation*}\n",
    "\n",
    "This is the core function of the MSM approach. The objective of this metric is $J(\\theta_t): \\hat\\theta = arg min_{\\theta_t} J(\\theta_t)$. It minimizes the distance between the average of the simulated sample and the experimental sample. Thus, the moments induced by the structural parameters have to be as close to the actual moments as possible. $W_N$ is the weighting matrix of $k x k$ dimension. For this simulation, the authors specify the diagonal elements of the weigthing matrix as the inverse of N times the bootstrapped variance of the moments and zeroes on the non-diagonal elements. In total, 38 moments are used to estimate the 17 unknown parameters.   "
   ]
  },
  {
   "cell_type": "markdown",
   "metadata": {},
   "source": [
    "### Empirical Moments\n",
    "\n",
    "In order to estimate the parameters that are of interest, moments need to be simulated. A dataframe fashioned after Table 4 is provided below. It gives an overview over the moments the authors choose to be estimated. "
   ]
  },
  {
   "cell_type": "markdown",
   "metadata": {},
   "source": [
    "<div class=\"alert alert-block alert-success\">\n",
    "    <b>Replication</b> of the descriptions in Table 4.\n",
    "</div>"
   ]
  },
  {
   "cell_type": "code",
   "execution_count": 16,
   "metadata": {},
   "outputs": [
    {
     "data": {
      "text/html": [
       "<div>\n",
       "<style scoped>\n",
       "    .dataframe tbody tr th:only-of-type {\n",
       "        vertical-align: middle;\n",
       "    }\n",
       "\n",
       "    .dataframe tbody tr th {\n",
       "        vertical-align: top;\n",
       "    }\n",
       "\n",
       "    .dataframe thead th {\n",
       "        text-align: right;\n",
       "    }\n",
       "</style>\n",
       "<table border=\"1\" class=\"dataframe\">\n",
       "  <thead>\n",
       "    <tr style=\"text-align: right;\">\n",
       "      <th></th>\n",
       "      <th>comment</th>\n",
       "    </tr>\n",
       "    <tr>\n",
       "      <th>name</th>\n",
       "      <th></th>\n",
       "    </tr>\n",
       "  </thead>\n",
       "  <tbody>\n",
       "    <tr>\n",
       "      <th>cond_corr_e2_prize</th>\n",
       "      <td>correlation of e2 and prize, conditional on control effects</td>\n",
       "    </tr>\n",
       "    <tr>\n",
       "      <th>cond_corr_e2_e1</th>\n",
       "      <td>correlation of e2 and e1, conditional on control effects</td>\n",
       "    </tr>\n",
       "    <tr>\n",
       "      <th>cond_corr_e2_e1timesprize</th>\n",
       "      <td>correlation of e2 and e1 * prize, conditional on control effects</td>\n",
       "    </tr>\n",
       "    <tr>\n",
       "      <th>low_effort_low_prize</th>\n",
       "      <td>effort conditional on low e2 and low prizes</td>\n",
       "    </tr>\n",
       "    <tr>\n",
       "      <th>low_effort_high_prize</th>\n",
       "      <td>effort conditional on low e2 and high prizes</td>\n",
       "    </tr>\n",
       "    <tr>\n",
       "      <th>high_effort_high_prize</th>\n",
       "      <td>effort conditional on high e2 and high prizes</td>\n",
       "    </tr>\n",
       "    <tr>\n",
       "      <th>effort_std</th>\n",
       "      <td>standard deviation of effort</td>\n",
       "    </tr>\n",
       "    <tr>\n",
       "      <th>low_effort_prop</th>\n",
       "      <td>probability of low effort</td>\n",
       "    </tr>\n",
       "    <tr>\n",
       "      <th>high_effort_prop</th>\n",
       "      <td>probability of high effort</td>\n",
       "    </tr>\n",
       "    <tr>\n",
       "      <th>autocorrelation_l1</th>\n",
       "      <td>autocorrelation with lag 1</td>\n",
       "    </tr>\n",
       "    <tr>\n",
       "      <th>autocorrelation_l2</th>\n",
       "      <td>autocorrelation with lag 2</td>\n",
       "    </tr>\n",
       "    <tr>\n",
       "      <th>j_perc_cond_corr_e2_e1</th>\n",
       "      <td>jth percentile of cond. correlation e1 and e2 of specific effects</td>\n",
       "    </tr>\n",
       "    <tr>\n",
       "      <th>j_perc_cond_corr_e2_e1timesprize</th>\n",
       "      <td>jth percentile of cond. correlation e2 and e1 * prize of specific effects</td>\n",
       "    </tr>\n",
       "    <tr>\n",
       "      <th>round_change_std</th>\n",
       "      <td>standard deviation of round-round change of effort</td>\n",
       "    </tr>\n",
       "    <tr>\n",
       "      <th>j_perc_cond_corr_e2_prize</th>\n",
       "      <td>jth percentile of cond. correlation e1 and prize of specific effects</td>\n",
       "    </tr>\n",
       "    <tr>\n",
       "      <th>period average</th>\n",
       "      <td>average effort in period i</td>\n",
       "    </tr>\n",
       "  </tbody>\n",
       "</table>\n",
       "</div>"
      ],
      "text/plain": [
       "                                                                                                    comment\n",
       "name                                                                                                       \n",
       "cond_corr_e2_prize                correlation of e2 and prize, conditional on control effects              \n",
       "cond_corr_e2_e1                   correlation of e2 and e1, conditional on control effects                 \n",
       "cond_corr_e2_e1timesprize         correlation of e2 and e1 * prize, conditional on control effects         \n",
       "low_effort_low_prize              effort conditional on low e2 and low prizes                              \n",
       "low_effort_high_prize             effort conditional on low e2 and high prizes                             \n",
       "high_effort_high_prize            effort conditional on high e2 and high prizes                            \n",
       "effort_std                        standard deviation of effort                                             \n",
       "low_effort_prop                   probability of low effort                                                \n",
       "high_effort_prop                  probability of high effort                                               \n",
       "autocorrelation_l1                autocorrelation with lag 1                                               \n",
       "autocorrelation_l2                autocorrelation with lag 2                                               \n",
       "j_perc_cond_corr_e2_e1            jth percentile of cond. correlation e1 and e2 of specific effects        \n",
       "j_perc_cond_corr_e2_e1timesprize  jth percentile of cond. correlation e2 and e1 * prize of specific effects\n",
       "round_change_std                  standard deviation of round-round change of effort                       \n",
       "j_perc_cond_corr_e2_prize         jth percentile of cond. correlation e1 and prize of specific effects     \n",
       "period average                    average effort in period i                                               "
      ]
     },
     "execution_count": 16,
     "metadata": {},
     "output_type": "execute_result"
    }
   ],
   "source": [
    "moments_description()"
   ]
  },
  {
   "cell_type": "markdown",
   "metadata": {},
   "source": [
    "Naturally, the functions needed to compute the above moments need to be stored. They are stored in the dictionary. There are separate functions for all those moments, eventhough a lot have similarities with each other. This was done to follow the guides outlined on the *respy* website as closely as possible. "
   ]
  },
  {
   "cell_type": "code",
   "execution_count": 17,
   "metadata": {
    "scrolled": true
   },
   "outputs": [],
   "source": [
    "calc_moments = {\n",
    "    'effort_std': effort_std,\n",
    "    'corr_round_lag1': pooled_autocorr_lag1,\n",
    "    'corr_round_lag2': pooled_autocorr_lag2,\n",
    "    'round_change_std': round_change_std,\n",
    "    'mean_period_1': period1_average,\n",
    "    'mean_period_2': period2_average,\n",
    "    'mean_period_3': period3_average,\n",
    "    'mean_period_4': period4_average,\n",
    "    'mean_period_5': period5_average,\n",
    "    'mean_period_6': period6_average,\n",
    "    'mean_period_7': period7_average,\n",
    "    'mean_period_8': period8_average,\n",
    "    'mean_period_9': period9_average,\n",
    "    'mean_period_10': period10_average,\n",
    "    'cond_corr_e2_prize': cond_corr_e2_prize,\n",
    "    'cond_corr_e2_e1': cond_corr_e2_e1,\n",
    "    'cond_corr_e2_e1timesprize': cond_corr_e2_e1timesprize,\n",
    "    'perc17_cond_corr_e2_prize': perc17_cond_corr_e2_prize,\n",
    "    'perc33_cond_corr_e2_prize': perc33_cond_corr_e2_prize,\n",
    "    'perc50_cond_corr_e2_prize': perc50_cond_corr_e2_prize,\n",
    "    'perc66_cond_corr_e2_prize': perc66_cond_corr_e2_prize,\n",
    "    'perc83_cond_corr_e2_prize': perc83_cond_corr_e2_prize,\n",
    "    'perc17_cond_corr_e2_e1': perc17_cond_corr_e2_e1,\n",
    "    'perc33_cond_corr_e2_e1': perc33_cond_corr_e2_e1,\n",
    "    'perc50_cond_corr_e2_e1': perc50_cond_corr_e2_e1,\n",
    "    'perc66_cond_corr_e2_e1': perc66_cond_corr_e2_e1,\n",
    "    'perc83_cond_corr_e2_e1': perc83_cond_corr_e2_e1,\n",
    "    'perc17_cond_corr_e2_e1timesprize': perc17_cond_corr_e2_e1timesprize,\n",
    "    'perc33_cond_corr_e2_e1timesprize': perc33_cond_corr_e2_e1timesprize,\n",
    "    'perc50_cond_corr_e2_e1timesprize': perc50_cond_corr_e2_e1timesprize,\n",
    "    'perc66_cond_corr_e2_e1timesprize': perc66_cond_corr_e2_e1timesprize,\n",
    "    'perc83_cond_corr_e2_e1timesprize': perc83_cond_corr_e2_e1timesprize,\n",
    "    'low_effort_low_prize': low_effort_low_prize,\n",
    "    'low_effort_high_prize': low_effort_high_prize,\n",
    "    'high_effort_low_prize': high_effort_low_prize,\n",
    "    'high_effort_high_prize': high_effort_high_prize,\n",
    "    'low_effort_prop': low_effort_prop,\n",
    "    'high_effort_prop': high_effort_prop\n",
    "}"
   ]
  },
  {
   "cell_type": "markdown",
   "metadata": {},
   "source": [
    "These function, in turn, are used to compute the empirical moments. These are the moments that are computed with the experimental sample without any simulation. Here, my results do not match the authors observed moments precisely. A closer discussion about the divergences follows below. "
   ]
  },
  {
   "cell_type": "markdown",
   "metadata": {},
   "source": [
    "<div class=\"alert alert-block alert-warning\">\n",
    "    <b>Replication</b> of the observed moments in Table 5.\n",
    "</div>"
   ]
  },
  {
   "cell_type": "code",
   "execution_count": 21,
   "metadata": {
    "scrolled": true
   },
   "outputs": [
    {
     "data": {
      "text/plain": [
       "{'effort_std': 5.8745832443237305,\n",
       " 'corr_round_lag1': 0.6523300435833547,\n",
       " 'corr_round_lag2': 0.5955089258400272,\n",
       " 'round_change_std': 4.82824351834171,\n",
       " 'mean_period_1': 21.762712478637695,\n",
       " 'mean_period_2': 23.457626342773438,\n",
       " 'mean_period_3': 24.830509185791016,\n",
       " 'mean_period_4': 25.20339012145996,\n",
       " 'mean_period_5': 25.11864471435547,\n",
       " 'mean_period_6': 24.898305892944336,\n",
       " 'mean_period_7': 25.762712478637695,\n",
       " 'mean_period_8': 26.169490814208984,\n",
       " 'mean_period_9': 26.25423812866211,\n",
       " 'mean_period_10': 26.72881317138672,\n",
       " 'cond_corr_e2_prize': 0.12361415759953642,\n",
       " 'cond_corr_e2_e1': 0.04149206717166187,\n",
       " 'cond_corr_e2_e1timesprize': -0.09501348232241316,\n",
       " 'perc17_cond_corr_e2_prize': -0.27105945532213094,\n",
       " 'perc33_cond_corr_e2_prize': 0.03403581380424789,\n",
       " 'perc50_cond_corr_e2_prize': 0.22225342393899755,\n",
       " 'perc66_cond_corr_e2_prize': 0.39185221079267774,\n",
       " 'perc83_cond_corr_e2_prize': 0.4740481839263494,\n",
       " 'perc17_cond_corr_e2_e1': -0.31438149865867704,\n",
       " 'perc33_cond_corr_e2_e1': -0.21715503537285855,\n",
       " 'perc50_cond_corr_e2_e1': 0.019100550720606655,\n",
       " 'perc66_cond_corr_e2_e1': 0.1827215221350859,\n",
       " 'perc83_cond_corr_e2_e1': 0.3646531984563367,\n",
       " 'perc17_cond_corr_e2_e1timesprize': -0.1833509595277679,\n",
       " 'perc33_cond_corr_e2_e1timesprize': 0.019449541216716437,\n",
       " 'perc50_cond_corr_e2_e1timesprize': 0.14626187907883428,\n",
       " 'perc66_cond_corr_e2_e1timesprize': 0.30744899030357653,\n",
       " 'perc83_cond_corr_e2_e1timesprize': 0.48111381901862377,\n",
       " 'low_effort_low_prize': 23.821428298950195,\n",
       " 'low_effort_high_prize': 25.485294342041016,\n",
       " 'high_effort_low_prize': 25.8360652923584,\n",
       " 'high_effort_high_prize': 25.049999237060547,\n",
       " 'low_effort_prop': 0.0288135593220339,\n",
       " 'high_effort_prop': 0.015254237288135594}"
      ]
     },
     "execution_count": 21,
     "metadata": {},
     "output_type": "execute_result"
    }
   ],
   "source": [
    "observed_moments(df_2_pref)"
   ]
  },
  {
   "cell_type": "markdown",
   "metadata": {},
   "source": [
    "Two types of functions are diverging from the results of the paper. First, the percentiles of the Second Mover specific correlations and, surprisingly, the mean effort conditional on high/low prices and First Mover efforts. \n",
    "\n",
    "The computed percentiles are close to the ones in the paper. It appears difference methods in rounding contribute to those differences.   \n",
    "\n",
    "The means in the table are misspecified. Whereas Table 5 states that the specified effort and prizes needs to be strictly higher or lower, their function uses non-strict inequality. The respective functions can be found in subdirectory MatLabCode under moments.m line 168 and following. They use the *sign* function to indicate when prices are higher or efforts are higher thant the respective threshold. These are subsequently deleted. Yet, still leaving the Seond Mover efforts that are equal to the threshold in to compute the mean. **This should probably not belong in here.**\n",
    "\n",
    "Another result, the autocorrelation, uses the pooled variance, which leads to a higher composite autocorrelation. Is this bad?"
   ]
  },
  {
   "cell_type": "markdown",
   "metadata": {},
   "source": [
    "### Trial values"
   ]
  },
  {
   "cell_type": "code",
   "execution_count": 64,
   "metadata": {
    "scrolled": true
   },
   "outputs": [
    {
     "data": {
      "text/html": [
       "<div>\n",
       "<style scoped>\n",
       "    .dataframe tbody tr th:only-of-type {\n",
       "        vertical-align: middle;\n",
       "    }\n",
       "\n",
       "    .dataframe tbody tr th {\n",
       "        vertical-align: top;\n",
       "    }\n",
       "\n",
       "    .dataframe thead th {\n",
       "        text-align: right;\n",
       "    }\n",
       "</style>\n",
       "<table border=\"1\" class=\"dataframe\">\n",
       "  <thead>\n",
       "    <tr style=\"text-align: right;\">\n",
       "      <th></th>\n",
       "      <th>name</th>\n",
       "      <th>values</th>\n",
       "    </tr>\n",
       "  </thead>\n",
       "  <tbody>\n",
       "    <tr>\n",
       "      <th>0</th>\n",
       "      <td>lambda</td>\n",
       "      <td>2.00</td>\n",
       "    </tr>\n",
       "    <tr>\n",
       "      <th>1</th>\n",
       "      <td>std_lambda</td>\n",
       "      <td>1.50</td>\n",
       "    </tr>\n",
       "    <tr>\n",
       "      <th>2</th>\n",
       "      <td>phi_pi</td>\n",
       "      <td>0.35</td>\n",
       "    </tr>\n",
       "    <tr>\n",
       "      <th>3</th>\n",
       "      <td>varphi_pi</td>\n",
       "      <td>0.85</td>\n",
       "    </tr>\n",
       "    <tr>\n",
       "      <th>4</th>\n",
       "      <td>phi_mu</td>\n",
       "      <td>0.35</td>\n",
       "    </tr>\n",
       "    <tr>\n",
       "      <th>5</th>\n",
       "      <td>varphi_mu</td>\n",
       "      <td>0.85</td>\n",
       "    </tr>\n",
       "    <tr>\n",
       "      <th>6</th>\n",
       "      <td>kappa</td>\n",
       "      <td>1.75</td>\n",
       "    </tr>\n",
       "    <tr>\n",
       "      <th>7</th>\n",
       "      <td>b</td>\n",
       "      <td>NaN</td>\n",
       "    </tr>\n",
       "    <tr>\n",
       "      <th>8</th>\n",
       "      <td>delta2</td>\n",
       "      <td>0.00</td>\n",
       "    </tr>\n",
       "    <tr>\n",
       "      <th>9</th>\n",
       "      <td>delta3</td>\n",
       "      <td>0.00</td>\n",
       "    </tr>\n",
       "    <tr>\n",
       "      <th>10</th>\n",
       "      <td>delta4</td>\n",
       "      <td>0.00</td>\n",
       "    </tr>\n",
       "    <tr>\n",
       "      <th>11</th>\n",
       "      <td>delta5</td>\n",
       "      <td>0.00</td>\n",
       "    </tr>\n",
       "    <tr>\n",
       "      <th>12</th>\n",
       "      <td>delta6</td>\n",
       "      <td>0.00</td>\n",
       "    </tr>\n",
       "    <tr>\n",
       "      <th>13</th>\n",
       "      <td>delta7</td>\n",
       "      <td>0.00</td>\n",
       "    </tr>\n",
       "    <tr>\n",
       "      <th>14</th>\n",
       "      <td>delta8</td>\n",
       "      <td>0.00</td>\n",
       "    </tr>\n",
       "    <tr>\n",
       "      <th>15</th>\n",
       "      <td>delta9</td>\n",
       "      <td>0.00</td>\n",
       "    </tr>\n",
       "    <tr>\n",
       "      <th>16</th>\n",
       "      <td>delta10</td>\n",
       "      <td>0.00</td>\n",
       "    </tr>\n",
       "  </tbody>\n",
       "</table>\n",
       "</div>"
      ],
      "text/plain": [
       "          name  values\n",
       "0   lambda      2.00  \n",
       "1   std_lambda  1.50  \n",
       "2   phi_pi      0.35  \n",
       "3   varphi_pi   0.85  \n",
       "4   phi_mu      0.35  \n",
       "5   varphi_mu   0.85  \n",
       "6   kappa       1.75  \n",
       "7   b          NaN    \n",
       "8   delta2      0.00  \n",
       "9   delta3      0.00  \n",
       "10  delta4      0.00  \n",
       "11  delta5      0.00  \n",
       "12  delta6      0.00  \n",
       "13  delta7      0.00  \n",
       "14  delta8      0.00  \n",
       "15  delta9      0.00  \n",
       "16  delta10     0.00  "
      ]
     },
     "execution_count": 64,
     "metadata": {},
     "output_type": "execute_result"
    }
   ],
   "source": [
    "trial_values = trial_values()\n",
    "trial_values"
   ]
  },
  {
   "cell_type": "markdown",
   "metadata": {},
   "source": [
    "### Weighting Matrix\n",
    "\n",
    "The diagonal elements of the weighting matrix are the inverse of N times the variances of the sample moments and zeros elsewhere. Bootstrap sampling with replacement is used to compute $W_n$. Thankfully, this is the same strategy pursued in the *respy* documentation."
   ]
  },
  {
   "cell_type": "code",
   "execution_count": 37,
   "metadata": {
    "scrolled": false
   },
   "outputs": [],
   "source": [
    "#weighting_matrix = get_weighting_matrix(data=df_2_pref,empirical_moments=data, calc_moments=calc_moments, n_bootstrap_samples=2000, n_observations_per_sample=59, replace_missing_variances=None)"
   ]
  },
  {
   "cell_type": "markdown",
   "metadata": {},
   "source": [
    "## Critical Assessment"
   ]
  },
  {
   "cell_type": "markdown",
   "metadata": {},
   "source": [
    "The saying is that when having a well designed experiment, the following empirical analysis to identify the targeted effect is simple. This experiments turns this saying around and shows that structural models can help overcome difficulties in identifying such causal effects. Here, the use of structural estimation salvaged the situation. Results of the reduced form evidence provided little to no evidence for disappointment aversion. The interaction term between First Mover effort and prize was significant but the main variable of interest, the sole First Mover effort, was not. \n",
    "\n",
    "\n",
    "In general, I would argue that the experiment was not well suited for the identification. The highly significant dummy variables for round effects in the reduced form analysis, suggest that the design did pick up various confounds that were not intended. The significant negative $\\delta_r$ in the structural estimation corroborates that learning, in fact, did take place through the paying rounds. The experimenters did set up two training rounds, yet it appears this was not enough. Expanding the training rounds might help filter these confounds out of experimental sample. \n",
    "\n",
    "The empirical analysis by the authors is sound and well justified. In their structural model, they test various specifications that would favor explanations other than disappointment aversion. Unfortunately, I was not able to reproduce the MSM, else I could have commented more extensively on the intrinsic of those specifications.  "
   ]
  },
  {
   "cell_type": "code",
   "execution_count": null,
   "metadata": {},
   "outputs": [],
   "source": []
  }
 ],
 "metadata": {
  "kernelspec": {
   "display_name": "Python 3",
   "language": "python",
   "name": "python3"
  },
  "language_info": {
   "codemirror_mode": {
    "name": "ipython",
    "version": 3
   },
   "file_extension": ".py",
   "mimetype": "text/x-python",
   "name": "python",
   "nbconvert_exporter": "python",
   "pygments_lexer": "ipython3",
   "version": "3.7.4"
  }
 },
 "nbformat": 4,
 "nbformat_minor": 4
}
