{
 "cells": [
  {
   "cell_type": "markdown",
   "metadata": {},
   "source": [
    "--- \n",
    "Project Microeconometrics | Summer 2020, M.Sc. Economics, University of Bonn | [Vincent Selz](https://github.com/VincentSelz)\n",
    "\n",
    "# Replication of “A Structural Analysis of Disappointment Aversion in a Real Effort Competition” by David Gill and Victoria Prowse (2012) <a class=\"tocSkip\"> \n",
    "---"
   ]
  },
  {
   "cell_type": "code",
   "execution_count": 89,
   "metadata": {},
   "outputs": [
    {
     "name": "stdout",
     "output_type": "stream",
     "text": [
      "The autoreload extension is already loaded. To reload it, use:\n",
      "  %reload_ext autoreload\n"
     ]
    }
   ],
   "source": [
    "#%load_ext rpy2.ipython\n",
    "%load_ext autoreload\n",
    "%autoreload 2\n",
    "%matplotlib inline\n",
    "\n",
    "from collections import OrderedDict\n",
    "from linearmodels.panel import RandomEffects\n",
    "from linearmodels.panel import PanelOLS\n",
    "from linearmodels.panel import FirstDifferenceOLS\n",
    "import numpy as np\n",
    "import pandas as pd\n",
    "import pandas.io.formats.style\n",
    "import respy as rp\n",
    "import scipy.stats as stats\n",
    "import seaborn as sns\n",
    "#from stargazer.stargazer import Stargazer\n",
    "import statsmodels as sm\n",
    "import statsmodels.formula.api as smf\n",
    "import statsmodels.api as sm_api\n",
    "import matplotlib as plt\n",
    "import matplotlib.pyplot as pyplt\n",
    "from IPython.display import HTML\n",
    "from IPython.display import display\n",
    "\n",
    "from auxiliary.overview import *\n",
    "from auxiliary.msm import *\n",
    "\n",
    "pandas.set_option(\"display.precision\", 3)"
   ]
  },
  {
   "cell_type": "code",
   "execution_count": null,
   "metadata": {},
   "outputs": [],
   "source": [
    "library(plm)\n",
    "library(haven)\n",
    "library(msm)\n",
    "library(stargazer)\n",
    "library(car)"
   ]
  },
  {
   "cell_type": "markdown",
   "metadata": {},
   "source": [
    "---\n",
    "# 1. Introduction \n",
    "---\n",
    "Gill & Prowse (2012) use a real effort tournament in an laboratory experiment to test experimentally whether agents are disappointment averse. Pairs of subjects need to complete the real effort task sequentially. The payoff is determined in a lottery, where the probababilities of winning are linear in the difference in the agent's efforts. Hence, in the standard framework, the effort of the *First Mover* should not impact the choice of effort for the *Second Mover*. Yet, as predict by Gill & Prowse's model of disappointment aversion, subjects exhibit a discouragement effect, where high effort by the *First Mover*, impacts the effort by the *Second Mover* negatively. Their effort choices are strategic substitutes.\n",
    "\n",
    "To estimate possible effects. First Gill & Prowse (2012) use a reduced form **random effects panel regression**. Given the substantial variation induced by their experimental design, they use the **Method of Simulated Moments (MSM)** to estimate the parameters of a structural model of disappointment aversion. This structural models allows them to estimate the strength of disappointment aversion on average but also to estimate the extent of heterogeneity in disappointment aversion across the population. \n",
    "\n",
    "This notebook will attempt to replicate the results of Gill & Prowse (2012) and will further add robustness to the findings by Gill & Prowse (2012). *Here could a preliminary result be*\n",
    "\n",
    "Here, I walk the reader through the sections"
   ]
  },
  {
   "cell_type": "markdown",
   "metadata": {},
   "source": [
    "---\n",
    "# 2. Experimental Design\n",
    "---\n",
    "The six experimental session took place from late February to early March 2009 at the Nuffield Centre for Experimental Social Sciences (CESS) in Oxford. Per session twenty subjects participated at the study, leading to a subject pool of 120 participants in total. Each of the were paid a show-up fee of 4 pounds and went on to earn a further 10 pounds on average.  \n",
    "\n",
    "## Slider Task \n",
    "\n",
    "The slider task consists of a single screen displaying numerous sliders. The number and position of sliders is not varied across subjects or across repetition of the task. At first, the sliders who range from 0 to 100 are placed at 0. It is possible to place the slider at every integer position between 0 and 100. The integer position is displaced next to the slider. The sliders can be adjusted and readjusted an unlimited number of times. The task for the subjects is to position as many sliders as possible at 50 during the time allocated to the subject. The number of sliders positioned at 50 constitutes the **points score**. The number of correctly placed sliders and the time remaining is displayed to the subject. In this experiment, 48 sliders were displayed and the subjects had 120 seconds to position them. \n",
    "\n",
    "**Potentially a picture with the task would help.**\n",
    "\n",
    "## Experimental Procedure\n",
    "\n",
    "Each session consists of 10 *First Mover* and 10 *Second Mover*, who stay in their role for the duration of their session. After two practice rounds, the subjects played 10 paying rounds. The prize for each pair was drawn randomly from {0.10,0.20,...3.90} and then revealed to the pair members. The task was completed sequentially, where the *Second Mover* observes the **points score** of the *First Mover*. This information is also displayed next to the alloted time and the own points score during the task. The probability to win the ensuing lottery is determined by\n",
    "\n",
    "\\begin{equation}\n",
    "P_i(e_i,e_j) = \\frac{e_i + e_j + 50}{100}\n",
    "\\end{equation}\n",
    "\n",
    "were the $e_i$ in this setting corresponds to the **points score** of player $i$, and respectively $e_j$ for player $j$.\n",
    "\n",
    "After each round the subjects were paired with another subjects. To ensure that subjects never meet each other, the “no contagion” matching algorithm of Cooper et al. (1996) is used. This prevents strategic action by the subject.  \n"
   ]
  },
  {
   "cell_type": "markdown",
   "metadata": {},
   "source": [
    "---\n",
    "# 3. Theoretical Predictions\n",
    "---\n",
    "\n"
   ]
  },
  {
   "cell_type": "markdown",
   "metadata": {},
   "source": [
    "---\n",
    "# 4. Replication Random Effects Model\n",
    "---"
   ]
  },
  {
   "cell_type": "code",
   "execution_count": 6,
   "metadata": {},
   "outputs": [
    {
     "data": {
      "text/html": [
       "<div>\n",
       "<style scoped>\n",
       "    .dataframe tbody tr th:only-of-type {\n",
       "        vertical-align: middle;\n",
       "    }\n",
       "\n",
       "    .dataframe tbody tr th {\n",
       "        vertical-align: top;\n",
       "    }\n",
       "\n",
       "    .dataframe thead th {\n",
       "        text-align: right;\n",
       "    }\n",
       "</style>\n",
       "<table border=\"1\" class=\"dataframe\">\n",
       "  <thead>\n",
       "    <tr style=\"text-align: right;\">\n",
       "      <th></th>\n",
       "      <th>Mean E1</th>\n",
       "      <th>SD E1</th>\n",
       "      <th>Mean E2</th>\n",
       "      <th>SD E2</th>\n",
       "      <th>Min E1</th>\n",
       "      <th>Min E2</th>\n",
       "      <th>Max E1</th>\n",
       "      <th>Max E2</th>\n",
       "    </tr>\n",
       "    <tr>\n",
       "      <th>period</th>\n",
       "      <th></th>\n",
       "      <th></th>\n",
       "      <th></th>\n",
       "      <th></th>\n",
       "      <th></th>\n",
       "      <th></th>\n",
       "      <th></th>\n",
       "      <th></th>\n",
       "    </tr>\n",
       "  </thead>\n",
       "  <tbody>\n",
       "    <tr>\n",
       "      <th>1</th>\n",
       "      <td>22.034</td>\n",
       "      <td>5.991</td>\n",
       "      <td>21.763</td>\n",
       "      <td>6.101</td>\n",
       "      <td>1</td>\n",
       "      <td>0</td>\n",
       "      <td>33</td>\n",
       "      <td>34</td>\n",
       "    </tr>\n",
       "    <tr>\n",
       "      <th>2</th>\n",
       "      <td>22.627</td>\n",
       "      <td>6.708</td>\n",
       "      <td>23.458</td>\n",
       "      <td>4.836</td>\n",
       "      <td>0</td>\n",
       "      <td>11</td>\n",
       "      <td>33</td>\n",
       "      <td>33</td>\n",
       "    </tr>\n",
       "    <tr>\n",
       "      <th>3</th>\n",
       "      <td>24.763</td>\n",
       "      <td>6.075</td>\n",
       "      <td>24.831</td>\n",
       "      <td>4.875</td>\n",
       "      <td>0</td>\n",
       "      <td>12</td>\n",
       "      <td>37</td>\n",
       "      <td>38</td>\n",
       "    </tr>\n",
       "    <tr>\n",
       "      <th>4</th>\n",
       "      <td>24.627</td>\n",
       "      <td>5.956</td>\n",
       "      <td>25.203</td>\n",
       "      <td>4.502</td>\n",
       "      <td>0</td>\n",
       "      <td>16</td>\n",
       "      <td>35</td>\n",
       "      <td>36</td>\n",
       "    </tr>\n",
       "    <tr>\n",
       "      <th>5</th>\n",
       "      <td>24.966</td>\n",
       "      <td>6.800</td>\n",
       "      <td>25.119</td>\n",
       "      <td>5.660</td>\n",
       "      <td>0</td>\n",
       "      <td>0</td>\n",
       "      <td>36</td>\n",
       "      <td>35</td>\n",
       "    </tr>\n",
       "    <tr>\n",
       "      <th>6</th>\n",
       "      <td>24.729</td>\n",
       "      <td>7.508</td>\n",
       "      <td>24.898</td>\n",
       "      <td>7.039</td>\n",
       "      <td>1</td>\n",
       "      <td>0</td>\n",
       "      <td>37</td>\n",
       "      <td>39</td>\n",
       "    </tr>\n",
       "    <tr>\n",
       "      <th>7</th>\n",
       "      <td>25.881</td>\n",
       "      <td>5.855</td>\n",
       "      <td>25.763</td>\n",
       "      <td>6.109</td>\n",
       "      <td>9</td>\n",
       "      <td>0</td>\n",
       "      <td>37</td>\n",
       "      <td>37</td>\n",
       "    </tr>\n",
       "    <tr>\n",
       "      <th>8</th>\n",
       "      <td>26.831</td>\n",
       "      <td>5.858</td>\n",
       "      <td>26.169</td>\n",
       "      <td>5.133</td>\n",
       "      <td>9</td>\n",
       "      <td>14</td>\n",
       "      <td>41</td>\n",
       "      <td>35</td>\n",
       "    </tr>\n",
       "    <tr>\n",
       "      <th>9</th>\n",
       "      <td>25.593</td>\n",
       "      <td>8.550</td>\n",
       "      <td>26.254</td>\n",
       "      <td>6.702</td>\n",
       "      <td>0</td>\n",
       "      <td>0</td>\n",
       "      <td>38</td>\n",
       "      <td>40</td>\n",
       "    </tr>\n",
       "    <tr>\n",
       "      <th>10</th>\n",
       "      <td>26.322</td>\n",
       "      <td>6.781</td>\n",
       "      <td>26.729</td>\n",
       "      <td>5.988</td>\n",
       "      <td>1</td>\n",
       "      <td>0</td>\n",
       "      <td>40</td>\n",
       "      <td>39</td>\n",
       "    </tr>\n",
       "  </tbody>\n",
       "</table>\n",
       "</div>"
      ],
      "text/plain": [
       "        Mean E1  SD E1  Mean E2  SD E2  Min E1  Min E2  Max E1  Max E2\n",
       "period                                                                \n",
       "1        22.034  5.991   21.763  6.101       1       0      33      34\n",
       "2        22.627  6.708   23.458  4.836       0      11      33      33\n",
       "3        24.763  6.075   24.831  4.875       0      12      37      38\n",
       "4        24.627  5.956   25.203  4.502       0      16      35      36\n",
       "5        24.966  6.800   25.119  5.660       0       0      36      35\n",
       "6        24.729  7.508   24.898  7.039       1       0      37      39\n",
       "7        25.881  5.855   25.763  6.109       9       0      37      37\n",
       "8        26.831  5.858   26.169  5.133       9      14      41      35\n",
       "9        25.593  8.550   26.254  6.702       0       0      38      40\n",
       "10       26.322  6.781   26.729  5.988       1       0      40      39"
      ]
     },
     "execution_count": 6,
     "metadata": {},
     "output_type": "execute_result"
    }
   ],
   "source": [
    "df_1, df_2, df_2_pref = get_datasets()\n",
    "rslt = effort_overview(df_2_pref)\n",
    "rslt"
   ]
  },
  {
   "cell_type": "code",
   "execution_count": 43,
   "metadata": {},
   "outputs": [
    {
     "data": {
      "text/plain": [
       "<matplotlib.axes._subplots.AxesSubplot at 0x1263f1650>"
      ]
     },
     "execution_count": 43,
     "metadata": {},
     "output_type": "execute_result"
    },
    {
     "data": {
      "image/png": "[encoded data removed]",
      "text/plain": [
       "<Figure size 720x360 with 1 Axes>"
      ]
     },
     "metadata": {
      "needs_background": "light"
     },
     "output_type": "display_data"
    }
   ],
   "source": [
    "effort_plot(rslt)"
   ]
  },
  {
   "cell_type": "code",
   "execution_count": 47,
   "metadata": {},
   "outputs": [
    {
     "data": {
      "text/plain": [
       "<seaborn.axisgrid.JointGrid at 0x12541d590>"
      ]
     },
     "execution_count": 47,
     "metadata": {},
     "output_type": "execute_result"
    },
    {
     "data": {
      "image/png": "[encoded data removed]",
      "text/plain": [
       "<Figure size 432x432 with 3 Axes>"
      ]
     },
     "metadata": {
      "needs_background": "light"
     },
     "output_type": "display_data"
    }
   ],
   "source": [
    "joint_effort(df_2_pref)"
   ]
  },
  {
   "cell_type": "code",
   "execution_count": 110,
   "metadata": {},
   "outputs": [
    {
     "data": {
      "text/html": [
       "<table class=\"simpletable\">\n",
       "<caption>PanelOLS Estimation Summary</caption>\n",
       "<tr>\n",
       "  <th>Dep. Variable:</th>           <td>e2</td>        <th>  R-squared:         </th>    <td>0.0034</td> \n",
       "</tr>\n",
       "<tr>\n",
       "  <th>Estimator:</th>            <td>PanelOLS</td>     <th>  R-squared (Between):</th>   <td>0.0639</td> \n",
       "</tr>\n",
       "<tr>\n",
       "  <th>No. Observations:</th>        <td>590</td>       <th>  R-squared (Within):</th>    <td>0.0114</td> \n",
       "</tr>\n",
       "<tr>\n",
       "  <th>Date:</th>             <td>Mon, Jul 06 2020</td> <th>  R-squared (Overall):</th>   <td>0.0626</td> \n",
       "</tr>\n",
       "<tr>\n",
       "  <th>Time:</th>                 <td>14:30:50</td>     <th>  Log-likelihood     </th>    <td>-1863.2</td>\n",
       "</tr>\n",
       "<tr>\n",
       "  <th>Cov. Estimator:</th>      <td>Unadjusted</td>    <th>                     </th>       <td></td>    \n",
       "</tr>\n",
       "<tr>\n",
       "  <th></th>                          <td></td>         <th>  F-statistic:       </th>    <td>0.6509</td> \n",
       "</tr>\n",
       "<tr>\n",
       "  <th>Entities:</th>                <td>60</td>        <th>  P-value            </th>    <td>0.5826</td> \n",
       "</tr>\n",
       "<tr>\n",
       "  <th>Avg Obs:</th>               <td>9.8333</td>      <th>  Distribution:      </th>   <td>F(3,577)</td>\n",
       "</tr>\n",
       "<tr>\n",
       "  <th>Min Obs:</th>               <td>0.0000</td>      <th>                     </th>       <td></td>    \n",
       "</tr>\n",
       "<tr>\n",
       "  <th>Max Obs:</th>               <td>10.0000</td>     <th>  F-statistic (robust):</th>  <td>0.6509</td> \n",
       "</tr>\n",
       "<tr>\n",
       "  <th></th>                          <td></td>         <th>  P-value            </th>    <td>0.5826</td> \n",
       "</tr>\n",
       "<tr>\n",
       "  <th>Time periods:</th>            <td>10</td>        <th>  Distribution:      </th>   <td>F(3,577)</td>\n",
       "</tr>\n",
       "<tr>\n",
       "  <th>Avg Obs:</th>               <td>59.000</td>      <th>                     </th>       <td></td>    \n",
       "</tr>\n",
       "<tr>\n",
       "  <th>Min Obs:</th>               <td>59.000</td>      <th>                     </th>       <td></td>    \n",
       "</tr>\n",
       "<tr>\n",
       "  <th>Max Obs:</th>               <td>59.000</td>      <th>                     </th>       <td></td>    \n",
       "</tr>\n",
       "<tr>\n",
       "  <th></th>                          <td></td>         <th>                     </th>       <td></td>    \n",
       "</tr>\n",
       "</table>\n",
       "<table class=\"simpletable\">\n",
       "<caption>Parameter Estimates</caption>\n",
       "<tr>\n",
       "        <td></td>       <th>Parameter</th> <th>Std. Err.</th> <th>T-stat</th>  <th>P-value</th> <th>Lower CI</th> <th>Upper CI</th>\n",
       "</tr>\n",
       "<tr>\n",
       "  <th>e1</th>            <td>0.0164</td>    <td>0.0703</td>   <td>0.2330</td>  <td>0.8159</td>   <td>-0.1218</td>  <td>0.1545</td> \n",
       "</tr>\n",
       "<tr>\n",
       "  <th>prize</th>         <td>0.8032</td>    <td>0.8509</td>   <td>0.9439</td>  <td>0.3456</td>   <td>-0.8681</td>  <td>2.4745</td> \n",
       "</tr>\n",
       "<tr>\n",
       "  <th>e1timesprize</th>  <td>-0.0232</td>   <td>0.0333</td>   <td>-0.6955</td> <td>0.4870</td>   <td>-0.0885</td>  <td>0.0422</td> \n",
       "</tr>\n",
       "</table><br/><br/>F-test for Poolability: 3.8605<br/>P-value: 0.0001<br/>Distribution: F(9,577)<br/><br/>Included effects: Time<br/>id: 0x12866e190"
      ],
      "text/plain": [
       "                          PanelOLS Estimation Summary                           \n",
       "================================================================================\n",
       "Dep. Variable:                     e2   R-squared:                        0.0034\n",
       "Estimator:                   PanelOLS   R-squared (Between):              0.0639\n",
       "No. Observations:                 590   R-squared (Within):               0.0114\n",
       "Date:                Mon, Jul 06 2020   R-squared (Overall):              0.0626\n",
       "Time:                        14:30:50   Log-likelihood                   -1863.2\n",
       "Cov. Estimator:            Unadjusted                                           \n",
       "                                        F-statistic:                      0.6509\n",
       "Entities:                          60   P-value                           0.5826\n",
       "Avg Obs:                       9.8333   Distribution:                   F(3,577)\n",
       "Min Obs:                       0.0000                                           \n",
       "Max Obs:                      10.0000   F-statistic (robust):             0.6509\n",
       "                                        P-value                           0.5826\n",
       "Time periods:                      10   Distribution:                   F(3,577)\n",
       "Avg Obs:                       59.000                                           \n",
       "Min Obs:                       59.000                                           \n",
       "Max Obs:                       59.000                                           \n",
       "                                                                                \n",
       "                              Parameter Estimates                               \n",
       "================================================================================\n",
       "              Parameter  Std. Err.     T-stat    P-value    Lower CI    Upper CI\n",
       "--------------------------------------------------------------------------------\n",
       "e1               0.0164     0.0703     0.2330     0.8159     -0.1218      0.1545\n",
       "prize            0.8032     0.8509     0.9439     0.3456     -0.8681      2.4745\n",
       "e1timesprize    -0.0232     0.0333    -0.6955     0.4870     -0.0885      0.0422\n",
       "================================================================================\n",
       "\n",
       "F-test for Poolability: 3.8605\n",
       "P-value: 0.0001\n",
       "Distribution: F(9,577)\n",
       "\n",
       "Included effects: Time\n",
       "PanelEffectsResults, id: 0x12866e190"
      ]
     },
     "execution_count": 110,
     "metadata": {},
     "output_type": "execute_result"
    }
   ],
   "source": [
    "result_2 = RandomEffects.from_formula('effort~1+e1+prize+e1timesprize+tt2+tt3+tt4+tt5+tt6+tt7+tt8+tt9+tt10',data=df_2).fit()\n",
    "result_1 = PanelOLS.from_formula('e2~+e1++prize+e1timesprize+TimeEffects',data=df_2_pref).fit()\n",
    "result_1"
   ]
  },
  {
   "cell_type": "code",
   "execution_count": 3,
   "metadata": {},
   "outputs": [],
   "source": [
    "# import data \n",
    "df <- read_dta(\"data/paper_data/master_data.dta\")\n",
    "# convert the data frame to a data format recognizable by `plm` \n",
    "pdf = pdata.frame(df, index = c(\"Subject\", \"Period\"))\n",
    "pdf_pref = subset(pdf, !Subject==302)\n",
    "\n",
    "split = pdf_pref\n",
    "split$Period <- as.numeric(split$Period)\n",
    "#This ensures that we have to different interaction terms\n",
    "split$last <- ifelse(split$Period <= 5, 0, split$E1timesPrize)\n",
    "split$first <- ifelse(split$Period > 5, 0, split$E1timesPrize)"
   ]
  },
  {
   "cell_type": "code",
   "execution_count": 29,
   "metadata": {},
   "outputs": [
    {
     "data": {
      "text/plain": [
       "Oneway (individual) effect Random Effect Model \n",
       "   (Swamy-Arora's transformation)\n",
       "\n",
       "Call:\n",
       "plm(formula = Effort ~ e1 + prize + E1timesPrize + TT2 + TT3 + \n",
       "    TT4 + TT5 + TT6 + TT7 + TT8 + TT9 + TT10, data = pdf_pref, \n",
       "    model = \"random\")\n",
       "\n",
       "Balanced Panel: n = 59, T = 10, N = 590\n",
       "\n",
       "Effects:\n",
       "                 var std.dev share\n",
       "idiosyncratic 14.838   3.852 0.447\n",
       "individual    18.387   4.288 0.553\n",
       "theta: 0.7267\n",
       "\n",
       "Residuals:\n",
       "     Min.   1st Qu.    Median   3rd Qu.      Max. \n",
       "-24.22369  -1.64528   0.23273   2.02536  17.18032 \n",
       "\n",
       "Coefficients:\n",
       "              Estimate Std. Error z-value  Pr(>|z|)    \n",
       "(Intercept)  19.777040   1.400028 14.1262 < 2.2e-16 ***\n",
       "e1            0.044300   0.049321  0.8982  0.369086    \n",
       "prize         1.639136   0.601775  2.7238  0.006453 ** \n",
       "E1timesPrize -0.048911   0.023485 -2.0826  0.037287 *  \n",
       "TT2           1.689008   0.709360  2.3810  0.017264 *  \n",
       "TT3           3.083553   0.712932  4.3252 1.524e-05 ***\n",
       "TT4           3.448023   0.712646  4.8383 1.309e-06 ***\n",
       "TT5           3.322034   0.714363  4.6503 3.314e-06 ***\n",
       "TT6           3.261701   0.712576  4.5773 4.709e-06 ***\n",
       "TT7           4.123357   0.716350  5.7561 8.610e-09 ***\n",
       "TT8           4.566755   0.720172  6.3412 2.280e-10 ***\n",
       "TT9           4.709284   0.715501  6.5818 4.648e-11 ***\n",
       "TT10          5.180241   0.724748  7.1476 8.828e-13 ***\n",
       "---\n",
       "Signif. codes:  0 ‘***’ 0.001 ‘**’ 0.01 ‘*’ 0.05 ‘.’ 0.1 ‘ ’ 1\n",
       "\n",
       "Total Sum of Squares:    9913.6\n",
       "Residual Sum of Squares: 8557.3\n",
       "R-Squared:      0.13681\n",
       "Adj. R-Squared: 0.11886\n",
       "Chisq: 91.4516 on 12 DF, p-value: 2.5835e-14"
      ]
     },
     "metadata": {},
     "output_type": "display_data"
    }
   ],
   "source": [
    "# Random Effects Regressions\n",
    "re = plm(Effort~e1+prize+E1timesPrize+TT2+TT3+TT4+TT5+TT6+TT7+TT8+TT9+TT10, data = pdf, model = \"random\")\n",
    "re_pref = plm(Effort~e1+prize+E1timesPrize+TT2+TT3+TT4+TT5+TT6+TT7+TT8+TT9+TT10, data = pdf_pref, model = \"random\")\n",
    "# Fixed Effects Regressions\n",
    "fe = plm(Effort~e1+prize+E1timesPrize+TT2+TT3+TT4+TT5+TT6+TT7+TT8+TT9+TT10, data = pdf, model = \"within\")\n",
    "fe_pref = plm(Effort~e1+prize+E1timesPrize+TT2+TT3+TT4+TT5+TT6+TT7+TT8+TT9+TT10, data = pdf_pref, model = \"within\")\n",
    "# Robustness\n",
    "re_pref_wo_prices = plm(Effort~e1+TT2+TT3+TT4+TT5+TT6+TT7+TT8+TT9+TT10, data = pdf_pref, model = \"random\")\n",
    "split_interaction = plm(Effort~e1+prize+last+first+TT2+TT3+TT4+TT5+TT6+TT7+TT8+TT9+TT10, data = split, model = \"random\")"
   ]
  },
  {
   "cell_type": "code",
   "execution_count": 20,
   "metadata": {},
   "outputs": [
    {
     "data": {
      "text/plain": [
       "                 var std.dev share\n",
       "idiosyncratic 14.638   3.826 0.339\n",
       "individual    28.537   5.342 0.661\n",
       "theta: 0.7791"
      ]
     },
     "metadata": {},
     "output_type": "display_data"
    }
   ],
   "source": [
    "# Hausman Test testing the Random Effects assumption\n",
    "hausman <- phtest(fe,re)\n",
    "hausman_pref <- phtest(fe_pref,re_pref)\n",
    "\n",
    "# Compute the Random Effect Standar Errors\n",
    "\n",
    "se_re_pref <- ercomp(re_pref)\n",
    "se_re <- ercomp(re)\n",
    "\n",
    "# Test eaulity of the interaction term for the first and the last five rounds.\n",
    "\n",
    "#linearHypothesis(split_interaction, c(\"first=last\"))"
   ]
  },
  {
   "cell_type": "code",
   "execution_count": 28,
   "metadata": {},
   "outputs": [
    {
     "name": "stdout",
     "output_type": "stream",
     "text": [
      "\n",
      "Random Effects Regressions\n",
      "=======================================================\n",
      "                               Dependent variable:     \n",
      "                           ----------------------------\n",
      "                               Second Mover Effort     \n",
      "                           Preferred Sample Full Sample\n",
      "                                 (1)            (2)    \n",
      "-------------------------------------------------------\n",
      "First Mover Effort              0.044          0.047   \n",
      "                               (0.049)        (0.049)  \n",
      "Prize                          1.639***      1.655***  \n",
      "                               (0.602)        (0.592)  \n",
      "Prize x First Mover effort     -0.049**      -0.050**  \n",
      "                               (0.023)        (0.023)  \n",
      "Intercept                     19.777***      19.392*** \n",
      "                               (1.400)        (1.447)  \n",
      "-------------------------------------------------------\n",
      "Observations                     590            600    \n",
      "R2                              0.137          0.135   \n",
      "Adjusted R2                     0.119          0.117   \n",
      "F Statistic                   91.452***      91.268*** \n",
      "=======================================================\n",
      "Note:                       *p<0.1; **p<0.05; ***p<0.01\n",
      "\n",
      "Fixed Effects Regressions\n",
      "==========================================================================\n",
      "                                         Dependent variable:              \n",
      "                           -----------------------------------------------\n",
      "                                         Second Mover Effort              \n",
      "                              Preferred Sample           Full Sample      \n",
      "                                     (1)                     (2)          \n",
      "--------------------------------------------------------------------------\n",
      "First Mover Effort                  0.047                   0.050         \n",
      "                                   (0.050)                 (0.049)        \n",
      "Prize                             1.716***                1.701***        \n",
      "                                   (0.605)                 (0.594)        \n",
      "Prize x First Mover effort        -0.051**                -0.051**        \n",
      "                                   (0.024)                 (0.023)        \n",
      "--------------------------------------------------------------------------\n",
      "Observations                         590                     600          \n",
      "R2                                  0.151                   0.148         \n",
      "Adjusted R2                         0.037                   0.034         \n",
      "F Statistic                7.709*** (df = 12; 519) 7.655*** (df = 12; 528)\n",
      "==========================================================================\n",
      "Note:                                          *p<0.1; **p<0.05; ***p<0.01\n"
     ]
    }
   ],
   "source": [
    "stargazer(re_pref, re, type=\"text\", title=\"Random Effects Regressions\",\n",
    "          dep.var.labels=\"Second Mover Effort\",\n",
    "          omit=c(\"TT2\",\"TT3\",\"TT4\",\"TT5\",\"TT6\",\"TT7\",\"TT8\",\"TT9\",\"TT10\"),\n",
    "          covariate.labels=c(\"First Mover Effort\", \"Prize\", \"Prize x First Mover effort\",\"Intercept\"),\n",
    "          column.labels=c(\"Preferred Sample\", \"Full Sample\"),\n",
    "          no.space=TRUE)\n",
    "stargazer(fe_pref,fe, type=\"text\", title=\"Fixed Effects Regressions\",\n",
    "          dep.var.labels=\"Second Mover Effort\",\n",
    "          omit=c(\"TT2\",\"TT3\",\"TT4\",\"TT5\",\"TT6\",\"TT7\",\"TT8\",\"TT9\",\"TT10\"),\n",
    "          covariate.labels=c(\"First Mover Effort\", \"Prize\", \"Prize x First Mover effort\",\"Intercept\"),\n",
    "          column.labels=c(\"Preferred Sample\", \"Full Sample\"),\n",
    "          no.space=TRUE)"
   ]
  },
  {
   "cell_type": "code",
   "execution_count": 20,
   "metadata": {},
   "outputs": [
    {
     "name": "stdout",
     "output_type": "stream",
     "text": [
      "\n",
      "dltmth> ## Simple linear regression, E(y) = alpha + beta x \n",
      "dltmth> x <- 1:100\n",
      "\n",
      "dltmth> y <- rnorm(100, 4*x, 5)\n",
      "\n",
      "dltmth> toy.lm <- lm(y ~ x)\n",
      "\n",
      "dltmth> estmean <- coef(toy.lm)\n",
      "\n",
      "dltmth> estvar <- summary(toy.lm)$cov.unscaled * summary(toy.lm)$sigma^2\n",
      "\n",
      "dltmth> ## Estimate of (1 / (alphahat + betahat))\n",
      "dltmth> 1 / (estmean[1] + estmean[2])\n",
      "(Intercept) \n",
      "  0.2146277 \n",
      "\n",
      "dltmth> ## Approximate standard error\n",
      "dltmth> deltamethod (~ 1 / (x1 + x2), estmean, estvar) \n",
      "[1] 0.04328042\n",
      "\n",
      "dltmth> ## We have a variable z we would like to use within the formula.\n",
      "dltmth> z <- 1\n",
      "\n",
      "dltmth> ## deltamethod (~ z / (x1 + x2), estmean, estvar) will not work.\n",
      "dltmth> ## Instead, build up the formula as a string, and convert to a formula.\n",
      "dltmth> form <- sprintf(\"~ %f / (x1 + x2)\", z)\n",
      "\n",
      "dltmth> form\n",
      "[1] \"~ 1.000000 / (x1 + x2)\"\n",
      "\n",
      "dltmth> deltamethod(as.formula(form), estmean, estvar)\n",
      "[1] 0.04328042\n"
     ]
    }
   ],
   "source": [
    "%%R \n",
    "example(deltamethod)"
   ]
  },
  {
   "cell_type": "code",
   "execution_count": 119,
   "metadata": {},
   "outputs": [
    {
     "ename": "TypeError",
     "evalue": "calc_autocorrelation() missing 1 required positional argument: 'df'",
     "output_type": "error",
     "traceback": [
      "\u001b[0;31m---------------------------------------------------------------------------\u001b[0m",
      "\u001b[0;31mTypeError\u001b[0m                                 Traceback (most recent call last)",
      "\u001b[0;32m<ipython-input-119-e4d2ff3a06aa>\u001b[0m in \u001b[0;36m<module>\u001b[0;34m\u001b[0m\n\u001b[1;32m      1\u001b[0m calc_moments = {\n\u001b[1;32m      2\u001b[0m     \u001b[0;34m'effort_std'\u001b[0m\u001b[0;34m:\u001b[0m \u001b[0meffort_std\u001b[0m\u001b[0;34m,\u001b[0m\u001b[0;34m\u001b[0m\u001b[0;34m\u001b[0m\u001b[0m\n\u001b[0;32m----> 3\u001b[0;31m     \u001b[0;34m'corr_round_lag1'\u001b[0m\u001b[0;34m:\u001b[0m \u001b[0mcalc_autocorrelation\u001b[0m\u001b[0;34m(\u001b[0m\u001b[0mlag\u001b[0m\u001b[0;34m=\u001b[0m\u001b[0;36m1\u001b[0m\u001b[0;34m)\u001b[0m\u001b[0;34m,\u001b[0m\u001b[0;34m\u001b[0m\u001b[0;34m\u001b[0m\u001b[0m\n\u001b[0m\u001b[1;32m      4\u001b[0m     \u001b[0;34m'corr_round_lag2'\u001b[0m\u001b[0;34m:\u001b[0m \u001b[0mcalc_autocorrelation\u001b[0m\u001b[0;34m(\u001b[0m\u001b[0mlag\u001b[0m\u001b[0;34m=\u001b[0m\u001b[0;36m2\u001b[0m\u001b[0;34m)\u001b[0m\u001b[0;34m,\u001b[0m\u001b[0;34m\u001b[0m\u001b[0;34m\u001b[0m\u001b[0m\n\u001b[1;32m      5\u001b[0m     \u001b[0;34m'mean_period_1'\u001b[0m\u001b[0;34m:\u001b[0m \u001b[0mperiod_average\u001b[0m\u001b[0;34m(\u001b[0m\u001b[0mperiod\u001b[0m\u001b[0;34m=\u001b[0m\u001b[0;36m1\u001b[0m\u001b[0;34m)\u001b[0m\u001b[0;34m,\u001b[0m\u001b[0;34m\u001b[0m\u001b[0;34m\u001b[0m\u001b[0m\n",
      "\u001b[0;31mTypeError\u001b[0m: calc_autocorrelation() missing 1 required positional argument: 'df'"
     ]
    }
   ],
   "source": [
    "calc_moments = {\n",
    "    'effort_std': effort_std,\n",
    "    'corr_round_lag1': calc_autocorrelation(lag=1),\n",
    "    'corr_round_lag2': calc_autocorrelation(lag=2),\n",
    "    'mean_period_1': period_average(period=1),\n",
    "    'mean_period_2': period_average(period=2),\n",
    "    'mean_period_3': period_average(period=3),\n",
    "    'mean_period_4': period_average(period=4),\n",
    "    'mean_period_5': period_average(period=5),\n",
    "    'mean_period_6': period_average(period=6),\n",
    "    'mean_period_7': period_average(period=7),\n",
    "    'mean_period_8': period_average(period=8),\n",
    "    'mean_period_9': period_average(period=9),\n",
    "    'mean_period_10': period_average(period=10),\n",
    "    'cond_corr_e2_prize': cond_corr_e2_prize,\n",
    "    'cond_corr_e2_e1': cond_corr_e2_e1,\n",
    "    'cond_corr_e2_e1timesprize': cond_corr_e2_e1timesprize,\n",
    "    'low_effort_low_prize': low_effort_low_prize,\n",
    "    'low_effort_high_prize': low_effort_high_prize,\n",
    "    'high_effort_low_prize': high_effort_low_prize,\n",
    "    'high_effort_high_prize': high_effort_high_prize   \n",
    "}"
   ]
  },
  {
   "cell_type": "code",
   "execution_count": 91,
   "metadata": {},
   "outputs": [
    {
     "data": {
      "text/plain": [
       "{'effort_std': 5.8745832443237305,\n",
       " 'corr_round_lag1': 0.12337959960751589,\n",
       " 'corr_round_lag2': 0.12054900955060942,\n",
       " 'mean_period_1': 21.762712478637695,\n",
       " 'mean_period_2': 23.457626342773438,\n",
       " 'mean_period_3': 24.830509185791016,\n",
       " 'mean_period_4': 25.20339012145996,\n",
       " 'mean_period_5': 25.11864471435547,\n",
       " 'mean_period_6': 24.898305892944336,\n",
       " 'mean_period_7': 25.762712478637695,\n",
       " 'mean_period_8': 26.169490814208984,\n",
       " 'mean_period_9': 26.25423812866211,\n",
       " 'mean_period_10': 26.72881317138672,\n",
       " 'cond_corr_e2_prize': 0.1236141575995363,\n",
       " 'cond_corr_e2_e1': 0.04149206717166186,\n",
       " 'cond_corr_e2_e1timesprize': -0.09501348232241309,\n",
       " 'perc17_cond_corr_e2_prize': -0.29095577621732915,\n",
       " 'perc33_cond_corr_e2_prize': -0.08250118026521103,\n",
       " 'perc50_cond_corr_e2_prize': 0.09475994482895361,\n",
       " 'perc66_cond_corr_e2_prize': 0.26428143435477913,\n",
       " 'perc83_cond_corr_e2_prize': 0.4819769253630361,\n",
       " 'perc17_cond_corr_e2_e1': -0.3221111416760052,\n",
       " 'perc33_cond_corr_e2_e1': -0.15190977093980343,\n",
       " 'perc50_cond_corr_e2_e1': 0.08107796259087016,\n",
       " 'perc66_cond_corr_e2_e1': 0.21904424233925732,\n",
       " 'perc83_cond_corr_e2_e1': 0.38620508483717136,\n",
       " 'perc17_cond_corr_e2_e1timesprize': -0.4695391808161019,\n",
       " 'perc33_cond_corr_e2_e1timesprize': -0.25394528027343577,\n",
       " 'perc50_cond_corr_e2_e1timesprize': -0.01521995049268344,\n",
       " 'perc66_cond_corr_e2_e1timesprize': 0.09407485178873781,\n",
       " 'perc83_cond_corr_e2_e1timesprize': 0.2491701538136854,\n",
       " 'low_effort_low_prize': 23.75757598876953,\n",
       " 'low_effort_high_prize': 25.63157844543457,\n",
       " 'high_effort_low_prize': 25.079999923706055,\n",
       " 'high_effort_high_prize': 24.859375,\n",
       " 'low_effort_prop': 0.0288135593220339,\n",
       " 'high_effort_prop': 0.015254237288135594}"
      ]
     },
     "execution_count": 91,
     "metadata": {},
     "output_type": "execute_result"
    }
   ],
   "source": [
    "observed_moments = {\n",
    "    'effort_std': effort_std(df_2_pref),\n",
    "    'corr_round_lag1': calc_autocorrelation(df_2_pref,lag=1),\n",
    "    'corr_round_lag2': calc_autocorrelation(df_2_pref,lag=2),\n",
    "    'mean_period_1': period_average(df_2_pref, period=1),\n",
    "    'mean_period_2': period_average(df_2_pref, period=2),\n",
    "    'mean_period_3': period_average(df_2_pref, period=3),\n",
    "    'mean_period_4': period_average(df_2_pref, period=4),\n",
    "    'mean_period_5': period_average(df_2_pref, period=5),\n",
    "    'mean_period_6': period_average(df_2_pref, period=6),\n",
    "    'mean_period_7': period_average(df_2_pref, period=7),\n",
    "    'mean_period_8': period_average(df_2_pref, period=8),\n",
    "    'mean_period_9': period_average(df_2_pref, period=9),\n",
    "    'mean_period_10': period_average(df_2_pref, period=10),\n",
    "    'cond_corr_e2_prize': cond_corr_e2_prize(df_2_pref),\n",
    "    'cond_corr_e2_e1': cond_corr_e2_e1(df_2_pref),\n",
    "    'cond_corr_e2_e1timesprize': cond_corr_e2_e1timesprize(df_2_pref),\n",
    "    'perc17_cond_corr_e2_prize': j_perc_cond_corr_e2_prize(df_2_pref, perc=17),\n",
    "    'perc33_cond_corr_e2_prize': j_perc_cond_corr_e2_prize(df_2_pref, perc=33),\n",
    "    'perc50_cond_corr_e2_prize': j_perc_cond_corr_e2_prize(df_2_pref, perc=50),\n",
    "    'perc66_cond_corr_e2_prize': j_perc_cond_corr_e2_prize(df_2_pref, perc=66),\n",
    "    'perc83_cond_corr_e2_prize': j_perc_cond_corr_e2_prize(df_2_pref, perc=83),\n",
    "    'perc17_cond_corr_e2_e1': j_perc_cond_corr_e2_e1(df_2_pref, perc=17),\n",
    "    'perc33_cond_corr_e2_e1': j_perc_cond_corr_e2_e1(df_2_pref, perc=33),\n",
    "    'perc50_cond_corr_e2_e1': j_perc_cond_corr_e2_e1(df_2_pref, perc=50),\n",
    "    'perc66_cond_corr_e2_e1': j_perc_cond_corr_e2_e1(df_2_pref, perc=66),\n",
    "    'perc83_cond_corr_e2_e1': j_perc_cond_corr_e2_e1(df_2_pref, perc=83),\n",
    "    'perc17_cond_corr_e2_e1timesprize': j_perc_cond_corr_e2_e1timesprize(df_2_pref, perc=17),\n",
    "    'perc33_cond_corr_e2_e1timesprize': j_perc_cond_corr_e2_e1timesprize(df_2_pref, perc=33),\n",
    "    'perc50_cond_corr_e2_e1timesprize': j_perc_cond_corr_e2_e1timesprize(df_2_pref, perc=50),\n",
    "    'perc66_cond_corr_e2_e1timesprize': j_perc_cond_corr_e2_e1timesprize(df_2_pref, perc=66),\n",
    "    'perc83_cond_corr_e2_e1timesprize': j_perc_cond_corr_e2_e1timesprize(df_2_pref, perc=83),   \n",
    "    'low_effort_low_prize': low_effort_low_prize(df_2_pref),\n",
    "    'low_effort_high_prize': low_effort_high_prize(df_2_pref),\n",
    "    'high_effort_low_prize': high_effort_low_prize(df_2_pref),\n",
    "    'high_effort_high_prize': high_effort_high_prize(df_2_pref),\n",
    "    'low_effort_prop': low_effort_prop(df_2_pref),\n",
    "    'high_effort_prop': high_effort_prop(df_2_pref)\n",
    "}\n",
    "observed_moments"
   ]
  },
  {
   "cell_type": "code",
   "execution_count": 83,
   "metadata": {},
   "outputs": [
    {
     "data": {
      "text/plain": [
       "0.12323523246681957"
      ]
     },
     "execution_count": 83,
     "metadata": {},
     "output_type": "execute_result"
    }
   ],
   "source": [
    "df_resid = pd.DataFrame(columns=['e2_resid', 'prize_resid'],index=df_2_pref.index)\n",
    "for label in ['e2','prize']:\n",
    "    column, formula = f'{label}_resid', f'{label}~e1+e1timesprize'\n",
    "    df_resid.loc[:,column] = FirstDifferenceOLS.from_formula(formula, data=df_2_pref).fit().resids\n",
    "df_resid.reset_index(inplace=True)\n",
    "dfs = dict()\n",
    "for sub in df_resid['subject'].unique():\n",
    "    dfs[f'{sub}'] = df_resid.query(f'subject == {sub}')\n",
    "cond_corr = list()\n",
    "for key in dfs:\n",
    "    cond_corr.append(dfs[key]['e2_resid'].corr(dfs[key]['prize_resid']))\n",
    "np.percentile(cond_corr, 50)"
   ]
  },
  {
   "cell_type": "code",
   "execution_count": 84,
   "metadata": {},
   "outputs": [
    {
     "data": {
      "text/plain": [
       "0.11900800100441096"
      ]
     },
     "execution_count": 84,
     "metadata": {},
     "output_type": "execute_result"
    }
   ],
   "source": [
    "df_resid = pd.DataFrame(columns=['e2_resid', 'prize_resid'],index=df_2_pref.index)\n",
    "for label in ['e2','prize']:\n",
    "    column, formula = f'{label}_resid', f'{label}~e1+e1timesprize+TimeEffects'\n",
    "    df_resid.loc[:,column] = PanelOLS.from_formula(formula, data=df_2_pref).fit().resids\n",
    "df_resid.reset_index(inplace=True)\n",
    "dfs = dict()\n",
    "for sub in df_resid['subject'].unique():\n",
    "    dfs[f'{sub}'] = df_resid.query(f'subject == {sub}')\n",
    "cond_corr = list()\n",
    "for key in dfs:\n",
    "    cond_corr.append(dfs[key]['e2_resid'].corr(dfs[key]['prize_resid']))\n",
    "correlation_s = pd.Series(cond_corr)\n",
    "np.percentile(cond_corr, 50)\n",
    "correlation_s.mean()"
   ]
  },
  {
   "cell_type": "code",
   "execution_count": null,
   "metadata": {},
   "outputs": [],
   "source": []
  }
 ],
 "metadata": {
  "kernelspec": {
   "display_name": "Python 3",
   "language": "python",
   "name": "python3"
  },
  "language_info": {
   "codemirror_mode": {
    "name": "ipython",
    "version": 3
   },
   "file_extension": ".py",
   "mimetype": "text/x-python",
   "name": "python",
   "nbconvert_exporter": "python",
   "pygments_lexer": "ipython3",
   "version": "3.7.4"
  }
 },
 "nbformat": 4,
 "nbformat_minor": 4
}
